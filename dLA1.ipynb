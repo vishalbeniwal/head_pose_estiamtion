{
 "cells": [
  {
   "cell_type": "markdown",
   "metadata": {},
   "source": [
    "<div align=\"right\">Student Name: <b>Vishal Beniwal</b><br>Student Number: <b>s3759790</b><br>Subject Code: <b>COSC 2779</b></div>\n",
    "\n",
    "# Deep Learning Assignment 1\n",
    "## Head Pose Estimation\n",
    "\n",
    "<h3> Notebook 1 </h3>\n",
    "\n",
    "This Notebook will take you through the steps followed to build a model to __predict the tilt__ in the head pose using the dataset given"
   ]
  },
  {
   "cell_type": "code",
   "execution_count": 1,
   "metadata": {},
   "outputs": [
    {
     "name": "stdout",
     "output_type": "stream",
     "text": [
      "WARNING:tensorflow:From /home/ec2-user/anaconda3/envs/tensorflow_p36/lib/python3.6/site-packages/tensorflow_core/__init__.py:1473: The name tf.estimator.inputs is deprecated. Please use tf.compat.v1.estimator.inputs instead.\n",
      "\n"
     ]
    }
   ],
   "source": [
    "#Importing the required libraries\n",
    "import tensorflow as tf\n",
    "AUTOTUNE = tf.data.experimental.AUTOTUNE\n",
    "\n",
    "import IPython.display as display\n",
    "from PIL import Image\n",
    "import numpy as np\n",
    "import matplotlib.pyplot as plt\n",
    "import os\n",
    "\n",
    "import pandas as pd\n",
    "\n",
    "import warnings\n",
    "warnings.filterwarnings('ignore')"
   ]
  },
  {
   "cell_type": "markdown",
   "metadata": {},
   "source": [
    "## Load & Prepare The Dataset\n",
    "\n",
    "This section of the notebook shows the steps taken to load and prepare the given data for modeling. The dataset was uploaded into the notebook work environment and unzipped using the following code."
   ]
  },
  {
   "cell_type": "code",
   "execution_count": 2,
   "metadata": {},
   "outputs": [],
   "source": [
    "#Unzipping the upload zip folder\n",
    "import zipfile\n",
    "with zipfile.ZipFile('modified_data.zip', 'r') as zip_ref:\n",
    "    zip_ref.extractall('./')"
   ]
  },
  {
   "cell_type": "code",
   "execution_count": 3,
   "metadata": {},
   "outputs": [],
   "source": [
    "raw_data = pd.read_csv('train_data.csv') "
   ]
  },
  {
   "cell_type": "code",
   "execution_count": 4,
   "metadata": {},
   "outputs": [
    {
     "data": {
      "text/html": [
       "<div>\n",
       "<style scoped>\n",
       "    .dataframe tbody tr th:only-of-type {\n",
       "        vertical-align: middle;\n",
       "    }\n",
       "\n",
       "    .dataframe tbody tr th {\n",
       "        vertical-align: top;\n",
       "    }\n",
       "\n",
       "    .dataframe thead th {\n",
       "        text-align: right;\n",
       "    }\n",
       "</style>\n",
       "<table border=\"1\" class=\"dataframe\">\n",
       "  <thead>\n",
       "    <tr style=\"text-align: right;\">\n",
       "      <th></th>\n",
       "      <th>filename</th>\n",
       "      <th>person_id</th>\n",
       "      <th>series</th>\n",
       "      <th>tilt</th>\n",
       "      <th>pan</th>\n",
       "    </tr>\n",
       "  </thead>\n",
       "  <tbody>\n",
       "    <tr>\n",
       "      <th>0</th>\n",
       "      <td>face_790.jpg</td>\n",
       "      <td>5</td>\n",
       "      <td>1</td>\n",
       "      <td>-15</td>\n",
       "      <td>30</td>\n",
       "    </tr>\n",
       "    <tr>\n",
       "      <th>1</th>\n",
       "      <td>face_2445.jpg</td>\n",
       "      <td>5</td>\n",
       "      <td>1</td>\n",
       "      <td>0</td>\n",
       "      <td>-75</td>\n",
       "    </tr>\n",
       "    <tr>\n",
       "      <th>2</th>\n",
       "      <td>face_2266.jpg</td>\n",
       "      <td>5</td>\n",
       "      <td>2</td>\n",
       "      <td>-15</td>\n",
       "      <td>-60</td>\n",
       "    </tr>\n",
       "    <tr>\n",
       "      <th>3</th>\n",
       "      <td>face_2713.jpg</td>\n",
       "      <td>5</td>\n",
       "      <td>2</td>\n",
       "      <td>0</td>\n",
       "      <td>-90</td>\n",
       "    </tr>\n",
       "    <tr>\n",
       "      <th>4</th>\n",
       "      <td>face_2016.jpg</td>\n",
       "      <td>5</td>\n",
       "      <td>2</td>\n",
       "      <td>15</td>\n",
       "      <td>-75</td>\n",
       "    </tr>\n",
       "  </tbody>\n",
       "</table>\n",
       "</div>"
      ],
      "text/plain": [
       "        filename  person_id  series  tilt  pan\n",
       "0   face_790.jpg          5       1   -15   30\n",
       "1  face_2445.jpg          5       1     0  -75\n",
       "2  face_2266.jpg          5       2   -15  -60\n",
       "3  face_2713.jpg          5       2     0  -90\n",
       "4  face_2016.jpg          5       2    15  -75"
      ]
     },
     "execution_count": 4,
     "metadata": {},
     "output_type": "execute_result"
    }
   ],
   "source": [
    "raw_data.head()"
   ]
  },
  {
   "cell_type": "markdown",
   "metadata": {},
   "source": [
    "Following code iterate through the data folders and read all the image names to create a data frame with their file path and name"
   ]
  },
  {
   "cell_type": "code",
   "execution_count": 5,
   "metadata": {},
   "outputs": [],
   "source": [
    "from PIL import Image\n",
    "import glob\n",
    "\n",
    "image_list = []\n",
    "for filepath in glob.glob('modified_data/*.jpg', recursive=True):\n",
    "   \n",
    "    filename = filepath.split(\"/\")[-1]\n",
    "    image_list.append((filepath,filename))  \n",
    "                      \n",
    "# Create a data frame\n",
    "data = pd.DataFrame(data=image_list, columns=['filepath','filename'])"
   ]
  },
  {
   "cell_type": "code",
   "execution_count": 6,
   "metadata": {},
   "outputs": [
    {
     "data": {
      "text/html": [
       "<div>\n",
       "<style scoped>\n",
       "    .dataframe tbody tr th:only-of-type {\n",
       "        vertical-align: middle;\n",
       "    }\n",
       "\n",
       "    .dataframe tbody tr th {\n",
       "        vertical-align: top;\n",
       "    }\n",
       "\n",
       "    .dataframe thead th {\n",
       "        text-align: right;\n",
       "    }\n",
       "</style>\n",
       "<table border=\"1\" class=\"dataframe\">\n",
       "  <thead>\n",
       "    <tr style=\"text-align: right;\">\n",
       "      <th></th>\n",
       "      <th>filepath</th>\n",
       "      <th>filename</th>\n",
       "    </tr>\n",
       "  </thead>\n",
       "  <tbody>\n",
       "    <tr>\n",
       "      <th>0</th>\n",
       "      <td>modified_data/face_1982.jpg</td>\n",
       "      <td>face_1982.jpg</td>\n",
       "    </tr>\n",
       "    <tr>\n",
       "      <th>1</th>\n",
       "      <td>modified_data/face_1905.jpg</td>\n",
       "      <td>face_1905.jpg</td>\n",
       "    </tr>\n",
       "    <tr>\n",
       "      <th>2</th>\n",
       "      <td>modified_data/face_396.jpg</td>\n",
       "      <td>face_396.jpg</td>\n",
       "    </tr>\n",
       "    <tr>\n",
       "      <th>3</th>\n",
       "      <td>modified_data/face_1648.jpg</td>\n",
       "      <td>face_1648.jpg</td>\n",
       "    </tr>\n",
       "    <tr>\n",
       "      <th>4</th>\n",
       "      <td>modified_data/face_854.jpg</td>\n",
       "      <td>face_854.jpg</td>\n",
       "    </tr>\n",
       "  </tbody>\n",
       "</table>\n",
       "</div>"
      ],
      "text/plain": [
       "                      filepath       filename\n",
       "0  modified_data/face_1982.jpg  face_1982.jpg\n",
       "1  modified_data/face_1905.jpg  face_1905.jpg\n",
       "2   modified_data/face_396.jpg   face_396.jpg\n",
       "3  modified_data/face_1648.jpg  face_1648.jpg\n",
       "4   modified_data/face_854.jpg   face_854.jpg"
      ]
     },
     "execution_count": 6,
     "metadata": {},
     "output_type": "execute_result"
    }
   ],
   "source": [
    "data.head()"
   ]
  },
  {
   "cell_type": "markdown",
   "metadata": {},
   "source": [
    "<h3>Preprocessing the images</h3>\n",
    "\n",
    "1. Resizing the images to 32x32 for faster computation\n",
    "2. Converting them to gray color which brings down the channels in the image from three to one"
   ]
  },
  {
   "cell_type": "code",
   "execution_count": 7,
   "metadata": {},
   "outputs": [],
   "source": [
    "import cv2\n",
    "import os\n",
    "\n",
    "for filepath in glob.glob('modified_data/*.jpg', recursive=True):\n",
    "    \n",
    "    img = cv2.imread(filepath)\n",
    "    gray = cv2.cvtColor(img, cv2.COLOR_BGR2GRAY)\n",
    "    img_resized = cv2.resize(gray,(32,32) , interpolation = cv2.INTER_AREA)\n",
    "    img_resized.view\n",
    "    cv2.imwrite(os.path.join(filepath), img_resized)"
   ]
  },
  {
   "cell_type": "markdown",
   "metadata": {},
   "source": [
    "Following code will pick and plot any 4 random images from the datatset for the validation of changes made"
   ]
  },
  {
   "cell_type": "code",
   "execution_count": 8,
   "metadata": {},
   "outputs": [
    {
     "data": {
      "image/png": "[encoded data removed]",
      "text/plain": [
       "<Figure size 1152x288 with 4 Axes>"
      ]
     },
     "metadata": {
      "needs_background": "light"
     },
     "output_type": "display_data"
    }
   ],
   "source": [
    "random_index = np.random.choice(100, 4)\n",
    "rand_data = data.loc[random_index,'filepath']\n",
    "\n",
    "plt.figure(figsize=(16,4))\n",
    "for i, filename in enumerate(rand_data):\n",
    "    im = np.asarray(Image.open(filename))\n",
    "    plt.subplot(1,4,i+1)\n",
    "    plt.imshow(im,cmap='gray')\n",
    "    plt.axis('off')\n",
    "    \n",
    "    \n",
    "plt.show()"
   ]
  },
  {
   "cell_type": "code",
   "execution_count": 9,
   "metadata": {},
   "outputs": [],
   "source": [
    "train_data = pd.merge(raw_data,data, on='filename')"
   ]
  },
  {
   "cell_type": "markdown",
   "metadata": {},
   "source": [
    "<h3> Data Exploration </h3>"
   ]
  },
  {
   "cell_type": "code",
   "execution_count": 10,
   "metadata": {},
   "outputs": [
    {
     "data": {
      "text/html": [
       "<div>\n",
       "<style scoped>\n",
       "    .dataframe tbody tr th:only-of-type {\n",
       "        vertical-align: middle;\n",
       "    }\n",
       "\n",
       "    .dataframe tbody tr th {\n",
       "        vertical-align: top;\n",
       "    }\n",
       "\n",
       "    .dataframe thead th {\n",
       "        text-align: right;\n",
       "    }\n",
       "</style>\n",
       "<table border=\"1\" class=\"dataframe\">\n",
       "  <thead>\n",
       "    <tr style=\"text-align: right;\">\n",
       "      <th></th>\n",
       "      <th>filename</th>\n",
       "      <th>person_id</th>\n",
       "      <th>series</th>\n",
       "      <th>tilt</th>\n",
       "      <th>pan</th>\n",
       "      <th>filepath</th>\n",
       "    </tr>\n",
       "  </thead>\n",
       "  <tbody>\n",
       "    <tr>\n",
       "      <th>0</th>\n",
       "      <td>face_790.jpg</td>\n",
       "      <td>5</td>\n",
       "      <td>1</td>\n",
       "      <td>-15</td>\n",
       "      <td>30</td>\n",
       "      <td>modified_data/face_790.jpg</td>\n",
       "    </tr>\n",
       "    <tr>\n",
       "      <th>1</th>\n",
       "      <td>face_2445.jpg</td>\n",
       "      <td>5</td>\n",
       "      <td>1</td>\n",
       "      <td>0</td>\n",
       "      <td>-75</td>\n",
       "      <td>modified_data/face_2445.jpg</td>\n",
       "    </tr>\n",
       "    <tr>\n",
       "      <th>2</th>\n",
       "      <td>face_2266.jpg</td>\n",
       "      <td>5</td>\n",
       "      <td>2</td>\n",
       "      <td>-15</td>\n",
       "      <td>-60</td>\n",
       "      <td>modified_data/face_2266.jpg</td>\n",
       "    </tr>\n",
       "    <tr>\n",
       "      <th>3</th>\n",
       "      <td>face_2713.jpg</td>\n",
       "      <td>5</td>\n",
       "      <td>2</td>\n",
       "      <td>0</td>\n",
       "      <td>-90</td>\n",
       "      <td>modified_data/face_2713.jpg</td>\n",
       "    </tr>\n",
       "    <tr>\n",
       "      <th>4</th>\n",
       "      <td>face_2016.jpg</td>\n",
       "      <td>5</td>\n",
       "      <td>2</td>\n",
       "      <td>15</td>\n",
       "      <td>-75</td>\n",
       "      <td>modified_data/face_2016.jpg</td>\n",
       "    </tr>\n",
       "  </tbody>\n",
       "</table>\n",
       "</div>"
      ],
      "text/plain": [
       "        filename  person_id  series  tilt  pan                     filepath\n",
       "0   face_790.jpg          5       1   -15   30   modified_data/face_790.jpg\n",
       "1  face_2445.jpg          5       1     0  -75  modified_data/face_2445.jpg\n",
       "2  face_2266.jpg          5       2   -15  -60  modified_data/face_2266.jpg\n",
       "3  face_2713.jpg          5       2     0  -90  modified_data/face_2713.jpg\n",
       "4  face_2016.jpg          5       2    15  -75  modified_data/face_2016.jpg"
      ]
     },
     "execution_count": 10,
     "metadata": {},
     "output_type": "execute_result"
    }
   ],
   "source": [
    "train_data.head()"
   ]
  },
  {
   "cell_type": "code",
   "execution_count": 11,
   "metadata": {},
   "outputs": [
    {
     "data": {
      "text/plain": [
       "(2325, 6)"
      ]
     },
     "execution_count": 11,
     "metadata": {},
     "output_type": "execute_result"
    }
   ],
   "source": [
    "train_data.shape"
   ]
  },
  {
   "cell_type": "code",
   "execution_count": 12,
   "metadata": {},
   "outputs": [
    {
     "data": {
      "text/plain": [
       "array([ 5,  4,  3, 10, 11,  8,  6,  7,  9, 14, 13, 12, 15])"
      ]
     },
     "execution_count": 12,
     "metadata": {},
     "output_type": "execute_result"
    }
   ],
   "source": [
    "train_data['person_id'].unique()"
   ]
  },
  {
   "cell_type": "code",
   "execution_count": 13,
   "metadata": {},
   "outputs": [
    {
     "data": {
      "text/plain": [
       "array([1, 2])"
      ]
     },
     "execution_count": 13,
     "metadata": {},
     "output_type": "execute_result"
    }
   ],
   "source": [
    "train_data['series'].unique()"
   ]
  },
  {
   "cell_type": "code",
   "execution_count": 14,
   "metadata": {},
   "outputs": [
    {
     "data": {
      "text/plain": [
       "array([-15,   0,  15,  30, -60, -30,  90,  60, -90])"
      ]
     },
     "execution_count": 14,
     "metadata": {},
     "output_type": "execute_result"
    }
   ],
   "source": [
    "train_data['tilt'].unique()"
   ]
  },
  {
   "cell_type": "code",
   "execution_count": 15,
   "metadata": {},
   "outputs": [
    {
     "data": {
      "text/plain": [
       "array([ 30, -75, -60, -90,  60, -15, -45, -30,  90,  15,  45,   0,  75])"
      ]
     },
     "execution_count": 15,
     "metadata": {},
     "output_type": "execute_result"
    }
   ],
   "source": [
    "train_data['pan'].unique()"
   ]
  },
  {
   "cell_type": "code",
   "execution_count": 16,
   "metadata": {},
   "outputs": [
    {
     "data": {
      "text/plain": [
       "15    186\n",
       "13    186\n",
       "11    186\n",
       "9     186\n",
       "7     186\n",
       "5     186\n",
       "14    186\n",
       "12    186\n",
       "10    186\n",
       "8     186\n",
       "6     186\n",
       "4     186\n",
       "3      93\n",
       "Name: person_id, dtype: int64"
      ]
     },
     "execution_count": 16,
     "metadata": {},
     "output_type": "execute_result"
    }
   ],
   "source": [
    "train_data['person_id'].value_counts()"
   ]
  },
  {
   "cell_type": "code",
   "execution_count": 17,
   "metadata": {},
   "outputs": [
    {
     "data": {
      "text/plain": [
       "2    1209\n",
       "1    1116\n",
       "Name: series, dtype: int64"
      ]
     },
     "execution_count": 17,
     "metadata": {},
     "output_type": "execute_result"
    }
   ],
   "source": [
    "train_data['series'].value_counts()"
   ]
  },
  {
   "cell_type": "code",
   "execution_count": 18,
   "metadata": {},
   "outputs": [
    {
     "data": {
      "text/plain": [
       " 15    325\n",
       "-15    325\n",
       " 60    325\n",
       "-60    325\n",
       " 30    325\n",
       "-30    325\n",
       " 0     325\n",
       " 90     25\n",
       "-90     25\n",
       "Name: tilt, dtype: int64"
      ]
     },
     "execution_count": 18,
     "metadata": {},
     "output_type": "execute_result"
    }
   ],
   "source": [
    "train_data['tilt'].value_counts()"
   ]
  },
  {
   "cell_type": "code",
   "execution_count": 19,
   "metadata": {},
   "outputs": [],
   "source": [
    "train_data['tilt'] = train_data['tilt'].astype(str)"
   ]
  },
  {
   "cell_type": "code",
   "execution_count": 20,
   "metadata": {},
   "outputs": [
    {
     "data": {
      "text/plain": [
       "<matplotlib.axes._subplots.AxesSubplot at 0x7f7184612be0>"
      ]
     },
     "execution_count": 20,
     "metadata": {},
     "output_type": "execute_result"
    },
    {
     "data": {
      "image/png": "[encoded data removed]",
      "text/plain": [
       "<Figure size 432x288 with 1 Axes>"
      ]
     },
     "metadata": {
      "needs_background": "light"
     },
     "output_type": "display_data"
    }
   ],
   "source": [
    "import seaborn as sns\n",
    "sns.countplot(x='tilt', hue='series', data=train_data)"
   ]
  },
  {
   "cell_type": "markdown",
   "metadata": {},
   "source": [
    "Creating a subset of the data to classify only the tilt of the head"
   ]
  },
  {
   "cell_type": "code",
   "execution_count": 21,
   "metadata": {},
   "outputs": [],
   "source": [
    "tilt_train_data = train_data[['filepath','tilt']]"
   ]
  },
  {
   "cell_type": "code",
   "execution_count": 22,
   "metadata": {},
   "outputs": [
    {
     "data": {
      "text/html": [
       "<div>\n",
       "<style scoped>\n",
       "    .dataframe tbody tr th:only-of-type {\n",
       "        vertical-align: middle;\n",
       "    }\n",
       "\n",
       "    .dataframe tbody tr th {\n",
       "        vertical-align: top;\n",
       "    }\n",
       "\n",
       "    .dataframe thead th {\n",
       "        text-align: right;\n",
       "    }\n",
       "</style>\n",
       "<table border=\"1\" class=\"dataframe\">\n",
       "  <thead>\n",
       "    <tr style=\"text-align: right;\">\n",
       "      <th></th>\n",
       "      <th>filepath</th>\n",
       "      <th>tilt</th>\n",
       "    </tr>\n",
       "  </thead>\n",
       "  <tbody>\n",
       "    <tr>\n",
       "      <th>0</th>\n",
       "      <td>modified_data/face_790.jpg</td>\n",
       "      <td>-15</td>\n",
       "    </tr>\n",
       "    <tr>\n",
       "      <th>1</th>\n",
       "      <td>modified_data/face_2445.jpg</td>\n",
       "      <td>0</td>\n",
       "    </tr>\n",
       "    <tr>\n",
       "      <th>2</th>\n",
       "      <td>modified_data/face_2266.jpg</td>\n",
       "      <td>-15</td>\n",
       "    </tr>\n",
       "    <tr>\n",
       "      <th>3</th>\n",
       "      <td>modified_data/face_2713.jpg</td>\n",
       "      <td>0</td>\n",
       "    </tr>\n",
       "    <tr>\n",
       "      <th>4</th>\n",
       "      <td>modified_data/face_2016.jpg</td>\n",
       "      <td>15</td>\n",
       "    </tr>\n",
       "  </tbody>\n",
       "</table>\n",
       "</div>"
      ],
      "text/plain": [
       "                      filepath tilt\n",
       "0   modified_data/face_790.jpg  -15\n",
       "1  modified_data/face_2445.jpg    0\n",
       "2  modified_data/face_2266.jpg  -15\n",
       "3  modified_data/face_2713.jpg    0\n",
       "4  modified_data/face_2016.jpg   15"
      ]
     },
     "execution_count": 22,
     "metadata": {},
     "output_type": "execute_result"
    }
   ],
   "source": [
    "tilt_train_data.head()"
   ]
  },
  {
   "cell_type": "markdown",
   "metadata": {},
   "source": [
    "## Data Augmentation\n",
    "\n",
    "Augmentation has been done for only two class labels which initially had low data samples. The code in this section is going to augment new images and save it to a new directory. The augmented images will be then merged with the original dataset."
   ]
  },
  {
   "cell_type": "code",
   "execution_count": 23,
   "metadata": {},
   "outputs": [],
   "source": [
    "from tensorflow.keras.preprocessing.image import ImageDataGenerator\n",
    "from tensorflow.keras.preprocessing.image import ImageDataGenerator, img_to_array, load_img\n",
    "\n",
    "dataAugen = ImageDataGenerator(featurewise_center=True,width_shift_range=0.1,height_shift_range=0.1,zoom_range = 0.2,\n",
    "                               fill_mode = 'nearest',rescale=1./255, data_format='channels_last')\n"
   ]
  },
  {
   "cell_type": "code",
   "execution_count": 24,
   "metadata": {},
   "outputs": [
    {
     "data": {
      "text/html": [
       "<div>\n",
       "<style scoped>\n",
       "    .dataframe tbody tr th:only-of-type {\n",
       "        vertical-align: middle;\n",
       "    }\n",
       "\n",
       "    .dataframe tbody tr th {\n",
       "        vertical-align: top;\n",
       "    }\n",
       "\n",
       "    .dataframe thead th {\n",
       "        text-align: right;\n",
       "    }\n",
       "</style>\n",
       "<table border=\"1\" class=\"dataframe\">\n",
       "  <thead>\n",
       "    <tr style=\"text-align: right;\">\n",
       "      <th></th>\n",
       "      <th>filename</th>\n",
       "      <th>filepath</th>\n",
       "      <th>tilt</th>\n",
       "    </tr>\n",
       "  </thead>\n",
       "  <tbody>\n",
       "    <tr>\n",
       "      <th>0</th>\n",
       "      <td>face_790.jpg</td>\n",
       "      <td>modified_data/face_790.jpg</td>\n",
       "      <td>-15</td>\n",
       "    </tr>\n",
       "    <tr>\n",
       "      <th>1</th>\n",
       "      <td>face_2445.jpg</td>\n",
       "      <td>modified_data/face_2445.jpg</td>\n",
       "      <td>0</td>\n",
       "    </tr>\n",
       "    <tr>\n",
       "      <th>2</th>\n",
       "      <td>face_2266.jpg</td>\n",
       "      <td>modified_data/face_2266.jpg</td>\n",
       "      <td>-15</td>\n",
       "    </tr>\n",
       "    <tr>\n",
       "      <th>3</th>\n",
       "      <td>face_2713.jpg</td>\n",
       "      <td>modified_data/face_2713.jpg</td>\n",
       "      <td>0</td>\n",
       "    </tr>\n",
       "    <tr>\n",
       "      <th>4</th>\n",
       "      <td>face_2016.jpg</td>\n",
       "      <td>modified_data/face_2016.jpg</td>\n",
       "      <td>15</td>\n",
       "    </tr>\n",
       "  </tbody>\n",
       "</table>\n",
       "</div>"
      ],
      "text/plain": [
       "        filename                     filepath tilt\n",
       "0   face_790.jpg   modified_data/face_790.jpg  -15\n",
       "1  face_2445.jpg  modified_data/face_2445.jpg    0\n",
       "2  face_2266.jpg  modified_data/face_2266.jpg  -15\n",
       "3  face_2713.jpg  modified_data/face_2713.jpg    0\n",
       "4  face_2016.jpg  modified_data/face_2016.jpg   15"
      ]
     },
     "execution_count": 24,
     "metadata": {},
     "output_type": "execute_result"
    }
   ],
   "source": [
    "data_copy = train_data[['filename','filepath','tilt']]\n",
    "data_copy['tilt'] = data_copy['tilt'].astype(str)\n",
    "data_copy.head()"
   ]
  },
  {
   "cell_type": "code",
   "execution_count": 25,
   "metadata": {},
   "outputs": [],
   "source": [
    "data_90 = data_copy[(data_copy['tilt'] == '90')]\n",
    "data_neg_90 = data_copy[(data_copy['tilt'] == '-90')]"
   ]
  },
  {
   "cell_type": "markdown",
   "metadata": {},
   "source": [
    "This block of code will store the augmented images with 90 degree tilt in a folder named as \"Aug_face90\". This block is suppose to run only once at the begining and then, it should be commented"
   ]
  },
  {
   "cell_type": "code",
   "execution_count": 26,
   "metadata": {},
   "outputs": [],
   "source": [
    "# imglist = []\n",
    "# imglist = data_90['filepath']\n",
    "# for filepath in imglist:\n",
    "    \n",
    "#     img = load_img(filepath)\n",
    "#     x = img_to_array(img)\n",
    "#     x = x.reshape((1,)+ x.shape)\n",
    "#     i=0\n",
    "#     for batch in dataAugen.flow(x, batch_size=1, save_to_dir='Aug_face90', save_prefix='newface_', save_format = 'jpg'):\n",
    "#         i+=1\n",
    "#         if i>10:\n",
    "#             break"
   ]
  },
  {
   "cell_type": "code",
   "execution_count": 27,
   "metadata": {},
   "outputs": [],
   "source": [
    "image_list = []\n",
    "for filepath in glob.glob('Aug_face90/*.jpg', recursive=True):\n",
    "   \n",
    "    filename = filepath.split(\"/\")[-1]\n",
    "    image_list.append((filepath,'90'))  \n",
    "                      \n",
    "# Create a data frame\n",
    "augdata = pd.DataFrame(data=image_list, columns=['filepath','tilt'])"
   ]
  },
  {
   "cell_type": "markdown",
   "metadata": {},
   "source": [
    "This block of code will store the augmented images with -90 degree tilt in a folder named as \"Aug_faceNeg90\". This block is suppose to run only once at the begining and then, it should be commented"
   ]
  },
  {
   "cell_type": "code",
   "execution_count": 28,
   "metadata": {},
   "outputs": [],
   "source": [
    "# imglist2 = []\n",
    "# imglist2 = data_neg_90['filepath']\n",
    "# for filepath in imglist2:\n",
    "    \n",
    "#     img = load_img(filepath)\n",
    "#     x = img_to_array(img)\n",
    "#     x = x.reshape((1,)+ x.shape)\n",
    "#     i=0\n",
    "#     for batch in dataAugen.flow(x, batch_size=1, save_to_dir='Aug_faceNeg90', save_prefix='newface_', save_format = 'jpg'):\n",
    "#         i+=1\n",
    "#         if i>10:\n",
    "#             break"
   ]
  },
  {
   "cell_type": "code",
   "execution_count": 29,
   "metadata": {},
   "outputs": [],
   "source": [
    "image_list = []\n",
    "for filepath in glob.glob('Aug_faceNeg90/*.jpg', recursive=True):\n",
    "   \n",
    "    filename = filepath.split(\"/\")[-1]\n",
    "    image_list.append((filepath,'-90'))  \n",
    "                      \n",
    "# Create a data frame\n",
    "augdata2 = pd.DataFrame(data=image_list, columns=['filepath','tilt'])"
   ]
  },
  {
   "cell_type": "code",
   "execution_count": 30,
   "metadata": {},
   "outputs": [],
   "source": [
    "frames = [tilt_train_data, augdata, augdata2]\n",
    "\n",
    "# concatenate dataframes\n",
    "tilt_train_data = pd.concat(frames)"
   ]
  },
  {
   "cell_type": "code",
   "execution_count": 31,
   "metadata": {},
   "outputs": [
    {
     "data": {
      "text/plain": [
       "15     325\n",
       "-60    325\n",
       "-15    325\n",
       "-30    325\n",
       "0      325\n",
       "60     325\n",
       "30     325\n",
       "90     298\n",
       "-90    295\n",
       "Name: tilt, dtype: int64"
      ]
     },
     "execution_count": 31,
     "metadata": {},
     "output_type": "execute_result"
    }
   ],
   "source": [
    "tilt_train_data['tilt'].value_counts()"
   ]
  },
  {
   "cell_type": "code",
   "execution_count": 32,
   "metadata": {},
   "outputs": [],
   "source": [
    "# import shutil\n",
    "\n",
    "# shutil.rmtree('newfacepan')"
   ]
  },
  {
   "cell_type": "markdown",
   "metadata": {},
   "source": [
    "## Training, Validation and Testing Dataset\n",
    "\n",
    "The following code is using sklearn library to perform hold-out cross validation and split the dataset into 3 subsets.The testing data will be hold out for the purpose of predictions"
   ]
  },
  {
   "cell_type": "code",
   "execution_count": 33,
   "metadata": {},
   "outputs": [],
   "source": [
    "from sklearn.model_selection import train_test_split\n",
    "\n",
    "train_data_sample, testing_data = train_test_split(tilt_train_data,test_size = 0.2)\n",
    "training_data, validation_data = train_test_split(train_data_sample,test_size = 0.2)"
   ]
  },
  {
   "cell_type": "code",
   "execution_count": 34,
   "metadata": {},
   "outputs": [
    {
     "data": {
      "text/plain": [
       "(1835, 2)"
      ]
     },
     "execution_count": 34,
     "metadata": {},
     "output_type": "execute_result"
    }
   ],
   "source": [
    "training_data.shape"
   ]
  },
  {
   "cell_type": "code",
   "execution_count": 35,
   "metadata": {},
   "outputs": [
    {
     "data": {
      "text/plain": [
       "(459, 2)"
      ]
     },
     "execution_count": 35,
     "metadata": {},
     "output_type": "execute_result"
    }
   ],
   "source": [
    "validation_data.shape"
   ]
  },
  {
   "cell_type": "code",
   "execution_count": 36,
   "metadata": {},
   "outputs": [
    {
     "data": {
      "text/plain": [
       "(574, 2)"
      ]
     },
     "execution_count": 36,
     "metadata": {},
     "output_type": "execute_result"
    }
   ],
   "source": [
    "testing_data.shape"
   ]
  },
  {
   "cell_type": "code",
   "execution_count": 37,
   "metadata": {},
   "outputs": [
    {
     "data": {
      "text/plain": [
       "<matplotlib.axes._subplots.AxesSubplot at 0x7f7184183898>"
      ]
     },
     "execution_count": 37,
     "metadata": {},
     "output_type": "execute_result"
    },
    {
     "data": {
      "image/png": "[encoded data removed]",
      "text/plain": [
       "<Figure size 432x288 with 1 Axes>"
      ]
     },
     "metadata": {
      "needs_background": "light"
     },
     "output_type": "display_data"
    }
   ],
   "source": [
    "training_data.tilt.value_counts().plot(kind='bar')"
   ]
  },
  {
   "cell_type": "code",
   "execution_count": 38,
   "metadata": {},
   "outputs": [
    {
     "data": {
      "text/plain": [
       "<matplotlib.axes._subplots.AxesSubplot at 0x7f71841089b0>"
      ]
     },
     "execution_count": 38,
     "metadata": {},
     "output_type": "execute_result"
    },
    {
     "data": {
      "image/png": "[encoded data removed]",
      "text/plain": [
       "<Figure size 432x288 with 1 Axes>"
      ]
     },
     "metadata": {
      "needs_background": "light"
     },
     "output_type": "display_data"
    }
   ],
   "source": [
    "validation_data.tilt.value_counts().plot(kind='bar')"
   ]
  },
  {
   "cell_type": "code",
   "execution_count": 39,
   "metadata": {},
   "outputs": [
    {
     "data": {
      "text/plain": [
       "<matplotlib.axes._subplots.AxesSubplot at 0x7f71841088d0>"
      ]
     },
     "execution_count": 39,
     "metadata": {},
     "output_type": "execute_result"
    },
    {
     "data": {
      "image/png": "[encoded data removed]",
      "text/plain": [
       "<Figure size 432x288 with 1 Axes>"
      ]
     },
     "metadata": {
      "needs_background": "light"
     },
     "output_type": "display_data"
    }
   ],
   "source": [
    "testing_data.tilt.value_counts().plot(kind='bar')"
   ]
  },
  {
   "cell_type": "markdown",
   "metadata": {},
   "source": [
    "## Functions For Model Evaluation & Plotting Results\n",
    "\n",
    "The following sections define three functions to improve the code readability and useability in the later section of the notebook:\n",
    "\n",
    "1. The First function calculates and returns the average accuracy and the loss for a given image stream.\n",
    "2. The Second function is used to calculate the accuracy and losses of a trained model\n",
    "3. The Third function is used to plot the results gained after modelling."
   ]
  },
  {
   "cell_type": "code",
   "execution_count": 40,
   "metadata": {},
   "outputs": [],
   "source": [
    "def calculate_losses(model_, data_generator_, N_images, batch_size_):\n",
    "    loss_hold = []\n",
    "    acc_hold = []\n",
    "    batches = 0\n",
    "    for x,y in data_generator_:\n",
    "        loss,acc = model_.evaluate(x, y, verbose=0)\n",
    "        loss_hold.append(loss)\n",
    "        acc_hold.append(acc)\n",
    "        batches += 1\n",
    "        if batches >= N_images / batch_size_:\n",
    "            # we need to break the loop by hand because\n",
    "            # the generator loops indefinitely\n",
    "            break\n",
    "    return np.mean(loss_hold), np.mean(acc_hold)"
   ]
  },
  {
   "cell_type": "code",
   "execution_count": 41,
   "metadata": {},
   "outputs": [],
   "source": [
    "def train_model(model_, num_epoch=100, verbose=1):\n",
    "    res = []\n",
    "    for e in range(num_epoch):\n",
    "        batches = 0\n",
    "\n",
    "        loss_ = []\n",
    "        acc_ = []\n",
    "\n",
    "         # iterate over each batch\n",
    "        for x,y in train_generator:\n",
    "            loss, acc = model_.train_on_batch(x, y) # Update weights and return train loss, acc per batch\n",
    "            loss_.append(loss)\n",
    "            acc_.append(acc)\n",
    "            batches += 1\n",
    "            if batches >= N_train_images / batch_size:\n",
    "                # we need to break the loop by hand because\n",
    "                # the generator loops indefinitely\n",
    "                break\n",
    "        loss_ = np.mean(loss_)\n",
    "        acc_ = np.mean(acc_)\n",
    "\n",
    "        loss, acc = calculate_losses(model_, validation_generator, N_val_images, batch_size)\n",
    "        if verbose:\n",
    "            print(\"Training epoch {}: Loss = {}, Accuracy = {}\".format(e, loss_, acc_))\n",
    "            print(\"Validation epoch {}: Loss = {}, Accuracy = {}\".format(e, loss, acc))\n",
    "\n",
    "        res.append((e, loss_, acc_, loss, acc))\n",
    "    return np.asarray(res)"
   ]
  },
  {
   "cell_type": "code",
   "execution_count": 42,
   "metadata": {},
   "outputs": [],
   "source": [
    "def plot_results(res):\n",
    "    \n",
    "    plt.figure(figsize=(12,4))\n",
    "    plt.subplot(1,2,1)\n",
    "    plt.plot(res[:,0], res[:,1], 'r-')\n",
    "    plt.plot(res[:,0], res[:,3], 'b-')\n",
    "    plt.legend(['Train', 'Validation'])\n",
    "    plt.xlabel('epoch')\n",
    "    plt.ylabel('Loss')\n",
    "    plt.ylim([0, np.max([5., np.max(res[:,1]), np.max(res[:,3])])])\n",
    "\n",
    "    plt.subplot(1,2,2)\n",
    "    plt.plot(res[:,0], res[:,2], 'r-')\n",
    "    plt.plot(res[:,0], res[:,4], 'b-')\n",
    "    plt.legend(['Train', 'Validation'])\n",
    "    plt.xlabel('epoch')\n",
    "    plt.ylabel('Accuracy')\n",
    "    plt.ylim([0, np.max([1., np.max(res[:,2]), np.max(res[:,4])])])"
   ]
  },
  {
   "cell_type": "markdown",
   "metadata": {},
   "source": [
    "## Model Training & Evaluation\n",
    "\n",
    "The next block of code:\n",
    "\n",
    "1. Define the ImageDataGenerator to stream the data into model from dataframes in a specified batch size.\n",
    "2. Rescale the images to normalize them\n",
    "3. Define the batch size"
   ]
  },
  {
   "cell_type": "code",
   "execution_count": 43,
   "metadata": {},
   "outputs": [
    {
     "name": "stdout",
     "output_type": "stream",
     "text": [
      "Found 1835 validated image filenames belonging to 9 classes.\n",
      "Found 459 validated image filenames belonging to 9 classes.\n",
      "Found 574 validated image filenames belonging to 9 classes.\n"
     ]
    }
   ],
   "source": [
    "from tensorflow.keras.preprocessing.image import ImageDataGenerator\n",
    "from tensorflow.keras.preprocessing.image import ImageDataGenerator, img_to_array, load_img\n",
    "\n",
    "\n",
    "train_datagen = ImageDataGenerator(rescale=1./255, data_format='channels_last')\n",
    "val_datagen = ImageDataGenerator(rescale=1./255, data_format='channels_last')\n",
    "test_datagen = ImageDataGenerator(rescale=1./255, data_format='channels_last')\n",
    "\n",
    "\n",
    "batch_size = 32\n",
    "\n",
    "train_generator = train_datagen.flow_from_dataframe(\n",
    "    dataframe=training_data,\n",
    "    directory='./',\n",
    "    x_col=\"filepath\",\n",
    "    y_col=\"tilt\",\n",
    "    target_size=(32,32),\n",
    "    shuffle=True,\n",
    "    batch_size=batch_size,\n",
    "    class_mode='categorical')\n",
    "\n",
    "validation_generator = val_datagen.flow_from_dataframe(\n",
    "    dataframe=validation_data,\n",
    "    directory='./',\n",
    "    x_col=\"filepath\",\n",
    "    y_col=\"tilt\",\n",
    "    target_size=(32,32),\n",
    "    batch_size=batch_size,\n",
    "    class_mode='categorical')\n",
    "\n",
    "test_generator = test_datagen.flow_from_dataframe(\n",
    "    dataframe=testing_data,\n",
    "    directory='./',\n",
    "    x_col=\"filepath\",\n",
    "    y_col=\"tilt\",\n",
    "    target_size=(32, 32),\n",
    "    batch_size=batch_size,\n",
    "    shuffle = False,\n",
    "    class_mode='categorical')"
   ]
  },
  {
   "cell_type": "code",
   "execution_count": 44,
   "metadata": {},
   "outputs": [],
   "source": [
    "# Defining variables with train and validation sample size for later use\n",
    "N_train_images = 1835\n",
    "N_val_images = 459"
   ]
  },
  {
   "cell_type": "markdown",
   "metadata": {},
   "source": [
    "<h2> Convolution Neural Networks </h2>\n",
    "\n",
    "__Model1__: Inspired from standard LeNet-5 Model"
   ]
  },
  {
   "cell_type": "code",
   "execution_count": 52,
   "metadata": {
    "scrolled": true
   },
   "outputs": [
    {
     "name": "stdout",
     "output_type": "stream",
     "text": [
      "Model: \"sequential_4\"\n",
      "_________________________________________________________________\n",
      "Layer (type)                 Output Shape              Param #   \n",
      "=================================================================\n",
      "lambda_4 (Lambda)            (None, 32, 32, 1)         0         \n",
      "_________________________________________________________________\n",
      "conv2d_16 (Conv2D)           (None, 30, 30, 64)        640       \n",
      "_________________________________________________________________\n",
      "activation_28 (Activation)   (None, 30, 30, 64)        0         \n",
      "_________________________________________________________________\n",
      "max_pooling2d_8 (MaxPooling2 (None, 15, 15, 64)        0         \n",
      "_________________________________________________________________\n",
      "conv2d_17 (Conv2D)           (None, 13, 13, 128)       73856     \n",
      "_________________________________________________________________\n",
      "activation_29 (Activation)   (None, 13, 13, 128)       0         \n",
      "_________________________________________________________________\n",
      "max_pooling2d_9 (MaxPooling2 (None, 6, 6, 128)         0         \n",
      "_________________________________________________________________\n",
      "flatten_4 (Flatten)          (None, 4608)              0         \n",
      "_________________________________________________________________\n",
      "dense_12 (Dense)             (None, 128)               589952    \n",
      "_________________________________________________________________\n",
      "activation_30 (Activation)   (None, 128)               0         \n",
      "_________________________________________________________________\n",
      "dense_13 (Dense)             (None, 128)               16512     \n",
      "_________________________________________________________________\n",
      "activation_31 (Activation)   (None, 128)               0         \n",
      "_________________________________________________________________\n",
      "dense_14 (Dense)             (None, 9)                 1161      \n",
      "_________________________________________________________________\n",
      "activation_32 (Activation)   (None, 9)                 0         \n",
      "=================================================================\n",
      "Total params: 682,121\n",
      "Trainable params: 682,121\n",
      "Non-trainable params: 0\n",
      "_________________________________________________________________\n",
      "Training epoch 0: Loss = 1.9990192651748657, Accuracy = 0.2362852543592453\n",
      "Validation epoch 0: Loss = 1.673557202021281, Accuracy = 0.3121212124824524\n",
      "Training epoch 1: Loss = 1.4071446657180786, Accuracy = 0.42518121004104614\n",
      "Validation epoch 1: Loss = 1.3052800019582114, Accuracy = 0.438446968793869\n",
      "Training epoch 2: Loss = 1.1181113719940186, Accuracy = 0.540507435798645\n",
      "Validation epoch 2: Loss = 1.115145742893219, Accuracy = 0.5151515603065491\n",
      "Training epoch 3: Loss = 0.9745283722877502, Accuracy = 0.5907131433486938\n",
      "Validation epoch 3: Loss = 0.9442251563072205, Accuracy = 0.6045454740524292\n",
      "Training epoch 4: Loss = 0.8332827091217041, Accuracy = 0.6479231715202332\n",
      "Validation epoch 4: Loss = 0.8661245385805766, Accuracy = 0.6134469509124756\n",
      "Training epoch 5: Loss = 0.7222374677658081, Accuracy = 0.7003575563430786\n",
      "Validation epoch 5: Loss = 0.878458305199941, Accuracy = 0.6401515603065491\n",
      "Training epoch 6: Loss = 0.6299563646316528, Accuracy = 0.7420160174369812\n",
      "Validation epoch 6: Loss = 0.6457666834195455, Accuracy = 0.7571969628334045\n",
      "Training epoch 7: Loss = 0.5240166187286377, Accuracy = 0.7866869568824768\n",
      "Validation epoch 7: Loss = 0.6217541376749675, Accuracy = 0.7049242854118347\n",
      "Training epoch 8: Loss = 0.4865197241306305, Accuracy = 0.8036589026451111\n",
      "Validation epoch 8: Loss = 0.6041035413742065, Accuracy = 0.7134469151496887\n",
      "Training epoch 9: Loss = 0.4060986042022705, Accuracy = 0.8437989950180054\n",
      "Validation epoch 9: Loss = 0.5331314861774444, Accuracy = 0.7776515483856201\n",
      "Training epoch 10: Loss = 0.38976502418518066, Accuracy = 0.8430397510528564\n",
      "Validation epoch 10: Loss = 0.5272704680760701, Accuracy = 0.7878788113594055\n",
      "Training epoch 11: Loss = 0.32883045077323914, Accuracy = 0.8714733719825745\n",
      "Validation epoch 11: Loss = 0.5209965447584788, Accuracy = 0.7922348380088806\n",
      "Training epoch 12: Loss = 0.3176910877227783, Accuracy = 0.8705672025680542\n",
      "Validation epoch 12: Loss = 0.5336124360561371, Accuracy = 0.7897727489471436\n",
      "Training epoch 13: Loss = 0.2341439127922058, Accuracy = 0.9159482717514038\n",
      "Validation epoch 13: Loss = 0.4174065361420313, Accuracy = 0.8361742496490479\n",
      "Training epoch 14: Loss = 0.20249013602733612, Accuracy = 0.9211158156394958\n",
      "Validation epoch 14: Loss = 0.35500980317592623, Accuracy = 0.8545454740524292\n",
      "Training epoch 15: Loss = 0.19400019943714142, Accuracy = 0.9326998591423035\n",
      "Validation epoch 15: Loss = 0.46877657175064086, Accuracy = 0.8107954859733582\n",
      "Training epoch 16: Loss = 0.1768379658460617, Accuracy = 0.9324304461479187\n",
      "Validation epoch 16: Loss = 0.35085921734571457, Accuracy = 0.887499988079071\n",
      "Training epoch 17: Loss = 0.19188907742500305, Accuracy = 0.9380387663841248\n",
      "Validation epoch 17: Loss = 0.5204575995604197, Accuracy = 0.8251894116401672\n",
      "Training epoch 18: Loss = 0.15232950448989868, Accuracy = 0.943696141242981\n",
      "Validation epoch 18: Loss = 0.361845596631368, Accuracy = 0.8774621486663818\n",
      "Training epoch 19: Loss = 0.11717081069946289, Accuracy = 0.9601293206214905\n",
      "Validation epoch 19: Loss = 0.37716710368792217, Accuracy = 0.8816288113594055\n",
      "Training epoch 20: Loss = 0.12225286662578583, Accuracy = 0.956945538520813\n",
      "Validation epoch 20: Loss = 0.47060714761416117, Accuracy = 0.8420454859733582\n",
      "Training epoch 21: Loss = 0.1310996413230896, Accuracy = 0.9528555870056152\n",
      "Validation epoch 21: Loss = 0.3915831347306569, Accuracy = 0.8568181991577148\n",
      "Training epoch 22: Loss = 0.11929208040237427, Accuracy = 0.954472005367279\n",
      "Validation epoch 22: Loss = 0.4026949832836787, Accuracy = 0.8647727370262146\n",
      "Training epoch 23: Loss = 0.08880554884672165, Accuracy = 0.9674519896507263\n",
      "Validation epoch 23: Loss = 0.4403163731098175, Accuracy = 0.8606060743331909\n",
      "Training epoch 24: Loss = 0.09944964200258255, Accuracy = 0.9620640873908997\n",
      "Validation epoch 24: Loss = 0.49017932017644245, Accuracy = 0.8460227251052856\n",
      "Training epoch 25: Loss = 0.10208071023225784, Accuracy = 0.962284505367279\n",
      "Validation epoch 25: Loss = 0.38286038960019747, Accuracy = 0.8793560862541199\n",
      "Training epoch 26: Loss = 0.061848510056734085, Accuracy = 0.9790360927581787\n",
      "Validation epoch 26: Loss = 0.5380895127852757, Accuracy = 0.8337121605873108\n",
      "Training epoch 27: Loss = 0.1387510448694229, Accuracy = 0.938944935798645\n",
      "Validation epoch 27: Loss = 0.4287986685832342, Accuracy = 0.8751894235610962\n",
      "Training epoch 28: Loss = 0.1200079470872879, Accuracy = 0.9493534564971924\n",
      "Validation epoch 28: Loss = 0.394621937473615, Accuracy = 0.8710227608680725\n",
      "Training epoch 29: Loss = 0.05512731894850731, Accuracy = 0.9816810488700867\n",
      "Validation epoch 29: Loss = 0.3282720476388931, Accuracy = 0.8876894116401672\n",
      "Training epoch 30: Loss = 0.05084533244371414, Accuracy = 0.9846444129943848\n",
      "Validation epoch 30: Loss = 0.35255133658647536, Accuracy = 0.893750011920929\n",
      "Training epoch 31: Loss = 0.0629301443696022, Accuracy = 0.977909505367279\n",
      "Validation epoch 31: Loss = 0.3416574835777283, Accuracy = 0.9083333611488342\n",
      "Training epoch 32: Loss = 0.06219487637281418, Accuracy = 0.9784972667694092\n",
      "Validation epoch 32: Loss = 0.43181019425392153, Accuracy = 0.8753787875175476\n",
      "Training epoch 33: Loss = 0.09901880472898483, Accuracy = 0.9684805870056152\n",
      "Validation epoch 33: Loss = 0.398405388991038, Accuracy = 0.8714015483856201\n",
      "Training epoch 34: Loss = 0.04002155363559723, Accuracy = 0.9878771305084229\n",
      "Validation epoch 34: Loss = 0.3725699675579866, Accuracy = 0.883712112903595\n",
      "Training epoch 35: Loss = 0.021713918074965477, Accuracy = 0.9951998591423035\n",
      "Validation epoch 35: Loss = 0.33580308854579927, Accuracy = 0.9126893877983093\n",
      "Training epoch 36: Loss = 0.02970590442419052, Accuracy = 0.9892731308937073\n",
      "Validation epoch 36: Loss = 0.452485454082489, Accuracy = 0.8962121605873108\n",
      "Training epoch 37: Loss = 0.03623665124177933, Accuracy = 0.9903017282485962\n",
      "Validation epoch 37: Loss = 0.37593631222844126, Accuracy = 0.8958333134651184\n",
      "Training epoch 38: Loss = 0.023765407502651215, Accuracy = 0.9929956793785095\n",
      "Validation epoch 38: Loss = 0.3562479611486197, Accuracy = 0.9083333611488342\n",
      "Training epoch 39: Loss = 0.021014690399169922, Accuracy = 0.9929956793785095\n",
      "Validation epoch 39: Loss = 0.29472818225622177, Accuracy = 0.9085227251052856\n",
      "Training epoch 40: Loss = 0.022147445008158684, Accuracy = 0.9924569129943848\n",
      "Validation epoch 40: Loss = 0.4604263665775458, Accuracy = 0.8982954621315002\n",
      "Training epoch 41: Loss = 0.024328922852873802, Accuracy = 0.9927262663841248\n",
      "Validation epoch 41: Loss = 0.4691734552383423, Accuracy = 0.8876894116401672\n",
      "Training epoch 42: Loss = 0.01979486458003521, Accuracy = 0.9943426847457886\n",
      "Validation epoch 42: Loss = 0.45216247538725535, Accuracy = 0.8979166746139526\n",
      "Training epoch 43: Loss = 0.047982897609472275, Accuracy = 0.9833464026451111\n",
      "Validation epoch 43: Loss = 0.6449681321779887, Accuracy = 0.8545454740524292\n",
      "Training epoch 44: Loss = 0.10228792577981949, Accuracy = 0.962553858757019\n",
      "Validation epoch 44: Loss = 0.3647475610176722, Accuracy = 0.9085227251052856\n",
      "Training epoch 45: Loss = 0.041975028812885284, Accuracy = 0.984375\n",
      "Validation epoch 45: Loss = 0.3908724655707677, Accuracy = 0.9126893877983093\n",
      "Training epoch 46: Loss = 0.015159494243562222, Accuracy = 0.9948814511299133\n",
      "Validation epoch 46: Loss = 0.5501482784748077, Accuracy = 0.8712121248245239\n",
      "Training epoch 47: Loss = 0.027712780982255936, Accuracy = 0.9916487336158752\n",
      "Validation epoch 47: Loss = 0.3284102906783422, Accuracy = 0.9106060862541199\n",
      "Training epoch 48: Loss = 0.012296929024159908, Accuracy = 0.9970366358757019\n",
      "Validation epoch 48: Loss = 0.38238540341456734, Accuracy = 0.8918560743331909\n",
      "Training epoch 49: Loss = 0.014259032905101776, Accuracy = 0.9943426847457886\n",
      "Validation epoch 49: Loss = 0.34933851261933646, Accuracy = 0.9022727608680725\n"
     ]
    },
    {
     "data": {
      "image/png": "[encoded data removed]",
      "text/plain": [
       "<Figure size 864x288 with 2 Axes>"
      ]
     },
     "metadata": {
      "needs_background": "light"
     },
     "output_type": "display_data"
    }
   ],
   "source": [
    "from tensorflow.keras.models import Sequential\n",
    "from tensorflow.keras.layers import Conv2D, MaxPooling2D, Lambda, Input,BatchNormalization, LeakyReLU\n",
    "from tensorflow.keras.layers import Activation, Dropout, Flatten, Dense\n",
    "from tensorflow.keras.metrics import categorical_accuracy\n",
    "from tensorflow.keras import regularizers, optimizers\n",
    "\n",
    "Model1 = Sequential()\n",
    "\n",
    "# input\n",
    "Model1.add(Input(shape=(32, 32, 3)))\n",
    "\n",
    "Model1.add(Lambda(lambda x: tf.expand_dims(x[:,:,:,0], -1, name=None))) \n",
    "# this is a workaround. Dataloader automatically read one channel image as 3 channel \n",
    "#and we use Lambda layer to revert this back. Lambda layer can be used for operation \n",
    "#that does not involve trainianble weights\n",
    "\n",
    "# Conv Layer 1\n",
    "Model1.add(Conv2D(64, (3, 3)))\n",
    "Model1.add(Activation('relu'))\n",
    "\n",
    "Model1.add(MaxPooling2D(pool_size=(2, 2)))\n",
    "\n",
    "# Conv Layer 2 \n",
    "Model1.add(Conv2D(128, (3, 3)))\n",
    "Model1.add(Activation('relu'))\n",
    "\n",
    "Model1.add(MaxPooling2D(pool_size=(2, 2)))\n",
    "\n",
    "# MLP\n",
    "Model1.add(Flatten())\n",
    "Model1.add(Dense(128))\n",
    "Model1.add(Activation('relu'))\n",
    "Model1.add(Dense(128))\n",
    "Model1.add(Activation('relu'))\n",
    "Model1.add(Dense(9))\n",
    "Model1.add(Activation('softmax'))\n",
    "\n",
    "Model1.compile(loss='categorical_crossentropy',\n",
    "              optimizer='adam',\n",
    "              metrics=[categorical_accuracy])\n",
    "\n",
    "Model1.summary()\n",
    "\n",
    "res = train_model(Model1, num_epoch= 50, verbose=1)\n",
    "\n",
    "plot_results(res)"
   ]
  },
  {
   "cell_type": "markdown",
   "metadata": {},
   "source": [
    "__Model1v2__: Network to solve the problem of overfitting by introducing regularization"
   ]
  },
  {
   "cell_type": "code",
   "execution_count": 53,
   "metadata": {
    "scrolled": true
   },
   "outputs": [
    {
     "name": "stdout",
     "output_type": "stream",
     "text": [
      "Model: \"sequential_5\"\n",
      "_________________________________________________________________\n",
      "Layer (type)                 Output Shape              Param #   \n",
      "=================================================================\n",
      "lambda_5 (Lambda)            (None, 32, 32, 1)         0         \n",
      "_________________________________________________________________\n",
      "conv2d_18 (Conv2D)           (None, 30, 30, 64)        640       \n",
      "_________________________________________________________________\n",
      "activation_33 (Activation)   (None, 30, 30, 64)        0         \n",
      "_________________________________________________________________\n",
      "max_pooling2d_10 (MaxPooling (None, 15, 15, 64)        0         \n",
      "_________________________________________________________________\n",
      "dropout_18 (Dropout)         (None, 15, 15, 64)        0         \n",
      "_________________________________________________________________\n",
      "conv2d_19 (Conv2D)           (None, 13, 13, 128)       73856     \n",
      "_________________________________________________________________\n",
      "activation_34 (Activation)   (None, 13, 13, 128)       0         \n",
      "_________________________________________________________________\n",
      "max_pooling2d_11 (MaxPooling (None, 6, 6, 128)         0         \n",
      "_________________________________________________________________\n",
      "dropout_19 (Dropout)         (None, 6, 6, 128)         0         \n",
      "_________________________________________________________________\n",
      "flatten_5 (Flatten)          (None, 4608)              0         \n",
      "_________________________________________________________________\n",
      "dense_15 (Dense)             (None, 128)               589952    \n",
      "_________________________________________________________________\n",
      "activation_35 (Activation)   (None, 128)               0         \n",
      "_________________________________________________________________\n",
      "dense_16 (Dense)             (None, 128)               16512     \n",
      "_________________________________________________________________\n",
      "activation_36 (Activation)   (None, 128)               0         \n",
      "_________________________________________________________________\n",
      "dropout_20 (Dropout)         (None, 128)               0         \n",
      "_________________________________________________________________\n",
      "dense_17 (Dense)             (None, 9)                 1161      \n",
      "_________________________________________________________________\n",
      "activation_37 (Activation)   (None, 9)                 0         \n",
      "=================================================================\n",
      "Total params: 682,121\n",
      "Trainable params: 682,121\n",
      "Non-trainable params: 0\n",
      "_________________________________________________________________\n",
      "Training epoch 0: Loss = 2.203528881072998, Accuracy = 0.11838754266500473\n",
      "Validation epoch 0: Loss = 2.1886749585469563, Accuracy = 0.17462120950222015\n",
      "Training epoch 1: Loss = 2.091387987136841, Accuracy = 0.2027086615562439\n",
      "Validation epoch 1: Loss = 1.8946197589238485, Accuracy = 0.35170453786849976\n",
      "Training epoch 2: Loss = 1.7021572589874268, Accuracy = 0.3256024718284607\n",
      "Validation epoch 2: Loss = 1.5682819048563639, Accuracy = 0.4058712124824524\n",
      "Training epoch 3: Loss = 1.467077374458313, Accuracy = 0.39407819509506226\n",
      "Validation epoch 3: Loss = 1.3527909596761067, Accuracy = 0.4948863685131073\n",
      "Training epoch 4: Loss = 1.288651943206787, Accuracy = 0.48471787571907043\n",
      "Validation epoch 4: Loss = 1.181816045443217, Accuracy = 0.5303030610084534\n",
      "Training epoch 5: Loss = 1.1573190689086914, Accuracy = 0.5227762460708618\n",
      "Validation epoch 5: Loss = 1.0771330753962198, Accuracy = 0.5698863863945007\n",
      "Training epoch 6: Loss = 1.0707184076309204, Accuracy = 0.5525078773498535\n",
      "Validation epoch 6: Loss = 0.9869550665219625, Accuracy = 0.6486742496490479\n",
      "Training epoch 7: Loss = 0.9893012046813965, Accuracy = 0.590100884437561\n",
      "Validation epoch 7: Loss = 0.8683632373809814, Accuracy = 0.6636363863945007\n",
      "Training epoch 8: Loss = 0.9201791882514954, Accuracy = 0.613293468952179\n",
      "Validation epoch 8: Loss = 0.8038344462712605, Accuracy = 0.642992377281189\n",
      "Training epoch 9: Loss = 0.9124923348426819, Accuracy = 0.6297266483306885\n",
      "Validation epoch 9: Loss = 0.8081555962562561, Accuracy = 0.6755682229995728\n",
      "Training epoch 10: Loss = 0.796127200126648, Accuracy = 0.6664136052131653\n",
      "Validation epoch 10: Loss = 0.7306941310564677, Accuracy = 0.6878787875175476\n",
      "Training epoch 11: Loss = 0.7751540541648865, Accuracy = 0.6879653334617615\n",
      "Validation epoch 11: Loss = 0.6893444816271465, Accuracy = 0.7234848737716675\n",
      "Training epoch 12: Loss = 0.7563430070877075, Accuracy = 0.6954594254493713\n",
      "Validation epoch 12: Loss = 0.6637000560760498, Accuracy = 0.7462121248245239\n",
      "Training epoch 13: Loss = 0.6692025661468506, Accuracy = 0.7160560488700867\n",
      "Validation epoch 13: Loss = 0.6580475409825642, Accuracy = 0.7424242496490479\n",
      "Training epoch 14: Loss = 0.6465993523597717, Accuracy = 0.7322688102722168\n",
      "Validation epoch 14: Loss = 0.602168862024943, Accuracy = 0.7443181872367859\n",
      "Training epoch 15: Loss = 0.6366493105888367, Accuracy = 0.7303096055984497\n",
      "Validation epoch 15: Loss = 0.6018170138200124, Accuracy = 0.7589015364646912\n",
      "Training epoch 16: Loss = 0.6323767304420471, Accuracy = 0.7487509250640869\n",
      "Validation epoch 16: Loss = 0.6149740020434061, Accuracy = 0.7549242377281189\n",
      "Training epoch 17: Loss = 0.5813776850700378, Accuracy = 0.7654045820236206\n",
      "Validation epoch 17: Loss = 0.5486348589261373, Accuracy = 0.7676135897636414\n",
      "Training epoch 18: Loss = 0.5582469701766968, Accuracy = 0.7643269896507263\n",
      "Validation epoch 18: Loss = 0.45356889565785724, Accuracy = 0.823106050491333\n",
      "Training epoch 19: Loss = 0.5354498028755188, Accuracy = 0.7862950563430786\n",
      "Validation epoch 19: Loss = 0.4637017528216044, Accuracy = 0.821212112903595\n",
      "Training epoch 20: Loss = 0.5386111736297607, Accuracy = 0.7846297025680542\n",
      "Validation epoch 20: Loss = 0.4618414640426636, Accuracy = 0.8045454621315002\n",
      "Training epoch 21: Loss = 0.5073491930961609, Accuracy = 0.7823030948638916\n",
      "Validation epoch 21: Loss = 0.5566639383633931, Accuracy = 0.7303030490875244\n",
      "Training epoch 22: Loss = 0.5012752413749695, Accuracy = 0.7926136255264282\n",
      "Validation epoch 22: Loss = 0.42580813765525816, Accuracy = 0.8420454859733582\n",
      "Training epoch 23: Loss = 0.47373032569885254, Accuracy = 0.8088263869285583\n",
      "Validation epoch 23: Loss = 0.4998084227244059, Accuracy = 0.8153409361839294\n",
      "Training epoch 24: Loss = 0.479064017534256, Accuracy = 0.806132435798645\n",
      "Validation epoch 24: Loss = 0.4246090710163116, Accuracy = 0.8109848499298096\n",
      "Training epoch 25: Loss = 0.43342354893684387, Accuracy = 0.8315047025680542\n",
      "Validation epoch 25: Loss = 0.3396570990482966, Accuracy = 0.8793560862541199\n",
      "Training epoch 26: Loss = 0.43488839268684387, Accuracy = 0.8279045820236206\n",
      "Validation epoch 26: Loss = 0.4289711753527323, Accuracy = 0.8068181872367859\n",
      "Training epoch 27: Loss = 0.4202285408973694, Accuracy = 0.8341007232666016\n",
      "Validation epoch 27: Loss = 0.3972587724526723, Accuracy = 0.8272727131843567\n",
      "Training epoch 28: Loss = 0.439304918050766, Accuracy = 0.8167368769645691\n",
      "Validation epoch 28: Loss = 0.4342332343260447, Accuracy = 0.8024621605873108\n",
      "Training epoch 29: Loss = 0.41342517733573914, Accuracy = 0.8311862945556641\n",
      "Validation epoch 29: Loss = 0.3572320620218913, Accuracy = 0.8666666746139526\n",
      "Training epoch 30: Loss = 0.37667495012283325, Accuracy = 0.8566810488700867\n",
      "Validation epoch 30: Loss = 0.415051872531573, Accuracy = 0.8191288113594055\n",
      "Training epoch 31: Loss = 0.388712614774704, Accuracy = 0.8510237336158752\n",
      "Validation epoch 31: Loss = 0.3483389049768448, Accuracy = 0.8484848737716675\n",
      "Training epoch 32: Loss = 0.3736369013786316, Accuracy = 0.8532278537750244\n",
      "Validation epoch 32: Loss = 0.41717669665813445, Accuracy = 0.8193181753158569\n",
      "Training epoch 33: Loss = 0.36515435576438904, Accuracy = 0.8470807075500488\n",
      "Validation epoch 33: Loss = 0.3500862071911494, Accuracy = 0.8689393997192383\n",
      "Training epoch 34: Loss = 0.3329054117202759, Accuracy = 0.8685835003852844\n",
      "Validation epoch 34: Loss = 0.3342153956492742, Accuracy = 0.8672348856925964\n",
      "Training epoch 35: Loss = 0.35071033239364624, Accuracy = 0.8649098873138428\n",
      "Validation epoch 35: Loss = 0.3333856443564097, Accuracy = 0.887499988079071\n",
      "Training epoch 36: Loss = 0.3090655505657196, Accuracy = 0.8752694129943848\n",
      "Validation epoch 36: Loss = 0.361639674504598, Accuracy = 0.8630682229995728\n",
      "Training epoch 37: Loss = 0.33781328797340393, Accuracy = 0.8664772510528564\n",
      "Validation epoch 37: Loss = 0.32126857340335846, Accuracy = 0.883712112903595\n",
      "Training epoch 38: Loss = 0.3144080936908722, Accuracy = 0.8781102895736694\n",
      "Validation epoch 38: Loss = 0.3184770772854487, Accuracy = 0.8774621486663818\n",
      "Training epoch 39: Loss = 0.3291325271129608, Accuracy = 0.8769347667694092\n",
      "Validation epoch 39: Loss = 0.33267686863740287, Accuracy = 0.8626893758773804\n",
      "Training epoch 40: Loss = 0.3162404000759125, Accuracy = 0.8748285174369812\n",
      "Validation epoch 40: Loss = 0.4030477494001389, Accuracy = 0.8401515483856201\n",
      "Training epoch 41: Loss = 0.3128432333469391, Accuracy = 0.8904535174369812\n",
      "Validation epoch 41: Loss = 0.3634984612464905, Accuracy = 0.8520833253860474\n",
      "Training epoch 42: Loss = 0.31010258197784424, Accuracy = 0.8739714026451111\n",
      "Validation epoch 42: Loss = 0.31782199343045553, Accuracy = 0.8649621605873108\n",
      "Training epoch 43: Loss = 0.2983112335205078, Accuracy = 0.8879310488700867\n",
      "Validation epoch 43: Loss = 0.3475758284330368, Accuracy = 0.8549242615699768\n",
      "Training epoch 44: Loss = 0.27196595072746277, Accuracy = 0.8973599076271057\n",
      "Validation epoch 44: Loss = 0.347934889793396, Accuracy = 0.8549242615699768\n",
      "Training epoch 45: Loss = 0.2676313519477844, Accuracy = 0.8914331793785095\n",
      "Validation epoch 45: Loss = 0.3081231584151586, Accuracy = 0.8505681753158569\n",
      "Training epoch 46: Loss = 0.2833619713783264, Accuracy = 0.8901841640472412\n",
      "Validation epoch 46: Loss = 0.3502235680818558, Accuracy = 0.8751894235610962\n",
      "Training epoch 47: Loss = 0.2818495035171509, Accuracy = 0.8982170820236206\n",
      "Validation epoch 47: Loss = 0.3227218916018804, Accuracy = 0.887499988079071\n",
      "Training epoch 48: Loss = 0.2585098147392273, Accuracy = 0.8961598873138428\n",
      "Validation epoch 48: Loss = 0.3237481991449992, Accuracy = 0.8689393997192383\n",
      "Training epoch 49: Loss = 0.2783668339252472, Accuracy = 0.8977272510528564\n",
      "Validation epoch 49: Loss = 0.39766393303871156, Accuracy = 0.8520833253860474\n",
      "Training epoch 50: Loss = 0.2695753872394562, Accuracy = 0.8987559080123901\n",
      "Validation epoch 50: Loss = 0.34376128812630974, Accuracy = 0.8672348856925964\n",
      "Training epoch 51: Loss = 0.24912072718143463, Accuracy = 0.9016702771186829\n",
      "Validation epoch 51: Loss = 0.3019463469584783, Accuracy = 0.8839015364646912\n",
      "Training epoch 52: Loss = 0.2318466156721115, Accuracy = 0.9071561098098755\n",
      "Validation epoch 52: Loss = 0.3736676057179769, Accuracy = 0.8710227608680725\n",
      "Training epoch 53: Loss = 0.26724690198898315, Accuracy = 0.8926087021827698\n",
      "Validation epoch 53: Loss = 0.35774354288975396, Accuracy = 0.8710227608680725\n",
      "Training epoch 54: Loss = 0.26055222749710083, Accuracy = 0.900641679763794\n",
      "Validation epoch 54: Loss = 0.3443799098332723, Accuracy = 0.8774621486663818\n",
      "Training epoch 55: Loss = 0.20961850881576538, Accuracy = 0.9227321743965149\n",
      "Validation epoch 55: Loss = 0.3223194800317287, Accuracy = 0.8791666626930237\n",
      "Training epoch 56: Loss = 0.25818225741386414, Accuracy = 0.9024784564971924\n",
      "Validation epoch 56: Loss = 0.2867081125577291, Accuracy = 0.8979166746139526\n",
      "Training epoch 57: Loss = 0.2243596762418747, Accuracy = 0.9170258641242981\n",
      "Validation epoch 57: Loss = 0.3567201236883799, Accuracy = 0.8691288232803345\n",
      "Training epoch 58: Loss = 0.2435702681541443, Accuracy = 0.900151789188385\n",
      "Validation epoch 58: Loss = 0.3305199603239695, Accuracy = 0.8816288113594055\n",
      "Training epoch 59: Loss = 0.2107977271080017, Accuracy = 0.9240301847457886\n",
      "Validation epoch 59: Loss = 0.3133311033248901, Accuracy = 0.8776515126228333\n",
      "Training epoch 60: Loss = 0.21736463904380798, Accuracy = 0.9173442721366882\n",
      "Validation epoch 60: Loss = 0.27048931022485095, Accuracy = 0.90625\n",
      "Training epoch 61: Loss = 0.1978565901517868, Accuracy = 0.9170748591423035\n",
      "Validation epoch 61: Loss = 0.2970646008849144, Accuracy = 0.8979166746139526\n",
      "Training epoch 62: Loss = 0.22374330461025238, Accuracy = 0.9076460003852844\n",
      "Validation epoch 62: Loss = 0.310435942808787, Accuracy = 0.8960227370262146\n",
      "Training epoch 63: Loss = 0.215314120054245, Accuracy = 0.9162176847457886\n",
      "Validation epoch 63: Loss = 0.3725709855556488, Accuracy = 0.885606050491333\n",
      "Training epoch 64: Loss = 0.18212270736694336, Accuracy = 0.9292466640472412\n",
      "Validation epoch 64: Loss = 0.30818039178848267, Accuracy = 0.9083333611488342\n",
      "Training epoch 65: Loss = 0.1755828857421875, Accuracy = 0.9353938102722168\n",
      "Validation epoch 65: Loss = 0.33734559317429863, Accuracy = 0.8628787994384766\n",
      "Training epoch 66: Loss = 0.18468895554542542, Accuracy = 0.9316222667694092\n",
      "Validation epoch 66: Loss = 0.35230461955070497, Accuracy = 0.8712121248245239\n",
      "Training epoch 67: Loss = 0.16843460500240326, Accuracy = 0.9386755228042603\n",
      "Validation epoch 67: Loss = 0.27412983775138855, Accuracy = 0.90625\n",
      "Training epoch 68: Loss = 0.18662410974502563, Accuracy = 0.9273608922958374\n",
      "Validation epoch 68: Loss = 0.34577653706073763, Accuracy = 0.8795454502105713\n",
      "Training epoch 69: Loss = 0.18793617188930511, Accuracy = 0.9268220663070679\n",
      "Validation epoch 69: Loss = 0.2804534092545509, Accuracy = 0.9145833253860474\n",
      "Training epoch 70: Loss = 0.1931338906288147, Accuracy = 0.9274098873138428\n",
      "Validation epoch 70: Loss = 0.2979798639814059, Accuracy = 0.9045454859733582\n",
      "Training epoch 71: Loss = 0.18014538288116455, Accuracy = 0.9310835003852844\n",
      "Validation epoch 71: Loss = 0.34953398207823433, Accuracy = 0.8897727131843567\n",
      "Training epoch 72: Loss = 0.1890137940645218, Accuracy = 0.9304956793785095\n",
      "Validation epoch 72: Loss = 0.3441626797119776, Accuracy = 0.8857954740524292\n",
      "Training epoch 73: Loss = 0.1714397370815277, Accuracy = 0.9351244568824768\n",
      "Validation epoch 73: Loss = 0.26195004135370253, Accuracy = 0.9087121486663818\n",
      "Training epoch 74: Loss = 0.15917521715164185, Accuracy = 0.9412715435028076\n",
      "Validation epoch 74: Loss = 0.31004185378551485, Accuracy = 0.9022727608680725\n"
     ]
    },
    {
     "data": {
      "image/png": "[encoded data removed]",
      "text/plain": [
       "<Figure size 864x288 with 2 Axes>"
      ]
     },
     "metadata": {
      "needs_background": "light"
     },
     "output_type": "display_data"
    }
   ],
   "source": [
    "Model1v2 = Sequential()\n",
    "\n",
    "# input\n",
    "Model1v2.add(Input(shape=(32, 32, 3)))\n",
    "\n",
    "Model1v2.add(Lambda(lambda x: tf.expand_dims(x[:,:,:,0], -1, name=None))) \n",
    "\n",
    "# Conv Layer 1\n",
    "Model1v2.add(Conv2D(64, (3, 3)))\n",
    "Model1v2.add(Activation('relu'))\n",
    "Model1v2.add(MaxPooling2D(pool_size=(2, 2)))\n",
    "Model1v2.add(Dropout(0.5))\n",
    "\n",
    "# Conv Layer 2 \n",
    "Model1v2.add(Conv2D(128, (3, 3)))\n",
    "Model1v2.add(Activation('relu'))\n",
    "Model1v2.add(MaxPooling2D(pool_size=(2, 2)))\n",
    "Model1v2.add(Dropout(0.5))\n",
    "\n",
    "# MLP\n",
    "Model1v2.add(Flatten())\n",
    "Model1v2.add(Dense(128))\n",
    "Model1v2.add(Activation('relu'))\n",
    "Model1v2.add(Dense(128))\n",
    "Model1v2.add(Activation('relu'))\n",
    "Model1v2.add(Dropout(0.5))\n",
    "Model1v2.add(Dense(9))\n",
    "Model1v2.add(Activation('softmax'))\n",
    "\n",
    "Model1v2.compile(loss='categorical_crossentropy',\n",
    "              optimizer='adam',\n",
    "              metrics=[categorical_accuracy])\n",
    "\n",
    "Model1v2.summary()\n",
    "\n",
    "res = train_model(Model1v2, num_epoch= 75, verbose=1)\n",
    "\n",
    "plot_results(res)"
   ]
  },
  {
   "cell_type": "markdown",
   "metadata": {},
   "source": [
    "__Model2__: To increase the performance of the base model, this network has more depth and width. "
   ]
  },
  {
   "cell_type": "code",
   "execution_count": 48,
   "metadata": {
    "scrolled": true
   },
   "outputs": [
    {
     "name": "stdout",
     "output_type": "stream",
     "text": [
      "Model: \"sequential_1\"\n",
      "_________________________________________________________________\n",
      "Layer (type)                 Output Shape              Param #   \n",
      "=================================================================\n",
      "lambda_1 (Lambda)            (None, 32, 32, 1)         0         \n",
      "_________________________________________________________________\n",
      "conv2d_4 (Conv2D)            (None, 30, 30, 64)        640       \n",
      "_________________________________________________________________\n",
      "activation_7 (Activation)    (None, 30, 30, 64)        0         \n",
      "_________________________________________________________________\n",
      "dropout_4 (Dropout)          (None, 30, 30, 64)        0         \n",
      "_________________________________________________________________\n",
      "conv2d_5 (Conv2D)            (None, 28, 28, 64)        36928     \n",
      "_________________________________________________________________\n",
      "activation_8 (Activation)    (None, 28, 28, 64)        0         \n",
      "_________________________________________________________________\n",
      "max_pooling2d_2 (MaxPooling2 (None, 14, 14, 64)        0         \n",
      "_________________________________________________________________\n",
      "conv2d_6 (Conv2D)            (None, 12, 12, 128)       73856     \n",
      "_________________________________________________________________\n",
      "activation_9 (Activation)    (None, 12, 12, 128)       0         \n",
      "_________________________________________________________________\n",
      "dropout_5 (Dropout)          (None, 12, 12, 128)       0         \n",
      "_________________________________________________________________\n",
      "conv2d_7 (Conv2D)            (None, 10, 10, 128)       147584    \n",
      "_________________________________________________________________\n",
      "activation_10 (Activation)   (None, 10, 10, 128)       0         \n",
      "_________________________________________________________________\n",
      "max_pooling2d_3 (MaxPooling2 (None, 5, 5, 128)         0         \n",
      "_________________________________________________________________\n",
      "flatten_1 (Flatten)          (None, 3200)              0         \n",
      "_________________________________________________________________\n",
      "dense_3 (Dense)              (None, 128)               409728    \n",
      "_________________________________________________________________\n",
      "activation_11 (Activation)   (None, 128)               0         \n",
      "_________________________________________________________________\n",
      "dropout_6 (Dropout)          (None, 128)               0         \n",
      "_________________________________________________________________\n",
      "dense_4 (Dense)              (None, 128)               16512     \n",
      "_________________________________________________________________\n",
      "activation_12 (Activation)   (None, 128)               0         \n",
      "_________________________________________________________________\n",
      "dropout_7 (Dropout)          (None, 128)               0         \n",
      "_________________________________________________________________\n",
      "dense_5 (Dense)              (None, 9)                 1161      \n",
      "_________________________________________________________________\n",
      "activation_13 (Activation)   (None, 9)                 0         \n",
      "=================================================================\n",
      "Total params: 686,409\n",
      "Trainable params: 686,409\n",
      "Non-trainable params: 0\n",
      "_________________________________________________________________\n",
      "Training epoch 0: Loss = 2.2036499977111816, Accuracy = 0.11304858326911926\n",
      "Validation epoch 0: Loss = 2.197843345006307, Accuracy = 0.08541666716337204\n",
      "Training epoch 1: Loss = 2.193969964981079, Accuracy = 0.12852664291858673\n",
      "Validation epoch 1: Loss = 2.196405378977458, Accuracy = 0.13712121546268463\n",
      "Training epoch 2: Loss = 2.188865900039673, Accuracy = 0.13141652941703796\n",
      "Validation epoch 2: Loss = 2.187229633331299, Accuracy = 0.08731060475111008\n",
      "Training epoch 3: Loss = 2.141000270843506, Accuracy = 0.1809365153312683\n",
      "Validation epoch 3: Loss = 2.094834391276042, Accuracy = 0.20000000298023224\n",
      "Training epoch 4: Loss = 1.870663046836853, Accuracy = 0.26381269097328186\n",
      "Validation epoch 4: Loss = 1.695717183748881, Accuracy = 0.31609848141670227\n",
      "Training epoch 5: Loss = 1.6846848726272583, Accuracy = 0.32021453976631165\n",
      "Validation epoch 5: Loss = 1.596770977973938, Accuracy = 0.4015151262283325\n",
      "Training epoch 6: Loss = 1.5855681896209717, Accuracy = 0.3640282154083252\n",
      "Validation epoch 6: Loss = 1.627803103129069, Accuracy = 0.39261361956596375\n",
      "Training epoch 7: Loss = 1.5057018995285034, Accuracy = 0.37717968225479126\n",
      "Validation epoch 7: Loss = 1.3808014472325643, Accuracy = 0.4159091114997864\n",
      "Training epoch 8: Loss = 1.4654275178909302, Accuracy = 0.3847717344760895\n",
      "Validation epoch 8: Loss = 1.3583016633987426, Accuracy = 0.48636361956596375\n",
      "Training epoch 9: Loss = 1.360496163368225, Accuracy = 0.4241526424884796\n",
      "Validation epoch 9: Loss = 1.2119160532951354, Accuracy = 0.4839015305042267\n",
      "Training epoch 10: Loss = 1.2744011878967285, Accuracy = 0.48048096895217896\n",
      "Validation epoch 10: Loss = 1.0905709544817606, Accuracy = 0.5738636255264282\n",
      "Training epoch 11: Loss = 1.1590262651443481, Accuracy = 0.5252007842063904\n",
      "Validation epoch 11: Loss = 1.062647807598114, Accuracy = 0.6034090518951416\n",
      "Training epoch 12: Loss = 1.1771782636642456, Accuracy = 0.4922119975090027\n",
      "Validation epoch 12: Loss = 1.0577863653500874, Accuracy = 0.5073863863945007\n",
      "Training epoch 13: Loss = 1.1219406127929688, Accuracy = 0.5175842642784119\n",
      "Validation epoch 13: Loss = 0.9937786936759949, Accuracy = 0.6028409600257874\n",
      "Training epoch 14: Loss = 1.075981855392456, Accuracy = 0.5568671226501465\n",
      "Validation epoch 14: Loss = 0.9583801666895548, Accuracy = 0.6570075750350952\n",
      "Training epoch 15: Loss = 1.0167769193649292, Accuracy = 0.573300302028656\n",
      "Validation epoch 15: Loss = 0.9027345617612202, Accuracy = 0.6753787994384766\n",
      "Training epoch 16: Loss = 0.9723343849182129, Accuracy = 0.5906641483306885\n",
      "Validation epoch 16: Loss = 0.8458370288213094, Accuracy = 0.6632575988769531\n",
      "Training epoch 17: Loss = 0.9520233273506165, Accuracy = 0.5974481105804443\n",
      "Validation epoch 17: Loss = 0.8083411773045858, Accuracy = 0.679356038570404\n",
      "Training epoch 18: Loss = 0.9294676184654236, Accuracy = 0.5913009643554688\n",
      "Validation epoch 18: Loss = 0.8305768013000489, Accuracy = 0.6844697594642639\n",
      "Training epoch 19: Loss = 0.9140557050704956, Accuracy = 0.6380289793014526\n",
      "Validation epoch 19: Loss = 0.8149988651275635, Accuracy = 0.6984848380088806\n",
      "Training epoch 20: Loss = 0.8634863495826721, Accuracy = 0.6303144693374634\n",
      "Validation epoch 20: Loss = 0.8033988992373149, Accuracy = 0.6551135778427124\n",
      "Training epoch 21: Loss = 0.8536739349365234, Accuracy = 0.6391555666923523\n",
      "Validation epoch 21: Loss = 0.7049214998881023, Accuracy = 0.7359848618507385\n",
      "Training epoch 22: Loss = 0.7983832955360413, Accuracy = 0.6502007842063904\n",
      "Validation epoch 22: Loss = 0.700157105922699, Accuracy = 0.7238636016845703\n",
      "Training epoch 23: Loss = 0.844357430934906, Accuracy = 0.6529927849769592\n",
      "Validation epoch 23: Loss = 0.7005698323249817, Accuracy = 0.7151515483856201\n",
      "Training epoch 24: Loss = 0.7837456464767456, Accuracy = 0.666780948638916\n",
      "Validation epoch 24: Loss = 0.6435948729515075, Accuracy = 0.732007622718811\n",
      "Training epoch 25: Loss = 0.7793940901756287, Accuracy = 0.6777772307395935\n",
      "Validation epoch 25: Loss = 0.7039462089538574, Accuracy = 0.6945075988769531\n",
      "Training epoch 26: Loss = 0.7433415651321411, Accuracy = 0.6790262460708618\n",
      "Validation epoch 26: Loss = 0.6933860778808594, Accuracy = 0.7526515126228333\n",
      "Training epoch 27: Loss = 0.7222938537597656, Accuracy = 0.6920062899589539\n",
      "Validation epoch 27: Loss = 0.5770411014556884, Accuracy = 0.7962121367454529\n",
      "Training epoch 28: Loss = 0.7173289656639099, Accuracy = 0.6911000609397888\n",
      "Validation epoch 28: Loss = 0.6754497011502584, Accuracy = 0.7399621605873108\n",
      "Training epoch 29: Loss = 0.727293074131012, Accuracy = 0.6837039589881897\n",
      "Validation epoch 29: Loss = 0.5966715256373087, Accuracy = 0.7543560862541199\n",
      "Training epoch 30: Loss = 0.6618555784225464, Accuracy = 0.7329055666923523\n",
      "Validation epoch 30: Loss = 0.6437566558519999, Accuracy = 0.7626894116401672\n",
      "Training epoch 31: Loss = 0.6665753126144409, Accuracy = 0.7145375609397888\n",
      "Validation epoch 31: Loss = 0.5618134041627248, Accuracy = 0.7611742615699768\n",
      "Training epoch 32: Loss = 0.6966255903244019, Accuracy = 0.714855968952179\n",
      "Validation epoch 32: Loss = 0.6350682338078817, Accuracy = 0.7420454621315002\n",
      "Training epoch 33: Loss = 0.638958752155304, Accuracy = 0.7361873388290405\n",
      "Validation epoch 33: Loss = 0.606735905011495, Accuracy = 0.7589015364646912\n",
      "Training epoch 34: Loss = 0.6311835646629333, Accuracy = 0.7307503819465637\n",
      "Validation epoch 34: Loss = 0.4978760858376821, Accuracy = 0.7941287755966187\n",
      "Training epoch 35: Loss = 0.6284132599830627, Accuracy = 0.7445876002311707\n",
      "Validation epoch 35: Loss = 0.5048916896184286, Accuracy = 0.793749988079071\n",
      "Training epoch 36: Loss = 0.6179094910621643, Accuracy = 0.7374362945556641\n",
      "Validation epoch 36: Loss = 0.5210741341114045, Accuracy = 0.7878788113594055\n",
      "Training epoch 37: Loss = 0.6005703210830688, Accuracy = 0.7536000609397888\n",
      "Validation epoch 37: Loss = 0.595731520652771, Accuracy = 0.7609848380088806\n",
      "Training epoch 38: Loss = 0.601921796798706, Accuracy = 0.7561226487159729\n",
      "Validation epoch 38: Loss = 0.5528351485729217, Accuracy = 0.7615530490875244\n",
      "Training epoch 39: Loss = 0.593325138092041, Accuracy = 0.7545062899589539\n",
      "Validation epoch 39: Loss = 0.551292872428894, Accuracy = 0.7941287755966187\n",
      "Training epoch 40: Loss = 0.5854190587997437, Accuracy = 0.7584491968154907\n",
      "Validation epoch 40: Loss = 0.5495243529478709, Accuracy = 0.7589015364646912\n",
      "Training epoch 41: Loss = 0.5959349274635315, Accuracy = 0.7644249200820923\n",
      "Validation epoch 41: Loss = 0.5500022967656454, Accuracy = 0.7751893997192383\n",
      "Training epoch 42: Loss = 0.5658242702484131, Accuracy = 0.7709394693374634\n",
      "Validation epoch 42: Loss = 0.5221533258756001, Accuracy = 0.7962121367454529\n",
      "Training epoch 43: Loss = 0.5801118612289429, Accuracy = 0.7681965231895447\n",
      "Validation epoch 43: Loss = 0.4171415408452352, Accuracy = 0.8590909242630005\n",
      "Training epoch 44: Loss = 0.559341311454773, Accuracy = 0.7621963024139404\n",
      "Validation epoch 44: Loss = 0.4404031674067179, Accuracy = 0.823106050491333\n",
      "Training epoch 45: Loss = 0.5441364049911499, Accuracy = 0.7681475281715393\n",
      "Validation epoch 45: Loss = 0.4553097466627757, Accuracy = 0.8253787755966187\n",
      "Training epoch 46: Loss = 0.5226761102676392, Accuracy = 0.78387051820755\n",
      "Validation epoch 46: Loss = 0.4721948484579722, Accuracy = 0.8147727251052856\n",
      "Training epoch 47: Loss = 0.5409076809883118, Accuracy = 0.7830132842063904\n",
      "Validation epoch 47: Loss = 0.549727064371109, Accuracy = 0.7732954621315002\n",
      "Training epoch 48: Loss = 0.5281758308410645, Accuracy = 0.7770375609397888\n",
      "Validation epoch 48: Loss = 0.4750637133916219, Accuracy = 0.7941287755966187\n",
      "Training epoch 49: Loss = 0.5025957226753235, Accuracy = 0.8028507232666016\n",
      "Validation epoch 49: Loss = 0.42185834646224973, Accuracy = 0.8234848380088806\n",
      "Training epoch 50: Loss = 0.47627660632133484, Accuracy = 0.8109326362609863\n",
      "Validation epoch 50: Loss = 0.4260947674512863, Accuracy = 0.8255681991577148\n",
      "Training epoch 51: Loss = 0.5036005973815918, Accuracy = 0.8120102286338806\n",
      "Validation epoch 51: Loss = 0.45623594522476196, Accuracy = 0.8047348856925964\n",
      "Training epoch 52: Loss = 0.4920235872268677, Accuracy = 0.7971934080123901\n",
      "Validation epoch 52: Loss = 0.4304370512564977, Accuracy = 0.8274621367454529\n",
      "Training epoch 53: Loss = 0.4560869336128235, Accuracy = 0.8173981308937073\n",
      "Validation epoch 53: Loss = 0.4771926442782084, Accuracy = 0.8003787994384766\n",
      "Training epoch 54: Loss = 0.4740085005760193, Accuracy = 0.8155123591423035\n",
      "Validation epoch 54: Loss = 0.39234277606010437, Accuracy = 0.8460227251052856\n",
      "Training epoch 55: Loss = 0.48381054401397705, Accuracy = 0.8112019896507263\n",
      "Validation epoch 55: Loss = 0.4263046701749166, Accuracy = 0.8147727251052856\n",
      "Training epoch 56: Loss = 0.4969812333583832, Accuracy = 0.8042956590652466\n",
      "Validation epoch 56: Loss = 0.4553465167681376, Accuracy = 0.8297348618507385\n",
      "Training epoch 57: Loss = 0.4485035538673401, Accuracy = 0.8138960003852844\n",
      "Validation epoch 57: Loss = 0.36566750208536786, Accuracy = 0.8590909242630005\n",
      "Training epoch 58: Loss = 0.4511320888996124, Accuracy = 0.8159286975860596\n",
      "Validation epoch 58: Loss = 0.4109481394290924, Accuracy = 0.8481060862541199\n",
      "Training epoch 59: Loss = 0.42434602975845337, Accuracy = 0.8275127410888672\n",
      "Validation epoch 59: Loss = 0.4161237438519796, Accuracy = 0.8318182229995728\n",
      "Training epoch 60: Loss = 0.43539389967918396, Accuracy = 0.8300597667694092\n",
      "Validation epoch 60: Loss = 0.31681275566418965, Accuracy = 0.8876894116401672\n",
      "Training epoch 61: Loss = 0.4661600887775421, Accuracy = 0.8082386255264282\n",
      "Validation epoch 61: Loss = 0.4579966982205709, Accuracy = 0.8168560862541199\n",
      "Training epoch 62: Loss = 0.43058842420578003, Accuracy = 0.8313577771186829\n",
      "Validation epoch 62: Loss = 0.5029024700323741, Accuracy = 0.7628787755966187\n",
      "Training epoch 63: Loss = 0.48359352350234985, Accuracy = 0.812597930431366\n",
      "Validation epoch 63: Loss = 0.45459369421005247, Accuracy = 0.8049242496490479\n",
      "Training epoch 64: Loss = 0.41967496275901794, Accuracy = 0.8321659564971924\n",
      "Validation epoch 64: Loss = 0.4189434587955475, Accuracy = 0.854356050491333\n",
      "Training epoch 65: Loss = 0.42028573155403137, Accuracy = 0.8435785174369812\n",
      "Validation epoch 65: Loss = 0.3295322666565577, Accuracy = 0.8670454621315002\n",
      "Training epoch 66: Loss = 0.4431500732898712, Accuracy = 0.816149115562439\n",
      "Validation epoch 66: Loss = 0.4277049243450165, Accuracy = 0.824999988079071\n",
      "Training epoch 67: Loss = 0.4106537699699402, Accuracy = 0.8368926048278809\n",
      "Validation epoch 67: Loss = 0.3811057229836782, Accuracy = 0.8564394116401672\n",
      "Training epoch 68: Loss = 0.3812604546546936, Accuracy = 0.8518809080123901\n",
      "Validation epoch 68: Loss = 0.37251056730747223, Accuracy = 0.8380681872367859\n",
      "Training epoch 69: Loss = 0.4284433424472809, Accuracy = 0.8354477286338806\n",
      "Validation epoch 69: Loss = 0.4301790982484818, Accuracy = 0.793749988079071\n",
      "Training epoch 70: Loss = 0.3940035104751587, Accuracy = 0.8443866968154907\n",
      "Validation epoch 70: Loss = 0.391072608033816, Accuracy = 0.852462112903595\n",
      "Training epoch 71: Loss = 0.37918537855148315, Accuracy = 0.8566810488700867\n",
      "Validation epoch 71: Loss = 0.34810922741889955, Accuracy = 0.898106038570404\n",
      "Training epoch 72: Loss = 0.4104492664337158, Accuracy = 0.847570538520813\n",
      "Validation epoch 72: Loss = 0.4639104147752126, Accuracy = 0.7962121367454529\n",
      "Training epoch 73: Loss = 0.42858684062957764, Accuracy = 0.833390474319458\n",
      "Validation epoch 73: Loss = 0.3550493041674296, Accuracy = 0.8541666865348816\n",
      "Training epoch 74: Loss = 0.4029942452907562, Accuracy = 0.8392192721366882\n",
      "Validation epoch 74: Loss = 0.343389755487442, Accuracy = 0.8857954740524292\n"
     ]
    },
    {
     "data": {
      "image/png": "[encoded data removed]",
      "text/plain": [
       "<Figure size 864x288 with 2 Axes>"
      ]
     },
     "metadata": {
      "needs_background": "light"
     },
     "output_type": "display_data"
    }
   ],
   "source": [
    "from tensorflow.keras.models import Sequential\n",
    "from tensorflow.keras.layers import Conv2D, MaxPooling2D, Lambda, Input,BatchNormalization, LeakyReLU\n",
    "from tensorflow.keras.layers import Activation, Dropout, Flatten, Dense\n",
    "from tensorflow.keras.metrics import categorical_accuracy\n",
    "from tensorflow.keras import regularizers, optimizers\n",
    "\n",
    "#FINAL MODEL\n",
    "Model2 = Sequential()\n",
    "\n",
    "# input\n",
    "Model2.add(Input(shape=(32, 32, 3)))\n",
    "\n",
    "Model2.add(Lambda(lambda x: tf.expand_dims(x[:,:,:,0], -1, name=None))) \n",
    "\n",
    "# Conv Layer 1\n",
    "Model2.add(Conv2D(64, (3, 3)))\n",
    "Model2.add(Activation('relu'))\n",
    "Model2.add(Dropout(0.5))\n",
    "\n",
    "# Conv Layer 2\n",
    "Model2.add(Conv2D(64, (3, 3)))\n",
    "Model2.add(Activation('relu'))\n",
    "Model2.add(MaxPooling2D(pool_size=(2, 2)))\n",
    "\n",
    "# Conv Layer 3\n",
    "Model2.add(Conv2D(128, (3, 3)))\n",
    "Model2.add(Activation('relu'))\n",
    "Model2.add(Dropout(0.5))\n",
    "\n",
    "# Conv Layer 4\n",
    "Model2.add(Conv2D(128, (3, 3)))\n",
    "Model2.add(Activation('relu'))\n",
    "Model2.add(MaxPooling2D(pool_size=(2, 2)))\n",
    "\n",
    "\n",
    "# MLP\n",
    "Model2.add(Flatten())\n",
    "Model2.add(Dense(128))\n",
    "Model2.add(Activation('relu'))\n",
    "Model2.add(Dropout(0.5))\n",
    "Model2.add(Dense(128))\n",
    "Model2.add(Activation('relu'))\n",
    "Model2.add(Dropout(0.5))\n",
    "Model2.add(Dense(9))\n",
    "Model2.add(Activation('softmax'))\n",
    "\n",
    "Model2.compile(loss='categorical_crossentropy',\n",
    "              optimizer='adam',\n",
    "              metrics=[categorical_accuracy])\n",
    "\n",
    "Model2.summary()\n",
    "\n",
    "res = train_model(Model2, num_epoch= 75, verbose=1)\n",
    "\n",
    "plot_results(res)"
   ]
  },
  {
   "cell_type": "markdown",
   "metadata": {},
   "source": [
    "## Hyper-Parameter Tuning\n",
    "\n",
    "Hyper Parameter Tuning process for a deep learning network requires knowledge about different configuration and extensive trial and error until you find a best configuration for your model."
   ]
  },
  {
   "cell_type": "markdown",
   "metadata": {},
   "source": [
    "__Model2v2__: Modified version of Model2 with __SGD Optimizer__ while tuning the learning rate"
   ]
  },
  {
   "cell_type": "code",
   "execution_count": 56,
   "metadata": {
    "scrolled": true
   },
   "outputs": [
    {
     "name": "stdout",
     "output_type": "stream",
     "text": [
      "Model: \"sequential_7\"\n",
      "_________________________________________________________________\n",
      "Layer (type)                 Output Shape              Param #   \n",
      "=================================================================\n",
      "lambda_7 (Lambda)            (None, 32, 32, 1)         0         \n",
      "_________________________________________________________________\n",
      "conv2d_24 (Conv2D)           (None, 30, 30, 64)        640       \n",
      "_________________________________________________________________\n",
      "activation_45 (Activation)   (None, 30, 30, 64)        0         \n",
      "_________________________________________________________________\n",
      "max_pooling2d_14 (MaxPooling (None, 15, 15, 64)        0         \n",
      "_________________________________________________________________\n",
      "conv2d_25 (Conv2D)           (None, 13, 13, 128)       73856     \n",
      "_________________________________________________________________\n",
      "activation_46 (Activation)   (None, 13, 13, 128)       0         \n",
      "_________________________________________________________________\n",
      "max_pooling2d_15 (MaxPooling (None, 6, 6, 128)         0         \n",
      "_________________________________________________________________\n",
      "flatten_7 (Flatten)          (None, 4608)              0         \n",
      "_________________________________________________________________\n",
      "dense_21 (Dense)             (None, 128)               589952    \n",
      "_________________________________________________________________\n",
      "activation_47 (Activation)   (None, 128)               0         \n",
      "_________________________________________________________________\n",
      "dropout_23 (Dropout)         (None, 128)               0         \n",
      "_________________________________________________________________\n",
      "dense_22 (Dense)             (None, 9)                 1161      \n",
      "_________________________________________________________________\n",
      "activation_48 (Activation)   (None, 9)                 0         \n",
      "=================================================================\n",
      "Total params: 665,609\n",
      "Trainable params: 665,609\n",
      "Non-trainable params: 0\n",
      "_________________________________________________________________\n"
     ]
    },
    {
     "ename": "KeyboardInterrupt",
     "evalue": "",
     "output_type": "error",
     "traceback": [
      "\u001b[0;31m---------------------------------------------------------------------------\u001b[0m",
      "\u001b[0;31mKeyboardInterrupt\u001b[0m                         Traceback (most recent call last)",
      "\u001b[0;32m<ipython-input-56-8b88f0632b71>\u001b[0m in \u001b[0;36m<module>\u001b[0;34m\u001b[0m\n\u001b[1;32m     31\u001b[0m \u001b[0mModel2v2\u001b[0m\u001b[0;34m.\u001b[0m\u001b[0msummary\u001b[0m\u001b[0;34m(\u001b[0m\u001b[0;34m)\u001b[0m\u001b[0;34m\u001b[0m\u001b[0;34m\u001b[0m\u001b[0m\n\u001b[1;32m     32\u001b[0m \u001b[0;34m\u001b[0m\u001b[0m\n\u001b[0;32m---> 33\u001b[0;31m \u001b[0mres\u001b[0m \u001b[0;34m=\u001b[0m \u001b[0mtrain_model\u001b[0m\u001b[0;34m(\u001b[0m\u001b[0mModel2v2\u001b[0m\u001b[0;34m,\u001b[0m \u001b[0mnum_epoch\u001b[0m\u001b[0;34m=\u001b[0m \u001b[0;36m50\u001b[0m\u001b[0;34m,\u001b[0m \u001b[0mverbose\u001b[0m\u001b[0;34m=\u001b[0m\u001b[0;36m0\u001b[0m\u001b[0;34m)\u001b[0m\u001b[0;34m\u001b[0m\u001b[0;34m\u001b[0m\u001b[0m\n\u001b[0m\u001b[1;32m     34\u001b[0m \u001b[0;34m\u001b[0m\u001b[0m\n\u001b[1;32m     35\u001b[0m \u001b[0mplot_results\u001b[0m\u001b[0;34m(\u001b[0m\u001b[0mres\u001b[0m\u001b[0;34m)\u001b[0m\u001b[0;34m\u001b[0m\u001b[0;34m\u001b[0m\u001b[0m\n",
      "\u001b[0;32m<ipython-input-41-b3142785cb2d>\u001b[0m in \u001b[0;36mtrain_model\u001b[0;34m(model_, num_epoch, verbose)\u001b[0m\n\u001b[1;32m      8\u001b[0m \u001b[0;34m\u001b[0m\u001b[0m\n\u001b[1;32m      9\u001b[0m          \u001b[0;31m# iterate over each batch\u001b[0m\u001b[0;34m\u001b[0m\u001b[0;34m\u001b[0m\u001b[0;34m\u001b[0m\u001b[0m\n\u001b[0;32m---> 10\u001b[0;31m         \u001b[0;32mfor\u001b[0m \u001b[0mx\u001b[0m\u001b[0;34m,\u001b[0m\u001b[0my\u001b[0m \u001b[0;32min\u001b[0m \u001b[0mtrain_generator\u001b[0m\u001b[0;34m:\u001b[0m\u001b[0;34m\u001b[0m\u001b[0;34m\u001b[0m\u001b[0m\n\u001b[0m\u001b[1;32m     11\u001b[0m             \u001b[0mloss\u001b[0m\u001b[0;34m,\u001b[0m \u001b[0macc\u001b[0m \u001b[0;34m=\u001b[0m \u001b[0mmodel_\u001b[0m\u001b[0;34m.\u001b[0m\u001b[0mtrain_on_batch\u001b[0m\u001b[0;34m(\u001b[0m\u001b[0mx\u001b[0m\u001b[0;34m,\u001b[0m \u001b[0my\u001b[0m\u001b[0;34m)\u001b[0m \u001b[0;31m# Update weights and return train loss, acc per batch\u001b[0m\u001b[0;34m\u001b[0m\u001b[0;34m\u001b[0m\u001b[0m\n\u001b[1;32m     12\u001b[0m             \u001b[0mloss_\u001b[0m\u001b[0;34m.\u001b[0m\u001b[0mappend\u001b[0m\u001b[0;34m(\u001b[0m\u001b[0mloss\u001b[0m\u001b[0;34m)\u001b[0m\u001b[0;34m\u001b[0m\u001b[0;34m\u001b[0m\u001b[0m\n",
      "\u001b[0;32m~/anaconda3/envs/tensorflow_p36/lib/python3.6/site-packages/keras_preprocessing/image/iterator.py\u001b[0m in \u001b[0;36m__next__\u001b[0;34m(self, *args, **kwargs)\u001b[0m\n\u001b[1;32m    102\u001b[0m \u001b[0;34m\u001b[0m\u001b[0m\n\u001b[1;32m    103\u001b[0m     \u001b[0;32mdef\u001b[0m \u001b[0m__next__\u001b[0m\u001b[0;34m(\u001b[0m\u001b[0mself\u001b[0m\u001b[0;34m,\u001b[0m \u001b[0;34m*\u001b[0m\u001b[0margs\u001b[0m\u001b[0;34m,\u001b[0m \u001b[0;34m**\u001b[0m\u001b[0mkwargs\u001b[0m\u001b[0;34m)\u001b[0m\u001b[0;34m:\u001b[0m\u001b[0;34m\u001b[0m\u001b[0;34m\u001b[0m\u001b[0m\n\u001b[0;32m--> 104\u001b[0;31m         \u001b[0;32mreturn\u001b[0m \u001b[0mself\u001b[0m\u001b[0;34m.\u001b[0m\u001b[0mnext\u001b[0m\u001b[0;34m(\u001b[0m\u001b[0;34m*\u001b[0m\u001b[0margs\u001b[0m\u001b[0;34m,\u001b[0m \u001b[0;34m**\u001b[0m\u001b[0mkwargs\u001b[0m\u001b[0;34m)\u001b[0m\u001b[0;34m\u001b[0m\u001b[0;34m\u001b[0m\u001b[0m\n\u001b[0m\u001b[1;32m    105\u001b[0m \u001b[0;34m\u001b[0m\u001b[0m\n\u001b[1;32m    106\u001b[0m     \u001b[0;32mdef\u001b[0m \u001b[0mnext\u001b[0m\u001b[0;34m(\u001b[0m\u001b[0mself\u001b[0m\u001b[0;34m)\u001b[0m\u001b[0;34m:\u001b[0m\u001b[0;34m\u001b[0m\u001b[0;34m\u001b[0m\u001b[0m\n",
      "\u001b[0;32m~/anaconda3/envs/tensorflow_p36/lib/python3.6/site-packages/keras_preprocessing/image/iterator.py\u001b[0m in \u001b[0;36mnext\u001b[0;34m(self)\u001b[0m\n\u001b[1;32m    114\u001b[0m         \u001b[0;31m# The transformation of images is not under thread lock\u001b[0m\u001b[0;34m\u001b[0m\u001b[0;34m\u001b[0m\u001b[0;34m\u001b[0m\u001b[0m\n\u001b[1;32m    115\u001b[0m         \u001b[0;31m# so it can be done in parallel\u001b[0m\u001b[0;34m\u001b[0m\u001b[0;34m\u001b[0m\u001b[0;34m\u001b[0m\u001b[0m\n\u001b[0;32m--> 116\u001b[0;31m         \u001b[0;32mreturn\u001b[0m \u001b[0mself\u001b[0m\u001b[0;34m.\u001b[0m\u001b[0m_get_batches_of_transformed_samples\u001b[0m\u001b[0;34m(\u001b[0m\u001b[0mindex_array\u001b[0m\u001b[0;34m)\u001b[0m\u001b[0;34m\u001b[0m\u001b[0;34m\u001b[0m\u001b[0m\n\u001b[0m\u001b[1;32m    117\u001b[0m \u001b[0;34m\u001b[0m\u001b[0m\n\u001b[1;32m    118\u001b[0m     \u001b[0;32mdef\u001b[0m \u001b[0m_get_batches_of_transformed_samples\u001b[0m\u001b[0;34m(\u001b[0m\u001b[0mself\u001b[0m\u001b[0;34m,\u001b[0m \u001b[0mindex_array\u001b[0m\u001b[0;34m)\u001b[0m\u001b[0;34m:\u001b[0m\u001b[0;34m\u001b[0m\u001b[0;34m\u001b[0m\u001b[0m\n",
      "\u001b[0;32m~/anaconda3/envs/tensorflow_p36/lib/python3.6/site-packages/keras_preprocessing/image/iterator.py\u001b[0m in \u001b[0;36m_get_batches_of_transformed_samples\u001b[0;34m(self, index_array)\u001b[0m\n\u001b[1;32m    228\u001b[0m                            \u001b[0mcolor_mode\u001b[0m\u001b[0;34m=\u001b[0m\u001b[0mself\u001b[0m\u001b[0;34m.\u001b[0m\u001b[0mcolor_mode\u001b[0m\u001b[0;34m,\u001b[0m\u001b[0;34m\u001b[0m\u001b[0;34m\u001b[0m\u001b[0m\n\u001b[1;32m    229\u001b[0m                            \u001b[0mtarget_size\u001b[0m\u001b[0;34m=\u001b[0m\u001b[0mself\u001b[0m\u001b[0;34m.\u001b[0m\u001b[0mtarget_size\u001b[0m\u001b[0;34m,\u001b[0m\u001b[0;34m\u001b[0m\u001b[0;34m\u001b[0m\u001b[0m\n\u001b[0;32m--> 230\u001b[0;31m                            interpolation=self.interpolation)\n\u001b[0m\u001b[1;32m    231\u001b[0m             \u001b[0mx\u001b[0m \u001b[0;34m=\u001b[0m \u001b[0mimg_to_array\u001b[0m\u001b[0;34m(\u001b[0m\u001b[0mimg\u001b[0m\u001b[0;34m,\u001b[0m \u001b[0mdata_format\u001b[0m\u001b[0;34m=\u001b[0m\u001b[0mself\u001b[0m\u001b[0;34m.\u001b[0m\u001b[0mdata_format\u001b[0m\u001b[0;34m)\u001b[0m\u001b[0;34m\u001b[0m\u001b[0;34m\u001b[0m\u001b[0m\n\u001b[1;32m    232\u001b[0m             \u001b[0;31m# Pillow images should be closed after `load_img`,\u001b[0m\u001b[0;34m\u001b[0m\u001b[0;34m\u001b[0m\u001b[0;34m\u001b[0m\u001b[0m\n",
      "\u001b[0;32m~/anaconda3/envs/tensorflow_p36/lib/python3.6/site-packages/keras_preprocessing/image/utils.py\u001b[0m in \u001b[0;36mload_img\u001b[0;34m(path, grayscale, color_mode, target_size, interpolation)\u001b[0m\n\u001b[1;32m    112\u001b[0m                           'The use of `load_img` requires PIL.')\n\u001b[1;32m    113\u001b[0m     \u001b[0;32mwith\u001b[0m \u001b[0mopen\u001b[0m\u001b[0;34m(\u001b[0m\u001b[0mpath\u001b[0m\u001b[0;34m,\u001b[0m \u001b[0;34m'rb'\u001b[0m\u001b[0;34m)\u001b[0m \u001b[0;32mas\u001b[0m \u001b[0mf\u001b[0m\u001b[0;34m:\u001b[0m\u001b[0;34m\u001b[0m\u001b[0;34m\u001b[0m\u001b[0m\n\u001b[0;32m--> 114\u001b[0;31m         \u001b[0mimg\u001b[0m \u001b[0;34m=\u001b[0m \u001b[0mpil_image\u001b[0m\u001b[0;34m.\u001b[0m\u001b[0mopen\u001b[0m\u001b[0;34m(\u001b[0m\u001b[0mio\u001b[0m\u001b[0;34m.\u001b[0m\u001b[0mBytesIO\u001b[0m\u001b[0;34m(\u001b[0m\u001b[0mf\u001b[0m\u001b[0;34m.\u001b[0m\u001b[0mread\u001b[0m\u001b[0;34m(\u001b[0m\u001b[0;34m)\u001b[0m\u001b[0;34m)\u001b[0m\u001b[0;34m)\u001b[0m\u001b[0;34m\u001b[0m\u001b[0;34m\u001b[0m\u001b[0m\n\u001b[0m\u001b[1;32m    115\u001b[0m         \u001b[0;32mif\u001b[0m \u001b[0mcolor_mode\u001b[0m \u001b[0;34m==\u001b[0m \u001b[0;34m'grayscale'\u001b[0m\u001b[0;34m:\u001b[0m\u001b[0;34m\u001b[0m\u001b[0;34m\u001b[0m\u001b[0m\n\u001b[1;32m    116\u001b[0m             \u001b[0;31m# if image is not already an 8-bit, 16-bit or 32-bit grayscale image\u001b[0m\u001b[0;34m\u001b[0m\u001b[0;34m\u001b[0m\u001b[0;34m\u001b[0m\u001b[0m\n",
      "\u001b[0;32m~/anaconda3/envs/tensorflow_p36/lib/python3.6/site-packages/PIL/Image.py\u001b[0m in \u001b[0;36mopen\u001b[0;34m(fp, mode)\u001b[0m\n\u001b[1;32m   2879\u001b[0m         \u001b[0;32mreturn\u001b[0m \u001b[0;32mNone\u001b[0m\u001b[0;34m\u001b[0m\u001b[0;34m\u001b[0m\u001b[0m\n\u001b[1;32m   2880\u001b[0m \u001b[0;34m\u001b[0m\u001b[0m\n\u001b[0;32m-> 2881\u001b[0;31m     \u001b[0mim\u001b[0m \u001b[0;34m=\u001b[0m \u001b[0m_open_core\u001b[0m\u001b[0;34m(\u001b[0m\u001b[0mfp\u001b[0m\u001b[0;34m,\u001b[0m \u001b[0mfilename\u001b[0m\u001b[0;34m,\u001b[0m \u001b[0mprefix\u001b[0m\u001b[0;34m)\u001b[0m\u001b[0;34m\u001b[0m\u001b[0;34m\u001b[0m\u001b[0m\n\u001b[0m\u001b[1;32m   2882\u001b[0m \u001b[0;34m\u001b[0m\u001b[0m\n\u001b[1;32m   2883\u001b[0m     \u001b[0;32mif\u001b[0m \u001b[0mim\u001b[0m \u001b[0;32mis\u001b[0m \u001b[0;32mNone\u001b[0m\u001b[0;34m:\u001b[0m\u001b[0;34m\u001b[0m\u001b[0;34m\u001b[0m\u001b[0m\n",
      "\u001b[0;32m~/anaconda3/envs/tensorflow_p36/lib/python3.6/site-packages/PIL/Image.py\u001b[0m in \u001b[0;36m_open_core\u001b[0;34m(fp, filename, prefix)\u001b[0m\n\u001b[1;32m   2865\u001b[0m                 \u001b[0;32melif\u001b[0m \u001b[0mresult\u001b[0m\u001b[0;34m:\u001b[0m\u001b[0;34m\u001b[0m\u001b[0;34m\u001b[0m\u001b[0m\n\u001b[1;32m   2866\u001b[0m                     \u001b[0mfp\u001b[0m\u001b[0;34m.\u001b[0m\u001b[0mseek\u001b[0m\u001b[0;34m(\u001b[0m\u001b[0;36m0\u001b[0m\u001b[0;34m)\u001b[0m\u001b[0;34m\u001b[0m\u001b[0;34m\u001b[0m\u001b[0m\n\u001b[0;32m-> 2867\u001b[0;31m                     \u001b[0mim\u001b[0m \u001b[0;34m=\u001b[0m \u001b[0mfactory\u001b[0m\u001b[0;34m(\u001b[0m\u001b[0mfp\u001b[0m\u001b[0;34m,\u001b[0m \u001b[0mfilename\u001b[0m\u001b[0;34m)\u001b[0m\u001b[0;34m\u001b[0m\u001b[0;34m\u001b[0m\u001b[0m\n\u001b[0m\u001b[1;32m   2868\u001b[0m                     \u001b[0m_decompression_bomb_check\u001b[0m\u001b[0;34m(\u001b[0m\u001b[0mim\u001b[0m\u001b[0;34m.\u001b[0m\u001b[0msize\u001b[0m\u001b[0;34m)\u001b[0m\u001b[0;34m\u001b[0m\u001b[0;34m\u001b[0m\u001b[0m\n\u001b[1;32m   2869\u001b[0m                     \u001b[0;32mreturn\u001b[0m \u001b[0mim\u001b[0m\u001b[0;34m\u001b[0m\u001b[0;34m\u001b[0m\u001b[0m\n",
      "\u001b[0;32m~/anaconda3/envs/tensorflow_p36/lib/python3.6/site-packages/PIL/JpegImagePlugin.py\u001b[0m in \u001b[0;36mjpeg_factory\u001b[0;34m(fp, filename)\u001b[0m\n\u001b[1;32m    777\u001b[0m \u001b[0;31m# Factory for making JPEG and MPO instances\u001b[0m\u001b[0;34m\u001b[0m\u001b[0;34m\u001b[0m\u001b[0;34m\u001b[0m\u001b[0m\n\u001b[1;32m    778\u001b[0m \u001b[0;32mdef\u001b[0m \u001b[0mjpeg_factory\u001b[0m\u001b[0;34m(\u001b[0m\u001b[0mfp\u001b[0m\u001b[0;34m=\u001b[0m\u001b[0;32mNone\u001b[0m\u001b[0;34m,\u001b[0m \u001b[0mfilename\u001b[0m\u001b[0;34m=\u001b[0m\u001b[0;32mNone\u001b[0m\u001b[0;34m)\u001b[0m\u001b[0;34m:\u001b[0m\u001b[0;34m\u001b[0m\u001b[0;34m\u001b[0m\u001b[0m\n\u001b[0;32m--> 779\u001b[0;31m     \u001b[0mim\u001b[0m \u001b[0;34m=\u001b[0m \u001b[0mJpegImageFile\u001b[0m\u001b[0;34m(\u001b[0m\u001b[0mfp\u001b[0m\u001b[0;34m,\u001b[0m \u001b[0mfilename\u001b[0m\u001b[0;34m)\u001b[0m\u001b[0;34m\u001b[0m\u001b[0;34m\u001b[0m\u001b[0m\n\u001b[0m\u001b[1;32m    780\u001b[0m     \u001b[0;32mtry\u001b[0m\u001b[0;34m:\u001b[0m\u001b[0;34m\u001b[0m\u001b[0;34m\u001b[0m\u001b[0m\n\u001b[1;32m    781\u001b[0m         \u001b[0mmpheader\u001b[0m \u001b[0;34m=\u001b[0m \u001b[0mim\u001b[0m\u001b[0;34m.\u001b[0m\u001b[0m_getmp\u001b[0m\u001b[0;34m(\u001b[0m\u001b[0;34m)\u001b[0m\u001b[0;34m\u001b[0m\u001b[0;34m\u001b[0m\u001b[0m\n",
      "\u001b[0;32m~/anaconda3/envs/tensorflow_p36/lib/python3.6/site-packages/PIL/ImageFile.py\u001b[0m in \u001b[0;36m__init__\u001b[0;34m(self, fp, filename)\u001b[0m\n\u001b[1;32m    105\u001b[0m         \u001b[0;32mtry\u001b[0m\u001b[0;34m:\u001b[0m\u001b[0;34m\u001b[0m\u001b[0;34m\u001b[0m\u001b[0m\n\u001b[1;32m    106\u001b[0m             \u001b[0;32mtry\u001b[0m\u001b[0;34m:\u001b[0m\u001b[0;34m\u001b[0m\u001b[0;34m\u001b[0m\u001b[0m\n\u001b[0;32m--> 107\u001b[0;31m                 \u001b[0mself\u001b[0m\u001b[0;34m.\u001b[0m\u001b[0m_open\u001b[0m\u001b[0;34m(\u001b[0m\u001b[0;34m)\u001b[0m\u001b[0;34m\u001b[0m\u001b[0;34m\u001b[0m\u001b[0m\n\u001b[0m\u001b[1;32m    108\u001b[0m             except (\n\u001b[1;32m    109\u001b[0m                 \u001b[0mIndexError\u001b[0m\u001b[0;34m,\u001b[0m  \u001b[0;31m# end of data\u001b[0m\u001b[0;34m\u001b[0m\u001b[0;34m\u001b[0m\u001b[0m\n",
      "\u001b[0;32m~/anaconda3/envs/tensorflow_p36/lib/python3.6/site-packages/PIL/JpegImagePlugin.py\u001b[0m in \u001b[0;36m_open\u001b[0;34m(self)\u001b[0m\n\u001b[1;32m    360\u001b[0m             \u001b[0;32mif\u001b[0m \u001b[0mi\u001b[0m \u001b[0;34m==\u001b[0m \u001b[0;36m0xFF\u001b[0m\u001b[0;34m:\u001b[0m\u001b[0;34m\u001b[0m\u001b[0;34m\u001b[0m\u001b[0m\n\u001b[1;32m    361\u001b[0m                 \u001b[0ms\u001b[0m \u001b[0;34m=\u001b[0m \u001b[0ms\u001b[0m \u001b[0;34m+\u001b[0m \u001b[0mself\u001b[0m\u001b[0;34m.\u001b[0m\u001b[0mfp\u001b[0m\u001b[0;34m.\u001b[0m\u001b[0mread\u001b[0m\u001b[0;34m(\u001b[0m\u001b[0;36m1\u001b[0m\u001b[0;34m)\u001b[0m\u001b[0;34m\u001b[0m\u001b[0;34m\u001b[0m\u001b[0m\n\u001b[0;32m--> 362\u001b[0;31m                 \u001b[0mi\u001b[0m \u001b[0;34m=\u001b[0m \u001b[0mi16\u001b[0m\u001b[0;34m(\u001b[0m\u001b[0ms\u001b[0m\u001b[0;34m)\u001b[0m\u001b[0;34m\u001b[0m\u001b[0;34m\u001b[0m\u001b[0m\n\u001b[0m\u001b[1;32m    363\u001b[0m             \u001b[0;32melse\u001b[0m\u001b[0;34m:\u001b[0m\u001b[0;34m\u001b[0m\u001b[0;34m\u001b[0m\u001b[0m\n\u001b[1;32m    364\u001b[0m                 \u001b[0;31m# Skip non-0xFF junk\u001b[0m\u001b[0;34m\u001b[0m\u001b[0;34m\u001b[0m\u001b[0;34m\u001b[0m\u001b[0m\n",
      "\u001b[0;32m~/anaconda3/envs/tensorflow_p36/lib/python3.6/site-packages/PIL/_binary.py\u001b[0m in \u001b[0;36mi16be\u001b[0;34m(c, o)\u001b[0m\n\u001b[1;32m     65\u001b[0m \u001b[0;34m\u001b[0m\u001b[0m\n\u001b[1;32m     66\u001b[0m \u001b[0;32mdef\u001b[0m \u001b[0mi16be\u001b[0m\u001b[0;34m(\u001b[0m\u001b[0mc\u001b[0m\u001b[0;34m,\u001b[0m \u001b[0mo\u001b[0m\u001b[0;34m=\u001b[0m\u001b[0;36m0\u001b[0m\u001b[0;34m)\u001b[0m\u001b[0;34m:\u001b[0m\u001b[0;34m\u001b[0m\u001b[0;34m\u001b[0m\u001b[0m\n\u001b[0;32m---> 67\u001b[0;31m     \u001b[0;32mreturn\u001b[0m \u001b[0munpack_from\u001b[0m\u001b[0;34m(\u001b[0m\u001b[0;34m\">H\"\u001b[0m\u001b[0;34m,\u001b[0m \u001b[0mc\u001b[0m\u001b[0;34m,\u001b[0m \u001b[0mo\u001b[0m\u001b[0;34m)\u001b[0m\u001b[0;34m[\u001b[0m\u001b[0;36m0\u001b[0m\u001b[0;34m]\u001b[0m\u001b[0;34m\u001b[0m\u001b[0;34m\u001b[0m\u001b[0m\n\u001b[0m\u001b[1;32m     68\u001b[0m \u001b[0;34m\u001b[0m\u001b[0m\n\u001b[1;32m     69\u001b[0m \u001b[0;34m\u001b[0m\u001b[0m\n",
      "\u001b[0;31mKeyboardInterrupt\u001b[0m: "
     ]
    }
   ],
   "source": [
    "Model2v2 = Sequential()\n",
    "\n",
    "# input\n",
    "Model2v2.add(Input(shape=(32, 32, 3)))\n",
    "\n",
    "Model2v2.add(Lambda(lambda x: tf.expand_dims(x[:,:,:,0], -1, name=None))) \n",
    "\n",
    "\n",
    "# Conv Layer 1\n",
    "Model2v2.add(Conv2D(64, (3, 3)))\n",
    "Model2v2.add(Activation('relu'))\n",
    "Model2v2.add(MaxPooling2D(pool_size=(2, 2)))\n",
    "\n",
    "Model2v2.add(Conv2D(64, (3, 3)))\n",
    "Model2v2.add(Activation('relu'))\n",
    "Model2v2.add(MaxPooling2D(pool_size=(2, 2)))\n",
    "\n",
    "# Conv Layer 2\n",
    "Model2v2.add(Conv2D(128, (3, 3)))\n",
    "Model2v2.add(Activation('relu'))\n",
    "Model2v2.add(MaxPooling2D(pool_size=(2, 2)))\n",
    "\n",
    "\n",
    "# MLP\n",
    "Model2v2.add(Flatten())\n",
    "Model2v2.add(Dense(128))\n",
    "Model2v2.add(Activation('relu'))\n",
    "Model2v2.add(Dropout(0.5))\n",
    "Model2v2.add(Dense(9))\n",
    "Model2v2.add(Activation('softmax'))\n",
    "\n",
    "sgd = optimizers.SGD(lr=0.01, decay=1e-6, momentum=0.9, nesterov=True)\n",
    "Model2v2.compile(loss='categorical_crossentropy',optimizer=sgd,metrics=[categorical_accuracy])\n",
    "\n",
    "Model2v2.summary()\n",
    "\n",
    "res = train_model(Model2v2, num_epoch= 50, verbose=0)\n",
    "\n",
    "plot_results(res)"
   ]
  },
  {
   "cell_type": "markdown",
   "metadata": {},
   "source": [
    "__Model3v1__: Tuning Dropout Layer"
   ]
  },
  {
   "cell_type": "code",
   "execution_count": 51,
   "metadata": {
    "scrolled": true
   },
   "outputs": [
    {
     "name": "stdout",
     "output_type": "stream",
     "text": [
      "Model: \"sequential_3\"\n",
      "_________________________________________________________________\n",
      "Layer (type)                 Output Shape              Param #   \n",
      "=================================================================\n",
      "lambda_3 (Lambda)            (None, 32, 32, 1)         0         \n",
      "_________________________________________________________________\n",
      "conv2d_12 (Conv2D)           (None, 30, 30, 64)        640       \n",
      "_________________________________________________________________\n",
      "activation_21 (Activation)   (None, 30, 30, 64)        0         \n",
      "_________________________________________________________________\n",
      "dropout_13 (Dropout)         (None, 30, 30, 64)        0         \n",
      "_________________________________________________________________\n",
      "conv2d_13 (Conv2D)           (None, 28, 28, 64)        36928     \n",
      "_________________________________________________________________\n",
      "activation_22 (Activation)   (None, 28, 28, 64)        0         \n",
      "_________________________________________________________________\n",
      "max_pooling2d_6 (MaxPooling2 (None, 14, 14, 64)        0         \n",
      "_________________________________________________________________\n",
      "dropout_14 (Dropout)         (None, 14, 14, 64)        0         \n",
      "_________________________________________________________________\n",
      "conv2d_14 (Conv2D)           (None, 12, 12, 128)       73856     \n",
      "_________________________________________________________________\n",
      "activation_23 (Activation)   (None, 12, 12, 128)       0         \n",
      "_________________________________________________________________\n",
      "dropout_15 (Dropout)         (None, 12, 12, 128)       0         \n",
      "_________________________________________________________________\n",
      "conv2d_15 (Conv2D)           (None, 10, 10, 128)       147584    \n",
      "_________________________________________________________________\n",
      "activation_24 (Activation)   (None, 10, 10, 128)       0         \n",
      "_________________________________________________________________\n",
      "max_pooling2d_7 (MaxPooling2 (None, 5, 5, 128)         0         \n",
      "_________________________________________________________________\n",
      "dropout_16 (Dropout)         (None, 5, 5, 128)         0         \n",
      "_________________________________________________________________\n",
      "flatten_3 (Flatten)          (None, 3200)              0         \n",
      "_________________________________________________________________\n",
      "dense_9 (Dense)              (None, 256)               819456    \n",
      "_________________________________________________________________\n",
      "activation_25 (Activation)   (None, 256)               0         \n",
      "_________________________________________________________________\n",
      "dense_10 (Dense)             (None, 256)               65792     \n",
      "_________________________________________________________________\n",
      "activation_26 (Activation)   (None, 256)               0         \n",
      "_________________________________________________________________\n",
      "dropout_17 (Dropout)         (None, 256)               0         \n",
      "_________________________________________________________________\n",
      "dense_11 (Dense)             (None, 9)                 2313      \n",
      "_________________________________________________________________\n",
      "activation_27 (Activation)   (None, 9)                 0         \n",
      "=================================================================\n",
      "Total params: 1,146,569\n",
      "Trainable params: 1,146,569\n",
      "Non-trainable params: 0\n",
      "_________________________________________________________________\n",
      "Training epoch 0: Loss = 2.21258807182312, Accuracy = 0.13033895194530487\n",
      "Validation epoch 0: Loss = 2.1928590456644694, Accuracy = 0.1456439346075058\n",
      "Training epoch 1: Loss = 2.063267469406128, Accuracy = 0.20190046727657318\n",
      "Validation epoch 1: Loss = 2.0247524340947467, Accuracy = 0.2350378781557083\n",
      "Training epoch 2: Loss = 1.7405740022659302, Accuracy = 0.3194798231124878\n",
      "Validation epoch 2: Loss = 1.740139619509379, Accuracy = 0.3225378692150116\n",
      "Training epoch 3: Loss = 1.5184603929519653, Accuracy = 0.3906494975090027\n",
      "Validation epoch 3: Loss = 1.5856814781824748, Accuracy = 0.4051136374473572\n",
      "Training epoch 4: Loss = 1.3850257396697998, Accuracy = 0.4417123794555664\n",
      "Validation epoch 4: Loss = 1.6179392655690512, Accuracy = 0.40946969389915466\n",
      "Training epoch 5: Loss = 1.2764865159988403, Accuracy = 0.493681401014328\n",
      "Validation epoch 5: Loss = 1.2078115224838257, Accuracy = 0.5549242496490479\n",
      "Training epoch 6: Loss = 1.1679242849349976, Accuracy = 0.5554222464561462\n",
      "Validation epoch 6: Loss = 1.1409164150555928, Accuracy = 0.5929924249649048\n",
      "Training epoch 7: Loss = 1.048786997795105, Accuracy = 0.58101487159729\n",
      "Validation epoch 7: Loss = 0.9290025432904562, Accuracy = 0.665719747543335\n",
      "Training epoch 8: Loss = 0.910417377948761, Accuracy = 0.6130731105804443\n",
      "Validation epoch 8: Loss = 1.2010801792144776, Accuracy = 0.5178030133247375\n",
      "Training epoch 9: Loss = 0.8588141202926636, Accuracy = 0.6519151926040649\n",
      "Validation epoch 9: Loss = 0.911780035495758, Accuracy = 0.6090909242630005\n",
      "Training epoch 10: Loss = 0.770530104637146, Accuracy = 0.6678585410118103\n",
      "Validation epoch 10: Loss = 0.8382241249084472, Accuracy = 0.6564394235610962\n",
      "Training epoch 11: Loss = 0.7889508008956909, Accuracy = 0.6818671226501465\n",
      "Validation epoch 11: Loss = 0.7177435596783955, Accuracy = 0.7339015603065491\n",
      "Training epoch 12: Loss = 0.7089749574661255, Accuracy = 0.7154927849769592\n",
      "Validation epoch 12: Loss = 0.7866974552472432, Accuracy = 0.7272727489471436\n",
      "Training epoch 13: Loss = 0.6673405170440674, Accuracy = 0.7395914793014526\n",
      "Validation epoch 13: Loss = 0.8418225924173991, Accuracy = 0.6734848618507385\n",
      "Training epoch 14: Loss = 0.620076060295105, Accuracy = 0.7387343645095825\n",
      "Validation epoch 14: Loss = 0.6077928890784582, Accuracy = 0.7729166746139526\n",
      "Training epoch 15: Loss = 0.5997655987739563, Accuracy = 0.7520326972007751\n",
      "Validation epoch 15: Loss = 0.5529454231262207, Accuracy = 0.7984848618507385\n",
      "Training epoch 16: Loss = 0.5500808358192444, Accuracy = 0.7703026533126831\n",
      "Validation epoch 16: Loss = 0.7638614018758138, Accuracy = 0.6984848380088806\n",
      "Training epoch 17: Loss = 0.5398104190826416, Accuracy = 0.7832826972007751\n",
      "Validation epoch 17: Loss = 0.6531003832817077, Accuracy = 0.7195075750350952\n",
      "Training epoch 18: Loss = 0.5259243249893188, Accuracy = 0.7910951972007751\n",
      "Validation epoch 18: Loss = 0.6197059512138366, Accuracy = 0.7445076107978821\n",
      "Training epoch 19: Loss = 0.5035750865936279, Accuracy = 0.7942789793014526\n",
      "Validation epoch 19: Loss = 0.5670676310857137, Accuracy = 0.7884469628334045\n",
      "Training epoch 20: Loss = 0.4971531927585602, Accuracy = 0.7964831590652466\n",
      "Validation epoch 20: Loss = 0.5014964361985524, Accuracy = 0.7797348499298096\n",
      "Training epoch 21: Loss = 0.45657920837402344, Accuracy = 0.825480043888092\n",
      "Validation epoch 21: Loss = 0.45748620132605233, Accuracy = 0.8022727370262146\n",
      "Training epoch 22: Loss = 0.46497681736946106, Accuracy = 0.8209491968154907\n",
      "Validation epoch 22: Loss = 0.510475734869639, Accuracy = 0.7757576107978821\n",
      "Training epoch 23: Loss = 0.425848126411438, Accuracy = 0.8329741358757019\n",
      "Validation epoch 23: Loss = 0.45738696654637656, Accuracy = 0.8128787875175476\n",
      "Training epoch 24: Loss = 0.4424740970134735, Accuracy = 0.8287128210067749\n",
      "Validation epoch 24: Loss = 0.44823553462823235, Accuracy = 0.8234848380088806\n",
      "Training epoch 25: Loss = 0.39821046590805054, Accuracy = 0.8391702771186829\n",
      "Validation epoch 25: Loss = 0.45491769512494407, Accuracy = 0.8333333134651184\n",
      "Training epoch 26: Loss = 0.37195906043052673, Accuracy = 0.8570483922958374\n",
      "Validation epoch 26: Loss = 0.398386870821317, Accuracy = 0.835606038570404\n",
      "Training epoch 27: Loss = 0.3674287796020508, Accuracy = 0.8513420820236206\n",
      "Validation epoch 27: Loss = 0.7704052984714508, Accuracy = 0.7628787755966187\n",
      "Training epoch 28: Loss = 0.36113446950912476, Accuracy = 0.8511216640472412\n",
      "Validation epoch 28: Loss = 0.33324671586354576, Accuracy = 0.8522727489471436\n",
      "Training epoch 29: Loss = 0.3668047785758972, Accuracy = 0.8591545820236206\n",
      "Validation epoch 29: Loss = 0.4955355882644653, Accuracy = 0.8318182229995728\n",
      "Training epoch 30: Loss = 0.3362102806568146, Accuracy = 0.8666487336158752\n",
      "Validation epoch 30: Loss = 0.376563306649526, Accuracy = 0.8585227131843567\n",
      "Training epoch 31: Loss = 0.3343316912651062, Accuracy = 0.8793103694915771\n",
      "Validation epoch 31: Loss = 0.3801129187146823, Accuracy = 0.8520833253860474\n",
      "Training epoch 32: Loss = 0.3564184308052063, Accuracy = 0.8561912178993225\n",
      "Validation epoch 32: Loss = 0.45988637407620747, Accuracy = 0.8045454621315002\n",
      "Training epoch 33: Loss = 0.3310416340827942, Accuracy = 0.8613097667694092\n",
      "Validation epoch 33: Loss = 0.394586344063282, Accuracy = 0.84375\n",
      "Training epoch 34: Loss = 0.3286189138889313, Accuracy = 0.8721345663070679\n",
      "Validation epoch 34: Loss = 0.34782397250334424, Accuracy = 0.8689393997192383\n",
      "Training epoch 35: Loss = 0.2901861071586609, Accuracy = 0.8872207999229431\n",
      "Validation epoch 35: Loss = 0.40563263098398844, Accuracy = 0.8382576107978821\n",
      "Training epoch 36: Loss = 0.3015003204345703, Accuracy = 0.8855554461479187\n",
      "Validation epoch 36: Loss = 0.3579686164855957, Accuracy = 0.8710227608680725\n",
      "Training epoch 37: Loss = 0.3166840970516205, Accuracy = 0.8849676847457886\n",
      "Validation epoch 37: Loss = 0.39152146379152936, Accuracy = 0.8399621248245239\n",
      "Training epoch 38: Loss = 0.30714911222457886, Accuracy = 0.8882004022598267\n",
      "Validation epoch 38: Loss = 0.2853692208727201, Accuracy = 0.8899621367454529\n",
      "Training epoch 39: Loss = 0.2974243760108948, Accuracy = 0.9058581590652466\n",
      "Validation epoch 39: Loss = 0.5727037341644367, Accuracy = 0.793749988079071\n",
      "Training epoch 40: Loss = 0.2884064018726349, Accuracy = 0.9030662178993225\n",
      "Validation epoch 40: Loss = 0.47400481104850767, Accuracy = 0.8439394235610962\n",
      "Training epoch 41: Loss = 0.32128578424453735, Accuracy = 0.8969190716743469\n",
      "Validation epoch 41: Loss = 0.3197467232743899, Accuracy = 0.8626893758773804\n",
      "Training epoch 42: Loss = 0.28565514087677, Accuracy = 0.8931475281715393\n",
      "Validation epoch 42: Loss = 0.3005548949042956, Accuracy = 0.8691288232803345\n",
      "Training epoch 43: Loss = 0.263131707906723, Accuracy = 0.8966007232666016\n",
      "Validation epoch 43: Loss = 0.4277245670557022, Accuracy = 0.8295454382896423\n",
      "Training epoch 44: Loss = 0.26818007230758667, Accuracy = 0.9054908156394958\n",
      "Validation epoch 44: Loss = 0.36693915526072185, Accuracy = 0.883712112903595\n",
      "Training epoch 45: Loss = 0.2715359032154083, Accuracy = 0.905319333076477\n",
      "Validation epoch 45: Loss = 0.33134221434593203, Accuracy = 0.8897727131843567\n",
      "Training epoch 46: Loss = 0.25012579560279846, Accuracy = 0.9143809080123901\n",
      "Validation epoch 46: Loss = 0.474281186858813, Accuracy = 0.8420454859733582\n",
      "Training epoch 47: Loss = 0.2582131624221802, Accuracy = 0.9122257232666016\n",
      "Validation epoch 47: Loss = 0.42034954726696017, Accuracy = 0.8445075750350952\n",
      "Training epoch 48: Loss = 0.2727511525154114, Accuracy = 0.9111481308937073\n",
      "Validation epoch 48: Loss = 0.36744582951068877, Accuracy = 0.8647727370262146\n",
      "Training epoch 49: Loss = 0.2331485152244568, Accuracy = 0.9113685488700867\n",
      "Validation epoch 49: Loss = 0.26422800570726396, Accuracy = 0.9166666865348816\n",
      "Training epoch 50: Loss = 0.22639717161655426, Accuracy = 0.9206259250640869\n",
      "Validation epoch 50: Loss = 0.31860478619734445, Accuracy = 0.8899621367454529\n",
      "Training epoch 51: Loss = 0.24368800222873688, Accuracy = 0.9098011255264282\n",
      "Validation epoch 51: Loss = 0.5071204046408335, Accuracy = 0.8214015364646912\n",
      "Training epoch 52: Loss = 0.27132993936538696, Accuracy = 0.9058091640472412\n",
      "Validation epoch 52: Loss = 0.3272030567129453, Accuracy = 0.8776515126228333\n",
      "Training epoch 53: Loss = 0.23832222819328308, Accuracy = 0.911515474319458\n",
      "Validation epoch 53: Loss = 0.3422316680351893, Accuracy = 0.8793560862541199\n",
      "Training epoch 54: Loss = 0.2384224832057953, Accuracy = 0.9119073152542114\n",
      "Validation epoch 54: Loss = 0.29968584726254144, Accuracy = 0.9041666388511658\n",
      "Training epoch 55: Loss = 0.2293664813041687, Accuracy = 0.9224137663841248\n",
      "Validation epoch 55: Loss = 0.2376462643345197, Accuracy = 0.90625\n",
      "Training epoch 56: Loss = 0.24091295897960663, Accuracy = 0.9189116358757019\n",
      "Validation epoch 56: Loss = 0.3701097309589386, Accuracy = 0.8647727370262146\n",
      "Training epoch 57: Loss = 0.22451713681221008, Accuracy = 0.9208953380584717\n",
      "Validation epoch 57: Loss = 0.36149127384026847, Accuracy = 0.8632575869560242\n",
      "Training epoch 58: Loss = 0.22558894753456116, Accuracy = 0.9213362336158752\n",
      "Validation epoch 58: Loss = 0.25864756604035694, Accuracy = 0.9126893877983093\n",
      "Training epoch 59: Loss = 0.23310133814811707, Accuracy = 0.9082337021827698\n",
      "Validation epoch 59: Loss = 0.279815337061882, Accuracy = 0.8960227370262146\n",
      "Training epoch 60: Loss = 0.19118638336658478, Accuracy = 0.9243485927581787\n",
      "Validation epoch 60: Loss = 0.3674771706263224, Accuracy = 0.8606060743331909\n",
      "Training epoch 61: Loss = 0.2511868178844452, Accuracy = 0.9167564511299133\n",
      "Validation epoch 61: Loss = 0.3193512385090192, Accuracy = 0.8941287994384766\n",
      "Training epoch 62: Loss = 0.22819961607456207, Accuracy = 0.9190095663070679\n",
      "Validation epoch 62: Loss = 0.4233439485232035, Accuracy = 0.8253787755966187\n",
      "Training epoch 63: Loss = 0.24483510851860046, Accuracy = 0.9286589026451111\n",
      "Validation epoch 63: Loss = 0.5840807100137074, Accuracy = 0.8793560862541199\n",
      "Training epoch 64: Loss = 0.20095373690128326, Accuracy = 0.9329202771186829\n",
      "Validation epoch 64: Loss = 0.27115212231874464, Accuracy = 0.8897727131843567\n",
      "Training epoch 65: Loss = 0.18621040880680084, Accuracy = 0.9303732514381409\n",
      "Validation epoch 65: Loss = 0.5178019811709722, Accuracy = 0.8236742615699768\n",
      "Training epoch 66: Loss = 0.21586835384368896, Accuracy = 0.9294670820236206\n",
      "Validation epoch 66: Loss = 0.30887901882330576, Accuracy = 0.8960227370262146\n",
      "Training epoch 67: Loss = 0.21023330092430115, Accuracy = 0.9332386255264282\n",
      "Validation epoch 67: Loss = 0.6760747492313385, Accuracy = 0.8130682110786438\n",
      "Training epoch 68: Loss = 0.21687088906764984, Accuracy = 0.937597930431366\n",
      "Validation epoch 68: Loss = 0.6405468761920929, Accuracy = 0.8401515483856201\n",
      "Training epoch 69: Loss = 0.1971571147441864, Accuracy = 0.9286099076271057\n",
      "Validation epoch 69: Loss = 0.3182589262723923, Accuracy = 0.8695076107978821\n",
      "Training epoch 70: Loss = 0.1777271032333374, Accuracy = 0.9340957999229431\n",
      "Validation epoch 70: Loss = 0.4089705986281236, Accuracy = 0.8441287875175476\n",
      "Training epoch 71: Loss = 0.21454297006130219, Accuracy = 0.9246179461479187\n",
      "Validation epoch 71: Loss = 0.4049394816160202, Accuracy = 0.8607954382896423\n",
      "Training epoch 72: Loss = 0.20037288963794708, Accuracy = 0.9305446743965149\n",
      "Validation epoch 72: Loss = 0.3949087381362915, Accuracy = 0.883712112903595\n",
      "Training epoch 73: Loss = 0.22675524652004242, Accuracy = 0.9383081793785095\n",
      "Validation epoch 73: Loss = 0.30759439766407015, Accuracy = 0.8943182229995728\n",
      "Training epoch 74: Loss = 0.1962689459323883, Accuracy = 0.9288793206214905\n",
      "Validation epoch 74: Loss = 0.49924019078413645, Accuracy = 0.8274621367454529\n",
      "Training epoch 75: Loss = 0.2362278252840042, Accuracy = 0.9219239950180054\n",
      "Validation epoch 75: Loss = 0.3400428260366122, Accuracy = 0.8772727251052856\n",
      "Training epoch 76: Loss = 0.1954844892024994, Accuracy = 0.9275323152542114\n",
      "Validation epoch 76: Loss = 0.337281146645546, Accuracy = 0.8854166865348816\n",
      "Training epoch 77: Loss = 0.19206859171390533, Accuracy = 0.9385775923728943\n",
      "Validation epoch 77: Loss = 0.35579124291737874, Accuracy = 0.8895833492279053\n",
      "Training epoch 78: Loss = 0.20281650125980377, Accuracy = 0.9372305870056152\n",
      "Validation epoch 78: Loss = 0.3173227712512016, Accuracy = 0.8816288113594055\n",
      "Training epoch 79: Loss = 0.21459311246871948, Accuracy = 0.9292956590652466\n",
      "Validation epoch 79: Loss = 0.2748987634976705, Accuracy = 0.9041666388511658\n",
      "Training epoch 80: Loss = 0.19607748091220856, Accuracy = 0.9450920820236206\n",
      "Validation epoch 80: Loss = 0.33104846080144246, Accuracy = 0.8920454382896423\n",
      "Training epoch 81: Loss = 0.19031177461147308, Accuracy = 0.9345366358757019\n",
      "Validation epoch 81: Loss = 0.31897185544172924, Accuracy = 0.8814393877983093\n",
      "Training epoch 82: Loss = 0.1582077592611313, Accuracy = 0.9337284564971924\n",
      "Validation epoch 82: Loss = 0.2801536296804746, Accuracy = 0.9083333611488342\n",
      "Training epoch 83: Loss = 0.1528838723897934, Accuracy = 0.9480064511299133\n",
      "Validation epoch 83: Loss = 0.3021363640824954, Accuracy = 0.8897727131843567\n",
      "Training epoch 84: Loss = 0.2661888301372528, Accuracy = 0.9321610927581787\n",
      "Validation epoch 84: Loss = 0.3271794617176056, Accuracy = 0.8589015603065491\n",
      "Training epoch 85: Loss = 0.20481398701667786, Accuracy = 0.9331896305084229\n",
      "Validation epoch 85: Loss = 0.4389971673488617, Accuracy = 0.8484848737716675\n",
      "Training epoch 86: Loss = 0.18183809518814087, Accuracy = 0.9339978694915771\n",
      "Validation epoch 86: Loss = 0.31862053970495857, Accuracy = 0.8772727251052856\n",
      "Training epoch 87: Loss = 0.1885671317577362, Accuracy = 0.9420797228813171\n",
      "Validation epoch 87: Loss = 0.3955239067475001, Accuracy = 0.8793560862541199\n",
      "Training epoch 88: Loss = 0.17817017436027527, Accuracy = 0.9461206793785095\n",
      "Validation epoch 88: Loss = 0.31333520213762917, Accuracy = 0.9085227251052856\n",
      "Training epoch 89: Loss = 0.22101593017578125, Accuracy = 0.9378673434257507\n",
      "Validation epoch 89: Loss = 0.40902825593948366, Accuracy = 0.8280302882194519\n",
      "Training epoch 90: Loss = 0.17436255514621735, Accuracy = 0.9410021305084229\n",
      "Validation epoch 90: Loss = 0.28645971914132434, Accuracy = 0.9064394235610962\n",
      "Training epoch 91: Loss = 0.18095356225967407, Accuracy = 0.9501616358757019\n",
      "Validation epoch 91: Loss = 0.4244117068282018, Accuracy = 0.8729166388511658\n",
      "Training epoch 92: Loss = 0.19502533972263336, Accuracy = 0.936152994632721\n",
      "Validation epoch 92: Loss = 0.29459178298711775, Accuracy = 0.9001893997192383\n",
      "Training epoch 93: Loss = 0.1931976079940796, Accuracy = 0.9341447949409485\n",
      "Validation epoch 93: Loss = 0.31023111442724866, Accuracy = 0.8939393758773804\n",
      "Training epoch 94: Loss = 0.2040291428565979, Accuracy = 0.9463900923728943\n",
      "Validation epoch 94: Loss = 0.3560616324345271, Accuracy = 0.9064394235610962\n",
      "Training epoch 95: Loss = 0.18990814685821533, Accuracy = 0.9415899515151978\n",
      "Validation epoch 95: Loss = 0.2262396726757288, Accuracy = 0.9147727489471436\n",
      "Training epoch 96: Loss = 0.1859830766916275, Accuracy = 0.9437451362609863\n",
      "Validation epoch 96: Loss = 0.29269740035136543, Accuracy = 0.8835227489471436\n",
      "Training epoch 97: Loss = 0.16025468707084656, Accuracy = 0.9399735927581787\n",
      "Validation epoch 97: Loss = 0.5124174425999324, Accuracy = 0.8380681872367859\n",
      "Training epoch 98: Loss = 0.19072887301445007, Accuracy = 0.9375\n",
      "Validation epoch 98: Loss = 0.33176492551962533, Accuracy = 0.9041666388511658\n",
      "Training epoch 99: Loss = 0.197377011179924, Accuracy = 0.939116358757019\n",
      "Validation epoch 99: Loss = 0.37132853468259175, Accuracy = 0.8999999761581421\n"
     ]
    },
    {
     "data": {
      "image/png": "[encoded data removed]",
      "text/plain": [
       "<Figure size 864x288 with 2 Axes>"
      ]
     },
     "metadata": {
      "needs_background": "light"
     },
     "output_type": "display_data"
    }
   ],
   "source": [
    "#FINAL MODEL VERSION 2\n",
    "\n",
    "from tensorflow.keras.models import Sequential\n",
    "from tensorflow.keras.layers import Conv2D, MaxPooling2D, Lambda, Input,BatchNormalization, LeakyReLU\n",
    "from tensorflow.keras.layers import Activation, Dropout, Flatten, Dense\n",
    "from tensorflow.keras.metrics import categorical_accuracy\n",
    "from tensorflow.keras import regularizers, optimizers\n",
    "\n",
    "Model3 = Sequential()\n",
    "\n",
    "# input\n",
    "Model3.add(Input(shape=(32, 32, 3)))\n",
    "\n",
    "Model3.add(Lambda(lambda x: tf.expand_dims(x[:,:,:,0], -1, name=None))) \n",
    "# this is a workaround. Dataloader automatically read one channel image as 3 channel \n",
    "#and we use Lambda layer to revert this back. Lambda layer can be used for operation \n",
    "#that does not involve trainianble weights\n",
    "\n",
    "# Conv Layer 1\n",
    "Model3.add(Conv2D(64, (3, 3)))\n",
    "Model3.add(Activation('relu'))\n",
    "Model3.add(Dropout(0.5))\n",
    "\n",
    "# Conv Layer 2\n",
    "Model3.add(Conv2D(64, (3, 3)))\n",
    "Model3.add(Activation('relu'))\n",
    "Model3.add(MaxPooling2D(pool_size=(2, 2)))\n",
    "Model3.add(Dropout(0.5))\n",
    "\n",
    "# Conv Layer 3\n",
    "Model3.add(Conv2D(128, (3, 3)))\n",
    "Model3.add(Activation('relu'))\n",
    "Model3.add(Dropout(0.5))\n",
    "\n",
    "# Conv Layer \n",
    "Model3.add(Conv2D(128, (3, 3)))\n",
    "Model3.add(Activation('relu'))\n",
    "Model3.add(MaxPooling2D(pool_size=(2, 2)))\n",
    "Model3.add(Dropout(0.5))\n",
    "\n",
    "# MLP\n",
    "Model3.add(Flatten())\n",
    "Model3.add(Dense(256))\n",
    "Model3.add(Activation('relu'))\n",
    "Model3.add(Dense(256))\n",
    "Model3.add(Activation('relu'))\n",
    "Model3.add(Dropout(0.5))\n",
    "Model3.add(Dense(9))\n",
    "Model3.add(Activation('softmax'))\n",
    "\n",
    "Model3.compile(loss='categorical_crossentropy',\n",
    "              optimizer='RMSProp',\n",
    "              metrics=[categorical_accuracy])\n",
    "\n",
    "Model3.summary()\n",
    "\n",
    "res = train_model(Model3, num_epoch= 100, verbose=1)\n",
    "\n",
    "plot_results(res)"
   ]
  },
  {
   "cell_type": "code",
   "execution_count": null,
   "metadata": {},
   "outputs": [],
   "source": [
    "# mylist=[0.2,0.3,0.4,0.5]\n",
    "\n",
    "# for dp in mylist:\n",
    "    \n",
    "#     Model3v1 = Sequential()\n",
    "\n",
    "#     # input\n",
    "#     Model3v1.add(Input(shape=(32, 32, 3)))\n",
    "\n",
    "#     Model3v1.add(Lambda(lambda x: tf.expand_dims(x[:,:,:,0], -1, name=None))) \n",
    "\n",
    "#     # Conv Layer 1\n",
    "#     Model3v1.add(Conv2D(64, (3, 3)))\n",
    "#     Model3v1.add(Activation('relu'))\n",
    "#     Model3v1.add(Dropout(dp))\n",
    "\n",
    "#     # Conv Layer 2\n",
    "#     Model3v1.add(Conv2D(64, (3, 3)))\n",
    "#     Model3v1.add(Activation('relu'))\n",
    "#     Model3v1.add(MaxPooling2D(pool_size=(2, 2)))\n",
    "#     Model3v1.add(Dropout(dp))\n",
    "\n",
    "#     # Conv Layer 3\n",
    "#     Model3v1.add(Conv2D(128, (3, 3)))\n",
    "#     Model3v1.add(Activation('relu'))\n",
    "#     Model3v1.add(Dropout(dp))\n",
    "\n",
    "#     # Conv Layer 4\n",
    "#     Model3v1.add(Conv2D(128, (3, 3)))\n",
    "#     Model3v1.add(Activation('relu'))\n",
    "#     Model3v1.add(MaxPooling2D(pool_size=(2, 2)))\n",
    "#     Model3v1.add(Dropout(dp))\n",
    "\n",
    "#     # MLP\n",
    "#     Model3v1.add(Flatten())\n",
    "#     Model3v1.add(Dense(256))\n",
    "#     Model3v1.add(Activation('relu'))\n",
    "#     Model3v1.add(Dense(256))\n",
    "#     Model3v1.add(Activation('relu'))\n",
    "#     Model3v1.add(Dropout(0.5))\n",
    "#     Model3v1.add(Dense(9))\n",
    "#     Model3v1.add(Activation('softmax'))\n",
    "\n",
    "#     Model3v1.compile(loss='categorical_crossentropy',optimizer='RMSProp',metrics=[categorical_accuracy])\n",
    "\n",
    "#     Model3v1.summary()\n",
    "\n",
    "#     res = train_model(Model3v1, num_epoch= 50, verbose=0)\n",
    "    \n",
    "#     print('trained with dropout {}'.format(dp))\n",
    "\n",
    "#     plot_results(res)"
   ]
  },
  {
   "cell_type": "markdown",
   "metadata": {},
   "source": [
    "## Performance Metrics Using the Best Performed Model"
   ]
  },
  {
   "cell_type": "code",
   "execution_count": 61,
   "metadata": {},
   "outputs": [
    {
     "name": "stdout",
     "output_type": "stream",
     "text": [
      "18/18 [==============================] - 5s 296ms/step\n",
      "Prediction shape is (574, 9)\n",
      "              precision    recall  f1-score   support\n",
      "\n",
      "         -15       0.70      0.89      0.78        61\n",
      "         -30       0.87      0.74      0.80        72\n",
      "         -60       0.96      0.86      0.91        59\n",
      "         -90       1.00      0.97      0.98        59\n",
      "           0       0.84      0.94      0.89        68\n",
      "          15       0.91      0.92      0.91        63\n",
      "          30       0.98      0.91      0.94        64\n",
      "          60       1.00      1.00      1.00        62\n",
      "          90       1.00      0.98      0.99        66\n",
      "\n",
      "    accuracy                           0.91       574\n",
      "   macro avg       0.92      0.91      0.91       574\n",
      "weighted avg       0.92      0.91      0.91       574\n",
      "\n",
      "[[54  2  0  0  5  0  0  0  0]\n",
      " [16 53  0  0  3  0  0  0  0]\n",
      " [ 2  6 51  0  0  0  0  0  0]\n",
      " [ 0  0  2 57  0  0  0  0  0]\n",
      " [ 3  0  0  0 64  1  0  0  0]\n",
      " [ 0  0  0  0  4 58  1  0  0]\n",
      " [ 1  0  0  0  0  5 58  0  0]\n",
      " [ 0  0  0  0  0  0  0 62  0]\n",
      " [ 1  0  0  0  0  0  0  0 65]]\n",
      "0.1672473867595819\n"
     ]
    }
   ],
   "source": [
    "from sklearn import metrics\n",
    "\n",
    "from sklearn.metrics import confusion_matrix\n",
    "\n",
    "predictions = Model3.predict_generator(test_generator,verbose=1)\n",
    "print(\"Prediction shape is\", predictions.shape)\n",
    "\n",
    "predictedLabels =[]\n",
    "for i in range(0,len(predictions[:,0])):\n",
    "    predictedLabels.append(np.argmax(predictions[i]))\n",
    "\n",
    "predictedLabels = np.asarray(predictedLabels)\n",
    "\n",
    "true_classes = test_generator.classes\n",
    "class_labels = list(test_generator.class_indices.keys())\n",
    "\n",
    "report = metrics.classification_report(true_classes, predictedLabels, target_names=class_labels)\n",
    "print(report)\n",
    "cm = confusion_matrix(true_classes, predictedLabels)\n",
    "print(cm)\n",
    "mae = metrics.mean_absolute_error(true_classes, predictedLabels)\n",
    "print(mae)"
   ]
  },
  {
   "cell_type": "markdown",
   "metadata": {},
   "source": [
    "## Predictions On Test Dataset"
   ]
  },
  {
   "cell_type": "code",
   "execution_count": 63,
   "metadata": {},
   "outputs": [
    {
     "data": {
      "text/html": [
       "<div>\n",
       "<style scoped>\n",
       "    .dataframe tbody tr th:only-of-type {\n",
       "        vertical-align: middle;\n",
       "    }\n",
       "\n",
       "    .dataframe tbody tr th {\n",
       "        vertical-align: top;\n",
       "    }\n",
       "\n",
       "    .dataframe thead th {\n",
       "        text-align: right;\n",
       "    }\n",
       "</style>\n",
       "<table border=\"1\" class=\"dataframe\">\n",
       "  <thead>\n",
       "    <tr style=\"text-align: right;\">\n",
       "      <th></th>\n",
       "      <th>filename</th>\n",
       "      <th>person_id</th>\n",
       "      <th>series</th>\n",
       "    </tr>\n",
       "  </thead>\n",
       "  <tbody>\n",
       "    <tr>\n",
       "      <th>0</th>\n",
       "      <td>face_33.jpg</td>\n",
       "      <td>2</td>\n",
       "      <td>1</td>\n",
       "    </tr>\n",
       "    <tr>\n",
       "      <th>1</th>\n",
       "      <td>face_2148.jpg</td>\n",
       "      <td>2</td>\n",
       "      <td>2</td>\n",
       "    </tr>\n",
       "    <tr>\n",
       "      <th>2</th>\n",
       "      <td>face_2119.jpg</td>\n",
       "      <td>2</td>\n",
       "      <td>1</td>\n",
       "    </tr>\n",
       "    <tr>\n",
       "      <th>3</th>\n",
       "      <td>face_1262.jpg</td>\n",
       "      <td>2</td>\n",
       "      <td>1</td>\n",
       "    </tr>\n",
       "    <tr>\n",
       "      <th>4</th>\n",
       "      <td>face_516.jpg</td>\n",
       "      <td>2</td>\n",
       "      <td>2</td>\n",
       "    </tr>\n",
       "  </tbody>\n",
       "</table>\n",
       "</div>"
      ],
      "text/plain": [
       "        filename  person_id  series\n",
       "0    face_33.jpg          2       1\n",
       "1  face_2148.jpg          2       2\n",
       "2  face_2119.jpg          2       1\n",
       "3  face_1262.jpg          2       1\n",
       "4   face_516.jpg          2       2"
      ]
     },
     "execution_count": 63,
     "metadata": {},
     "output_type": "execute_result"
    }
   ],
   "source": [
    "testdata = pd.read_csv('test_data.csv')\n",
    "testdata.head()"
   ]
  },
  {
   "cell_type": "code",
   "execution_count": 64,
   "metadata": {},
   "outputs": [],
   "source": [
    "predict_data = pd.merge(testdata,data, on='filename')"
   ]
  },
  {
   "cell_type": "code",
   "execution_count": 65,
   "metadata": {},
   "outputs": [
    {
     "data": {
      "text/html": [
       "<div>\n",
       "<style scoped>\n",
       "    .dataframe tbody tr th:only-of-type {\n",
       "        vertical-align: middle;\n",
       "    }\n",
       "\n",
       "    .dataframe tbody tr th {\n",
       "        vertical-align: top;\n",
       "    }\n",
       "\n",
       "    .dataframe thead th {\n",
       "        text-align: right;\n",
       "    }\n",
       "</style>\n",
       "<table border=\"1\" class=\"dataframe\">\n",
       "  <thead>\n",
       "    <tr style=\"text-align: right;\">\n",
       "      <th></th>\n",
       "      <th>filename</th>\n",
       "      <th>person_id</th>\n",
       "      <th>series</th>\n",
       "      <th>filepath</th>\n",
       "    </tr>\n",
       "  </thead>\n",
       "  <tbody>\n",
       "    <tr>\n",
       "      <th>0</th>\n",
       "      <td>face_33.jpg</td>\n",
       "      <td>2</td>\n",
       "      <td>1</td>\n",
       "      <td>modified_data/face_33.jpg</td>\n",
       "    </tr>\n",
       "    <tr>\n",
       "      <th>1</th>\n",
       "      <td>face_2148.jpg</td>\n",
       "      <td>2</td>\n",
       "      <td>2</td>\n",
       "      <td>modified_data/face_2148.jpg</td>\n",
       "    </tr>\n",
       "    <tr>\n",
       "      <th>2</th>\n",
       "      <td>face_2119.jpg</td>\n",
       "      <td>2</td>\n",
       "      <td>1</td>\n",
       "      <td>modified_data/face_2119.jpg</td>\n",
       "    </tr>\n",
       "    <tr>\n",
       "      <th>3</th>\n",
       "      <td>face_1262.jpg</td>\n",
       "      <td>2</td>\n",
       "      <td>1</td>\n",
       "      <td>modified_data/face_1262.jpg</td>\n",
       "    </tr>\n",
       "    <tr>\n",
       "      <th>4</th>\n",
       "      <td>face_516.jpg</td>\n",
       "      <td>2</td>\n",
       "      <td>2</td>\n",
       "      <td>modified_data/face_516.jpg</td>\n",
       "    </tr>\n",
       "  </tbody>\n",
       "</table>\n",
       "</div>"
      ],
      "text/plain": [
       "        filename  person_id  series                     filepath\n",
       "0    face_33.jpg          2       1    modified_data/face_33.jpg\n",
       "1  face_2148.jpg          2       2  modified_data/face_2148.jpg\n",
       "2  face_2119.jpg          2       1  modified_data/face_2119.jpg\n",
       "3  face_1262.jpg          2       1  modified_data/face_1262.jpg\n",
       "4   face_516.jpg          2       2   modified_data/face_516.jpg"
      ]
     },
     "execution_count": 65,
     "metadata": {},
     "output_type": "execute_result"
    }
   ],
   "source": [
    "predict_data.head()"
   ]
  },
  {
   "cell_type": "code",
   "execution_count": 66,
   "metadata": {},
   "outputs": [
    {
     "data": {
      "text/plain": [
       "(465, 4)"
      ]
     },
     "execution_count": 66,
     "metadata": {},
     "output_type": "execute_result"
    }
   ],
   "source": [
    "predict_data.shape"
   ]
  },
  {
   "cell_type": "code",
   "execution_count": 67,
   "metadata": {},
   "outputs": [],
   "source": [
    "predict_data = predict_data[['filepath','filename']]"
   ]
  },
  {
   "cell_type": "code",
   "execution_count": 68,
   "metadata": {},
   "outputs": [],
   "source": [
    "predict_datagen = ImageDataGenerator(rescale=1./255, data_format='channels_last')\n"
   ]
  },
  {
   "cell_type": "code",
   "execution_count": 69,
   "metadata": {},
   "outputs": [
    {
     "name": "stdout",
     "output_type": "stream",
     "text": [
      "Found 465 validated image filenames belonging to 465 classes.\n"
     ]
    }
   ],
   "source": [
    "predict_generator = predict_datagen.flow_from_dataframe(\n",
    "    dataframe=predict_data,\n",
    "    directory='./',\n",
    "    x_col=\"filepath\",\n",
    "    y_col=\"filename\",\n",
    "    target_size=(32, 32),\n",
    "    batch_size=batch_size,\n",
    "    shuffle = False,\n",
    "    class_mode='categorical')"
   ]
  },
  {
   "cell_type": "code",
   "execution_count": 70,
   "metadata": {},
   "outputs": [
    {
     "name": "stdout",
     "output_type": "stream",
     "text": [
      "15/15 [==============================] - 1s 50ms/step\n",
      "Prediction shape is (465, 9)\n"
     ]
    }
   ],
   "source": [
    "predictions = Model3.predict_generator(predict_generator,verbose=1)\n",
    "print(\"Prediction shape is\", predictions.shape)\n",
    "\n",
    "predictedLabels =[]\n",
    "for i in range(0,len(predictions[:,0])):\n",
    "    predictedLabels.append(np.argmax(predictions[i]))\n",
    "\n",
    "predictedLabels = np.asarray(predictedLabels)"
   ]
  },
  {
   "cell_type": "code",
   "execution_count": 71,
   "metadata": {},
   "outputs": [
    {
     "data": {
      "text/plain": [
       "array([8, 7, 4, 5, 0, 7, 7, 6, 6, 7, 2, 7, 6, 6, 0, 4, 7, 6, 7, 7, 1, 7,\n",
       "       6, 7, 2, 7, 6, 7, 1, 0, 7, 6, 7, 7, 7, 7, 7, 6, 7, 7, 7, 7, 6, 6,\n",
       "       4, 6, 0, 7, 2, 7, 7, 6, 7, 6, 5, 0, 1, 7, 6, 7, 7, 0, 6, 7, 7, 1,\n",
       "       6, 6, 0, 7, 0, 7, 6, 7, 2, 2, 6, 6, 7, 6, 0, 7, 2, 6, 6, 6, 7, 6,\n",
       "       6, 7, 5, 4, 6, 0, 6, 5, 7, 6, 7, 5, 7, 4, 6, 7, 7, 7, 7, 7, 7, 2,\n",
       "       0, 0, 7, 6, 7, 7, 7, 1, 0, 6, 6, 4, 7, 2, 7, 6, 7, 7, 6, 7, 7, 6,\n",
       "       2, 7, 7, 4, 6, 5, 2, 4, 0, 7, 0, 6, 4, 7, 5, 0, 7, 6, 6, 7, 7, 7,\n",
       "       7, 0, 2, 7, 7, 7, 6, 4, 7, 6, 0, 7, 7, 1, 7, 4, 6, 5, 7, 6, 6, 2,\n",
       "       7, 5, 7, 6, 7, 4, 7, 7, 0, 7, 0, 7, 4, 1, 2, 2, 5, 5, 0, 5, 3, 5,\n",
       "       7, 4, 5, 5, 0, 4, 4, 6, 7, 6, 5, 0, 4, 5, 2, 1, 5, 5, 2, 5, 4, 5,\n",
       "       0, 5, 2, 0, 5, 7, 1, 2, 0, 4, 5, 1, 7, 5, 1, 1, 4, 7, 7, 6, 1, 0,\n",
       "       2, 1, 5, 0, 6, 0, 7, 4, 7, 0, 5, 1, 2, 0, 1, 7, 0, 1, 4, 5, 2, 1,\n",
       "       2, 7, 1, 7, 5, 5, 2, 7, 5, 5, 7, 1, 2, 5, 5, 5, 8, 7, 7, 5, 6, 1,\n",
       "       6, 2, 6, 5, 4, 7, 5, 5, 6, 2, 5, 7, 5, 1, 7, 7, 0, 1, 7, 5, 2, 8,\n",
       "       1, 5, 5, 5, 1, 0, 7, 0, 0, 7, 0, 1, 5, 8, 6, 7, 5, 7, 1, 5, 7, 5,\n",
       "       8, 8, 7, 1, 8, 7, 1, 0, 7, 1, 5, 0, 5, 5, 2, 1, 1, 1, 5, 7, 7, 7,\n",
       "       5, 5, 2, 7, 5, 5, 6, 7, 2, 0, 5, 7, 8, 6, 5, 7, 7, 7, 6, 6, 1, 5,\n",
       "       0, 5, 6, 4, 6, 2, 5, 0, 7, 5, 1, 7, 5, 6, 1, 7, 8, 2, 5, 1, 6, 6,\n",
       "       5, 7, 1, 4, 5, 6, 5, 5, 7, 2, 5, 5, 5, 0, 5, 8, 6, 4, 5, 6, 4, 5,\n",
       "       5, 7, 2, 2, 5, 7, 5, 5, 6, 7, 5, 0, 2, 6, 6, 1, 2, 8, 7, 1, 5, 5,\n",
       "       7, 6, 7, 5, 6, 7, 2, 1, 7, 2, 6, 7, 1, 5, 2, 6, 6, 5, 1, 2, 7, 6,\n",
       "       8, 7, 6])"
      ]
     },
     "execution_count": 71,
     "metadata": {},
     "output_type": "execute_result"
    }
   ],
   "source": [
    "predictedLabels"
   ]
  },
  {
   "cell_type": "code",
   "execution_count": 72,
   "metadata": {},
   "outputs": [],
   "source": [
    "for n, i in enumerate(predictedLabels):\n",
    "    if i == 0:\n",
    "        predictedLabels[n] = -15\n",
    "    elif i == 1:\n",
    "        predictedLabels[n] = -30\n",
    "    elif i == 2:\n",
    "        predictedLabels[n] = -60\n",
    "    elif i == 3:\n",
    "        predictedLabels[n] = -90\n",
    "    elif i == 4:\n",
    "        predictedLabels[n] = 0\n",
    "    elif i == 5:\n",
    "        predictedLabels[n] = 15\n",
    "    elif i == 6:\n",
    "        predictedLabels[n] = 30\n",
    "    elif i == 7:\n",
    "        predictedLabels[n] = 60\n",
    "    else:\n",
    "        predictedLabels[n] = 90"
   ]
  },
  {
   "cell_type": "code",
   "execution_count": 73,
   "metadata": {},
   "outputs": [
    {
     "data": {
      "text/plain": [
       "array([ 90,  60,   0,  15, -15,  60,  60,  30,  30,  60, -60,  60,  30,\n",
       "        30, -15,   0,  60,  30,  60,  60, -30,  60,  30,  60, -60,  60,\n",
       "        30,  60, -30, -15,  60,  30,  60,  60,  60,  60,  60,  30,  60,\n",
       "        60,  60,  60,  30,  30,   0,  30, -15,  60, -60,  60,  60,  30,\n",
       "        60,  30,  15, -15, -30,  60,  30,  60,  60, -15,  30,  60,  60,\n",
       "       -30,  30,  30, -15,  60, -15,  60,  30,  60, -60, -60,  30,  30,\n",
       "        60,  30, -15,  60, -60,  30,  30,  30,  60,  30,  30,  60,  15,\n",
       "         0,  30, -15,  30,  15,  60,  30,  60,  15,  60,   0,  30,  60,\n",
       "        60,  60,  60,  60,  60, -60, -15, -15,  60,  30,  60,  60,  60,\n",
       "       -30, -15,  30,  30,   0,  60, -60,  60,  30,  60,  60,  30,  60,\n",
       "        60,  30, -60,  60,  60,   0,  30,  15, -60,   0, -15,  60, -15,\n",
       "        30,   0,  60,  15, -15,  60,  30,  30,  60,  60,  60,  60, -15,\n",
       "       -60,  60,  60,  60,  30,   0,  60,  30, -15,  60,  60, -30,  60,\n",
       "         0,  30,  15,  60,  30,  30, -60,  60,  15,  60,  30,  60,   0,\n",
       "        60,  60, -15,  60, -15,  60,   0, -30, -60, -60,  15,  15, -15,\n",
       "        15, -90,  15,  60,   0,  15,  15, -15,   0,   0,  30,  60,  30,\n",
       "        15, -15,   0,  15, -60, -30,  15,  15, -60,  15,   0,  15, -15,\n",
       "        15, -60, -15,  15,  60, -30, -60, -15,   0,  15, -30,  60,  15,\n",
       "       -30, -30,   0,  60,  60,  30, -30, -15, -60, -30,  15, -15,  30,\n",
       "       -15,  60,   0,  60, -15,  15, -30, -60, -15, -30,  60, -15, -30,\n",
       "         0,  15, -60, -30, -60,  60, -30,  60,  15,  15, -60,  60,  15,\n",
       "        15,  60, -30, -60,  15,  15,  15,  90,  60,  60,  15,  30, -30,\n",
       "        30, -60,  30,  15,   0,  60,  15,  15,  30, -60,  15,  60,  15,\n",
       "       -30,  60,  60, -15, -30,  60,  15, -60,  90, -30,  15,  15,  15,\n",
       "       -30, -15,  60, -15, -15,  60, -15, -30,  15,  90,  30,  60,  15,\n",
       "        60, -30,  15,  60,  15,  90,  90,  60, -30,  90,  60, -30, -15,\n",
       "        60, -30,  15, -15,  15,  15, -60, -30, -30, -30,  15,  60,  60,\n",
       "        60,  15,  15, -60,  60,  15,  15,  30,  60, -60, -15,  15,  60,\n",
       "        90,  30,  15,  60,  60,  60,  30,  30, -30,  15, -15,  15,  30,\n",
       "         0,  30, -60,  15, -15,  60,  15, -30,  60,  15,  30, -30,  60,\n",
       "        90, -60,  15, -30,  30,  30,  15,  60, -30,   0,  15,  30,  15,\n",
       "        15,  60, -60,  15,  15,  15, -15,  15,  90,  30,   0,  15,  30,\n",
       "         0,  15,  15,  60, -60, -60,  15,  60,  15,  15,  30,  60,  15,\n",
       "       -15, -60,  30,  30, -30, -60,  90,  60, -30,  15,  15,  60,  30,\n",
       "        60,  15,  30,  60, -60, -30,  60, -60,  30,  60, -30,  15, -60,\n",
       "        30,  30,  15, -30, -60,  60,  30,  90,  60,  30])"
      ]
     },
     "execution_count": 73,
     "metadata": {},
     "output_type": "execute_result"
    }
   ],
   "source": [
    "predictedLabels"
   ]
  },
  {
   "cell_type": "code",
   "execution_count": 74,
   "metadata": {},
   "outputs": [],
   "source": [
    "import pandas as pd\n",
    "df = pd.DataFrame(predictedLabels, columns=[\"tilt\"])\n",
    "result = pd.concat([predict_data['filename'],df], axis=1, sort=False)"
   ]
  },
  {
   "cell_type": "code",
   "execution_count": 75,
   "metadata": {},
   "outputs": [
    {
     "data": {
      "text/html": [
       "<div>\n",
       "<style scoped>\n",
       "    .dataframe tbody tr th:only-of-type {\n",
       "        vertical-align: middle;\n",
       "    }\n",
       "\n",
       "    .dataframe tbody tr th {\n",
       "        vertical-align: top;\n",
       "    }\n",
       "\n",
       "    .dataframe thead th {\n",
       "        text-align: right;\n",
       "    }\n",
       "</style>\n",
       "<table border=\"1\" class=\"dataframe\">\n",
       "  <thead>\n",
       "    <tr style=\"text-align: right;\">\n",
       "      <th></th>\n",
       "      <th>filename</th>\n",
       "      <th>tilt</th>\n",
       "    </tr>\n",
       "  </thead>\n",
       "  <tbody>\n",
       "    <tr>\n",
       "      <th>0</th>\n",
       "      <td>face_33.jpg</td>\n",
       "      <td>90</td>\n",
       "    </tr>\n",
       "    <tr>\n",
       "      <th>1</th>\n",
       "      <td>face_2148.jpg</td>\n",
       "      <td>60</td>\n",
       "    </tr>\n",
       "    <tr>\n",
       "      <th>2</th>\n",
       "      <td>face_2119.jpg</td>\n",
       "      <td>0</td>\n",
       "    </tr>\n",
       "    <tr>\n",
       "      <th>3</th>\n",
       "      <td>face_1262.jpg</td>\n",
       "      <td>15</td>\n",
       "    </tr>\n",
       "    <tr>\n",
       "      <th>4</th>\n",
       "      <td>face_516.jpg</td>\n",
       "      <td>-15</td>\n",
       "    </tr>\n",
       "  </tbody>\n",
       "</table>\n",
       "</div>"
      ],
      "text/plain": [
       "        filename  tilt\n",
       "0    face_33.jpg    90\n",
       "1  face_2148.jpg    60\n",
       "2  face_2119.jpg     0\n",
       "3  face_1262.jpg    15\n",
       "4   face_516.jpg   -15"
      ]
     },
     "execution_count": 75,
     "metadata": {},
     "output_type": "execute_result"
    }
   ],
   "source": [
    "result.head()"
   ]
  },
  {
   "cell_type": "code",
   "execution_count": 76,
   "metadata": {},
   "outputs": [],
   "source": [
    "result.to_csv('s3759790_predictions.csv', index=False)"
   ]
  },
  {
   "cell_type": "code",
   "execution_count": null,
   "metadata": {},
   "outputs": [],
   "source": [
    "for n, i in enumerate(predictedLabels):\n",
    "    if i == 0:\n",
    "        predictedLabels[n] = -15\n",
    "    elif i == 1:\n",
    "        predictedLabels[n] = -30\n",
    "    elif i == 2:\n",
    "        predictedLabels[n] = -45\n",
    "    elif i == 3:\n",
    "        predictedLabels[n] = -60\n",
    "    elif i == 4:\n",
    "        predictedLabels[n] = -75\n",
    "    elif i == 5:\n",
    "        predictedLabels[n] = -90\n",
    "    elif i == 6:\n",
    "        predictedLabels[n] = 0\n",
    "    elif i == 7:\n",
    "        predictedLabels[n] = 15\n",
    "    elif i == 8:\n",
    "        predictedLabels[n] = 30\n",
    "    elif i == 9:\n",
    "        predictedLabels[n] = 45\n",
    "    elif i == 10:\n",
    "        predictedLabels[n] = 60\n",
    "    elif i == 11:\n",
    "        predictedLabels[n] = 75\n",
    "    else:\n",
    "        predictedLabels[n] = 90"
   ]
  },
  {
   "cell_type": "code",
   "execution_count": null,
   "metadata": {},
   "outputs": [],
   "source": [
    "predict_csv = pd.read_csv('s3759790_predictions.csv') \n",
    "predict_data = pd.merge(predict_csv,data, on='filename')"
   ]
  }
 ],
 "metadata": {
  "kernelspec": {
   "display_name": "conda_tensorflow_p36",
   "language": "python",
   "name": "conda_tensorflow_p36"
  },
  "language_info": {
   "codemirror_mode": {
    "name": "ipython",
    "version": 3
   },
   "file_extension": ".py",
   "mimetype": "text/x-python",
   "name": "python",
   "nbconvert_exporter": "python",
   "pygments_lexer": "ipython3",
   "version": "3.6.10"
  }
 },
 "nbformat": 4,
 "nbformat_minor": 4
}
