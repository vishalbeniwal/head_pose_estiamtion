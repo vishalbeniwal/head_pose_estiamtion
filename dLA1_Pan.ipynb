{
  "nbformat": 4,
  "nbformat_minor": 0,
  "metadata": {
    "kernelspec": {
      "display_name": "conda_tensorflow_p36",
      "language": "python",
      "name": "conda_tensorflow_p36"
    },
    "language_info": {
      "codemirror_mode": {
        "name": "ipython",
        "version": 3
      },
      "file_extension": ".py",
      "mimetype": "text/x-python",
      "name": "python",
      "nbconvert_exporter": "python",
      "pygments_lexer": "ipython3",
      "version": "3.6.10"
    },
    "colab": {
      "name": "dLA1-Pan.ipynb",
      "provenance": [],
      "toc_visible": true
    }
  },
  "cells": [
    {
      "cell_type": "markdown",
      "metadata": {
        "id": "8u3cxVbpUPpV",
        "colab_type": "text"
      },
      "source": [
        "<div align=\"right\">Student Name: <b>Vishal Beniwal</b><br>Student Number: <b>s3759790</b><br>Subject Code: <b>COSC 2779</b></div>\n",
        "\n",
        "# Deep Learning Assignment 1\n",
        "## Head Pose Estimation\n",
        "\n",
        "<h3> Notebook 1: Training & Predicting Head Tilt</h3>\n",
        "\n",
        "This Notebook will take you through the steps followed to build a model to __predict the tilt__ in the head pose using the dataset given"
      ]
    },
    {
      "cell_type": "code",
      "metadata": {
        "id": "TH_pzSEnUPpW",
        "colab_type": "code",
        "colab": {}
      },
      "source": [
        "#Importing the required libraries\n",
        "import tensorflow as tf\n",
        "AUTOTUNE = tf.data.experimental.AUTOTUNE\n",
        "\n",
        "import IPython.display as display\n",
        "from PIL import Image\n",
        "import numpy as np\n",
        "import matplotlib.pyplot as plt\n",
        "import os\n",
        "\n",
        "import pandas as pd\n",
        "\n",
        "import warnings\n",
        "warnings.filterwarnings('ignore')"
      ],
      "execution_count": 1,
      "outputs": []
    },
    {
      "cell_type": "code",
      "metadata": {
        "id": "UUIh7HtzVfzL",
        "colab_type": "code",
        "colab": {}
      },
      "source": [
        "# from google.colab import files\n",
        "# uploaded = files.upload()"
      ],
      "execution_count": 2,
      "outputs": []
    },
    {
      "cell_type": "markdown",
      "metadata": {
        "id": "F8TO-aTwUPpa",
        "colab_type": "text"
      },
      "source": [
        "## Load & Prepare The Dataset\n",
        "\n",
        "This section of the notebook shows the steps taken to load and prepare the given data for modeling. The dataset was uploaded into the notebook work environment and unzipped using the following code."
      ]
    },
    {
      "cell_type": "code",
      "metadata": {
        "id": "CfjHxOH_UPpb",
        "colab_type": "code",
        "colab": {}
      },
      "source": [
        "#Unzipping the upload zip folder\n",
        "import zipfile\n",
        "with zipfile.ZipFile('modified_data.zip', 'r') as zip_ref:\n",
        "    zip_ref.extractall('./')"
      ],
      "execution_count": 3,
      "outputs": []
    },
    {
      "cell_type": "code",
      "metadata": {
        "id": "3wbhXCOWUPpd",
        "colab_type": "code",
        "colab": {}
      },
      "source": [
        "raw_data = pd.read_csv('train_data.csv') "
      ],
      "execution_count": 4,
      "outputs": []
    },
    {
      "cell_type": "code",
      "metadata": {
        "id": "MbFqA2ckUPpf",
        "colab_type": "code",
        "colab": {
          "base_uri": "https://localhost:8080/",
          "height": 204
        },
        "outputId": "616e8c90-1d0b-45c0-c47e-49c6b47977a2"
      },
      "source": [
        "raw_data.head()"
      ],
      "execution_count": 5,
      "outputs": [
        {
          "output_type": "execute_result",
          "data": {
            "text/html": [
              "<div>\n",
              "<style scoped>\n",
              "    .dataframe tbody tr th:only-of-type {\n",
              "        vertical-align: middle;\n",
              "    }\n",
              "\n",
              "    .dataframe tbody tr th {\n",
              "        vertical-align: top;\n",
              "    }\n",
              "\n",
              "    .dataframe thead th {\n",
              "        text-align: right;\n",
              "    }\n",
              "</style>\n",
              "<table border=\"1\" class=\"dataframe\">\n",
              "  <thead>\n",
              "    <tr style=\"text-align: right;\">\n",
              "      <th></th>\n",
              "      <th>filename</th>\n",
              "      <th>person_id</th>\n",
              "      <th>series</th>\n",
              "      <th>tilt</th>\n",
              "      <th>pan</th>\n",
              "    </tr>\n",
              "  </thead>\n",
              "  <tbody>\n",
              "    <tr>\n",
              "      <th>0</th>\n",
              "      <td>face_790.jpg</td>\n",
              "      <td>5</td>\n",
              "      <td>1</td>\n",
              "      <td>-15</td>\n",
              "      <td>30</td>\n",
              "    </tr>\n",
              "    <tr>\n",
              "      <th>1</th>\n",
              "      <td>face_2445.jpg</td>\n",
              "      <td>5</td>\n",
              "      <td>1</td>\n",
              "      <td>0</td>\n",
              "      <td>-75</td>\n",
              "    </tr>\n",
              "    <tr>\n",
              "      <th>2</th>\n",
              "      <td>face_2266.jpg</td>\n",
              "      <td>5</td>\n",
              "      <td>2</td>\n",
              "      <td>-15</td>\n",
              "      <td>-60</td>\n",
              "    </tr>\n",
              "    <tr>\n",
              "      <th>3</th>\n",
              "      <td>face_2713.jpg</td>\n",
              "      <td>5</td>\n",
              "      <td>2</td>\n",
              "      <td>0</td>\n",
              "      <td>-90</td>\n",
              "    </tr>\n",
              "    <tr>\n",
              "      <th>4</th>\n",
              "      <td>face_2016.jpg</td>\n",
              "      <td>5</td>\n",
              "      <td>2</td>\n",
              "      <td>15</td>\n",
              "      <td>-75</td>\n",
              "    </tr>\n",
              "  </tbody>\n",
              "</table>\n",
              "</div>"
            ],
            "text/plain": [
              "        filename  person_id  series  tilt  pan\n",
              "0   face_790.jpg          5       1   -15   30\n",
              "1  face_2445.jpg          5       1     0  -75\n",
              "2  face_2266.jpg          5       2   -15  -60\n",
              "3  face_2713.jpg          5       2     0  -90\n",
              "4  face_2016.jpg          5       2    15  -75"
            ]
          },
          "metadata": {
            "tags": []
          },
          "execution_count": 5
        }
      ]
    },
    {
      "cell_type": "code",
      "metadata": {
        "id": "y1tjHFnzUPpj",
        "colab_type": "code",
        "colab": {}
      },
      "source": [
        "# testdata = pd.read_csv('test_data.csv')\n",
        "# testdata.head()\n",
        "# test_df = pd.merge(testdata,data, on='filename')\n",
        "# test_df.head()\n",
        "# test_df.shape\n",
        "# test_df.person_id.unique()"
      ],
      "execution_count": 6,
      "outputs": []
    },
    {
      "cell_type": "markdown",
      "metadata": {
        "id": "woS0Wgu2UPpl",
        "colab_type": "text"
      },
      "source": [
        "Following code iterate through the data folders and read all the image names to create a data frame with their file path and name"
      ]
    },
    {
      "cell_type": "code",
      "metadata": {
        "id": "0UfeJydvUPpm",
        "colab_type": "code",
        "colab": {}
      },
      "source": [
        "from PIL import Image\n",
        "import glob\n",
        "\n",
        "image_list = []\n",
        "for filepath in glob.glob('modified_data/*.jpg', recursive=True):\n",
        "   \n",
        "    filename = filepath.split(\"/\")[-1]\n",
        "    image_list.append((filepath,filename))  \n",
        "                      \n",
        "# Create a data frame\n",
        "data = pd.DataFrame(data=image_list, columns=['filepath','filename'])"
      ],
      "execution_count": 7,
      "outputs": []
    },
    {
      "cell_type": "code",
      "metadata": {
        "id": "LxDRu1TaUPpo",
        "colab_type": "code",
        "colab": {
          "base_uri": "https://localhost:8080/",
          "height": 204
        },
        "outputId": "f9e46e55-e7d9-485b-dfbe-3b3e1e2d912d"
      },
      "source": [
        "data.head()"
      ],
      "execution_count": 8,
      "outputs": [
        {
          "output_type": "execute_result",
          "data": {
            "text/html": [
              "<div>\n",
              "<style scoped>\n",
              "    .dataframe tbody tr th:only-of-type {\n",
              "        vertical-align: middle;\n",
              "    }\n",
              "\n",
              "    .dataframe tbody tr th {\n",
              "        vertical-align: top;\n",
              "    }\n",
              "\n",
              "    .dataframe thead th {\n",
              "        text-align: right;\n",
              "    }\n",
              "</style>\n",
              "<table border=\"1\" class=\"dataframe\">\n",
              "  <thead>\n",
              "    <tr style=\"text-align: right;\">\n",
              "      <th></th>\n",
              "      <th>filepath</th>\n",
              "      <th>filename</th>\n",
              "    </tr>\n",
              "  </thead>\n",
              "  <tbody>\n",
              "    <tr>\n",
              "      <th>0</th>\n",
              "      <td>modified_data/face_119.jpg</td>\n",
              "      <td>face_119.jpg</td>\n",
              "    </tr>\n",
              "    <tr>\n",
              "      <th>1</th>\n",
              "      <td>modified_data/face_729.jpg</td>\n",
              "      <td>face_729.jpg</td>\n",
              "    </tr>\n",
              "    <tr>\n",
              "      <th>2</th>\n",
              "      <td>modified_data/face_1588.jpg</td>\n",
              "      <td>face_1588.jpg</td>\n",
              "    </tr>\n",
              "    <tr>\n",
              "      <th>3</th>\n",
              "      <td>modified_data/face_688.jpg</td>\n",
              "      <td>face_688.jpg</td>\n",
              "    </tr>\n",
              "    <tr>\n",
              "      <th>4</th>\n",
              "      <td>modified_data/face_1582.jpg</td>\n",
              "      <td>face_1582.jpg</td>\n",
              "    </tr>\n",
              "  </tbody>\n",
              "</table>\n",
              "</div>"
            ],
            "text/plain": [
              "                      filepath       filename\n",
              "0   modified_data/face_119.jpg   face_119.jpg\n",
              "1   modified_data/face_729.jpg   face_729.jpg\n",
              "2  modified_data/face_1588.jpg  face_1588.jpg\n",
              "3   modified_data/face_688.jpg   face_688.jpg\n",
              "4  modified_data/face_1582.jpg  face_1582.jpg"
            ]
          },
          "metadata": {
            "tags": []
          },
          "execution_count": 8
        }
      ]
    },
    {
      "cell_type": "markdown",
      "metadata": {
        "id": "FPty0VTkUPpq",
        "colab_type": "text"
      },
      "source": [
        "<h3>Preprocessing the images</h3>\n",
        "\n",
        "1. Resizing the images to 32x32 for faster computation\n",
        "2. Converting them to gray color which brings down the channels in the image from three to one"
      ]
    },
    {
      "cell_type": "code",
      "metadata": {
        "id": "9kmtMsmfUPpr",
        "colab_type": "code",
        "colab": {}
      },
      "source": [
        "import cv2\n",
        "import os\n",
        "\n",
        "for filepath in glob.glob('modified_data/*.jpg', recursive=True):\n",
        "    \n",
        "    img = cv2.imread(filepath)\n",
        "    gray = cv2.cvtColor(img, cv2.COLOR_BGR2GRAY)\n",
        "    img_resized = cv2.resize(gray,(32,32) , interpolation = cv2.INTER_AREA)\n",
        "    img_resized.view\n",
        "    cv2.imwrite(os.path.join(filepath), img_resized)"
      ],
      "execution_count": 9,
      "outputs": []
    },
    {
      "cell_type": "markdown",
      "metadata": {
        "id": "DcdTUJe5UPpt",
        "colab_type": "text"
      },
      "source": [
        "Following code will pick and plot any 4 random images from the datatset for the validation of changes made"
      ]
    },
    {
      "cell_type": "code",
      "metadata": {
        "id": "JkTQ3bHvUPpt",
        "colab_type": "code",
        "colab": {
          "base_uri": "https://localhost:8080/",
          "height": 225
        },
        "outputId": "ee524afa-0d8e-4290-ba92-3381d919e808"
      },
      "source": [
        "random_index = np.random.choice(100, 4)\n",
        "rand_data = data.loc[random_index,'filepath']\n",
        "\n",
        "plt.figure(figsize=(16,4))\n",
        "for i, filename in enumerate(rand_data):\n",
        "    im = np.asarray(Image.open(filename))\n",
        "    plt.subplot(1,4,i+1)\n",
        "    plt.imshow(im,cmap='gray')\n",
        "    plt.axis('off')\n",
        "    \n",
        "    \n",
        "plt.show()"
      ],
      "execution_count": 10,
      "outputs": [
        {
          "output_type": "display_data",
          "data": {
            "image/png": "[encoded data removed]",
            "text/plain": [
              "<Figure size 1152x288 with 4 Axes>"
            ]
          },
          "metadata": {
            "tags": [],
            "needs_background": "light"
          }
        }
      ]
    },
    {
      "cell_type": "code",
      "metadata": {
        "id": "rl1gFJGLUPpw",
        "colab_type": "code",
        "colab": {}
      },
      "source": [
        "train_data = pd.merge(raw_data,data, on='filename')"
      ],
      "execution_count": 11,
      "outputs": []
    },
    {
      "cell_type": "markdown",
      "metadata": {
        "id": "WBN1qS4JUPpy",
        "colab_type": "text"
      },
      "source": [
        "<h3> Data Exploration </h3>"
      ]
    },
    {
      "cell_type": "code",
      "metadata": {
        "id": "CI9YNO3QUPpy",
        "colab_type": "code",
        "colab": {
          "base_uri": "https://localhost:8080/",
          "height": 204
        },
        "outputId": "785d5cdc-d16e-495c-c71b-55465246ff20"
      },
      "source": [
        "train_data.head()"
      ],
      "execution_count": 12,
      "outputs": [
        {
          "output_type": "execute_result",
          "data": {
            "text/html": [
              "<div>\n",
              "<style scoped>\n",
              "    .dataframe tbody tr th:only-of-type {\n",
              "        vertical-align: middle;\n",
              "    }\n",
              "\n",
              "    .dataframe tbody tr th {\n",
              "        vertical-align: top;\n",
              "    }\n",
              "\n",
              "    .dataframe thead th {\n",
              "        text-align: right;\n",
              "    }\n",
              "</style>\n",
              "<table border=\"1\" class=\"dataframe\">\n",
              "  <thead>\n",
              "    <tr style=\"text-align: right;\">\n",
              "      <th></th>\n",
              "      <th>filename</th>\n",
              "      <th>person_id</th>\n",
              "      <th>series</th>\n",
              "      <th>tilt</th>\n",
              "      <th>pan</th>\n",
              "      <th>filepath</th>\n",
              "    </tr>\n",
              "  </thead>\n",
              "  <tbody>\n",
              "    <tr>\n",
              "      <th>0</th>\n",
              "      <td>face_790.jpg</td>\n",
              "      <td>5</td>\n",
              "      <td>1</td>\n",
              "      <td>-15</td>\n",
              "      <td>30</td>\n",
              "      <td>modified_data/face_790.jpg</td>\n",
              "    </tr>\n",
              "    <tr>\n",
              "      <th>1</th>\n",
              "      <td>face_2445.jpg</td>\n",
              "      <td>5</td>\n",
              "      <td>1</td>\n",
              "      <td>0</td>\n",
              "      <td>-75</td>\n",
              "      <td>modified_data/face_2445.jpg</td>\n",
              "    </tr>\n",
              "    <tr>\n",
              "      <th>2</th>\n",
              "      <td>face_2266.jpg</td>\n",
              "      <td>5</td>\n",
              "      <td>2</td>\n",
              "      <td>-15</td>\n",
              "      <td>-60</td>\n",
              "      <td>modified_data/face_2266.jpg</td>\n",
              "    </tr>\n",
              "    <tr>\n",
              "      <th>3</th>\n",
              "      <td>face_2713.jpg</td>\n",
              "      <td>5</td>\n",
              "      <td>2</td>\n",
              "      <td>0</td>\n",
              "      <td>-90</td>\n",
              "      <td>modified_data/face_2713.jpg</td>\n",
              "    </tr>\n",
              "    <tr>\n",
              "      <th>4</th>\n",
              "      <td>face_2016.jpg</td>\n",
              "      <td>5</td>\n",
              "      <td>2</td>\n",
              "      <td>15</td>\n",
              "      <td>-75</td>\n",
              "      <td>modified_data/face_2016.jpg</td>\n",
              "    </tr>\n",
              "  </tbody>\n",
              "</table>\n",
              "</div>"
            ],
            "text/plain": [
              "        filename  person_id  series  tilt  pan                     filepath\n",
              "0   face_790.jpg          5       1   -15   30   modified_data/face_790.jpg\n",
              "1  face_2445.jpg          5       1     0  -75  modified_data/face_2445.jpg\n",
              "2  face_2266.jpg          5       2   -15  -60  modified_data/face_2266.jpg\n",
              "3  face_2713.jpg          5       2     0  -90  modified_data/face_2713.jpg\n",
              "4  face_2016.jpg          5       2    15  -75  modified_data/face_2016.jpg"
            ]
          },
          "metadata": {
            "tags": []
          },
          "execution_count": 12
        }
      ]
    },
    {
      "cell_type": "code",
      "metadata": {
        "id": "OJ1xtzrvUPp0",
        "colab_type": "code",
        "colab": {
          "base_uri": "https://localhost:8080/",
          "height": 34
        },
        "outputId": "cca170a0-b674-45e1-9fe6-fb8f1ecfe598"
      },
      "source": [
        "train_data.shape"
      ],
      "execution_count": 13,
      "outputs": [
        {
          "output_type": "execute_result",
          "data": {
            "text/plain": [
              "(2325, 6)"
            ]
          },
          "metadata": {
            "tags": []
          },
          "execution_count": 13
        }
      ]
    },
    {
      "cell_type": "code",
      "metadata": {
        "id": "lzV1GYxCUPp3",
        "colab_type": "code",
        "colab": {
          "base_uri": "https://localhost:8080/",
          "height": 34
        },
        "outputId": "96307858-12b5-4a69-fda2-f0f5eeddc678"
      },
      "source": [
        "train_data['person_id'].unique()"
      ],
      "execution_count": 14,
      "outputs": [
        {
          "output_type": "execute_result",
          "data": {
            "text/plain": [
              "array([ 5,  4,  3, 10, 11,  8,  6,  7,  9, 14, 13, 12, 15])"
            ]
          },
          "metadata": {
            "tags": []
          },
          "execution_count": 14
        }
      ]
    },
    {
      "cell_type": "code",
      "metadata": {
        "id": "spG6vimOUPp5",
        "colab_type": "code",
        "colab": {
          "base_uri": "https://localhost:8080/",
          "height": 34
        },
        "outputId": "57b266c3-e580-4175-a5df-e0e5f79d148d"
      },
      "source": [
        "train_data['series'].unique()"
      ],
      "execution_count": 15,
      "outputs": [
        {
          "output_type": "execute_result",
          "data": {
            "text/plain": [
              "array([1, 2])"
            ]
          },
          "metadata": {
            "tags": []
          },
          "execution_count": 15
        }
      ]
    },
    {
      "cell_type": "code",
      "metadata": {
        "id": "wc5AUGZ_UPp7",
        "colab_type": "code",
        "colab": {
          "base_uri": "https://localhost:8080/",
          "height": 34
        },
        "outputId": "2864918b-278b-4ed2-97c5-6c93783d343d"
      },
      "source": [
        "train_data['tilt'].unique()"
      ],
      "execution_count": 16,
      "outputs": [
        {
          "output_type": "execute_result",
          "data": {
            "text/plain": [
              "array([-15,   0,  15,  30, -60, -30,  90,  60, -90])"
            ]
          },
          "metadata": {
            "tags": []
          },
          "execution_count": 16
        }
      ]
    },
    {
      "cell_type": "code",
      "metadata": {
        "id": "g3VgApv7UPp-",
        "colab_type": "code",
        "colab": {
          "base_uri": "https://localhost:8080/",
          "height": 34
        },
        "outputId": "5c827bf8-530d-4a7b-d2aa-b7bebe345f27"
      },
      "source": [
        "train_data['pan'].unique()"
      ],
      "execution_count": 17,
      "outputs": [
        {
          "output_type": "execute_result",
          "data": {
            "text/plain": [
              "array([ 30, -75, -60, -90,  60, -15, -45, -30,  90,  15,  45,   0,  75])"
            ]
          },
          "metadata": {
            "tags": []
          },
          "execution_count": 17
        }
      ]
    },
    {
      "cell_type": "code",
      "metadata": {
        "id": "59uhIKmjUPqA",
        "colab_type": "code",
        "colab": {
          "base_uri": "https://localhost:8080/",
          "height": 255
        },
        "outputId": "c55dd5f8-8b44-4e82-b5b9-f6656c394bf3"
      },
      "source": [
        "train_data['person_id'].value_counts()"
      ],
      "execution_count": 18,
      "outputs": [
        {
          "output_type": "execute_result",
          "data": {
            "text/plain": [
              "15    186\n",
              "13    186\n",
              "11    186\n",
              "9     186\n",
              "7     186\n",
              "5     186\n",
              "14    186\n",
              "12    186\n",
              "10    186\n",
              "8     186\n",
              "6     186\n",
              "4     186\n",
              "3      93\n",
              "Name: person_id, dtype: int64"
            ]
          },
          "metadata": {
            "tags": []
          },
          "execution_count": 18
        }
      ]
    },
    {
      "cell_type": "code",
      "metadata": {
        "id": "-SAFTOcTUPqC",
        "colab_type": "code",
        "colab": {
          "base_uri": "https://localhost:8080/",
          "height": 68
        },
        "outputId": "c37e401a-a231-451e-da14-69179782c381"
      },
      "source": [
        "train_data['series'].value_counts()"
      ],
      "execution_count": 19,
      "outputs": [
        {
          "output_type": "execute_result",
          "data": {
            "text/plain": [
              "2    1209\n",
              "1    1116\n",
              "Name: series, dtype: int64"
            ]
          },
          "metadata": {
            "tags": []
          },
          "execution_count": 19
        }
      ]
    },
    {
      "cell_type": "code",
      "metadata": {
        "id": "5AkR2E1cUPqE",
        "colab_type": "code",
        "colab": {
          "base_uri": "https://localhost:8080/",
          "height": 187
        },
        "outputId": "609c8491-d2c9-43c1-bc5b-4e537e57f609"
      },
      "source": [
        "train_data['tilt'].value_counts()"
      ],
      "execution_count": 20,
      "outputs": [
        {
          "output_type": "execute_result",
          "data": {
            "text/plain": [
              " 15    325\n",
              "-15    325\n",
              " 60    325\n",
              "-60    325\n",
              " 30    325\n",
              "-30    325\n",
              " 0     325\n",
              " 90     25\n",
              "-90     25\n",
              "Name: tilt, dtype: int64"
            ]
          },
          "metadata": {
            "tags": []
          },
          "execution_count": 20
        }
      ]
    },
    {
      "cell_type": "code",
      "metadata": {
        "id": "b9XHjZX3UPqH",
        "colab_type": "code",
        "colab": {}
      },
      "source": [
        "train_data['tilt'] = train_data['tilt'].astype(str)"
      ],
      "execution_count": 21,
      "outputs": []
    },
    {
      "cell_type": "code",
      "metadata": {
        "id": "km8R8IpwUPqI",
        "colab_type": "code",
        "colab": {}
      },
      "source": [
        "train_data['pan'] = train_data['pan'].astype(str)"
      ],
      "execution_count": 22,
      "outputs": []
    },
    {
      "cell_type": "code",
      "metadata": {
        "id": "r2x6KvJLUPqK",
        "colab_type": "code",
        "colab": {}
      },
      "source": [
        "# train_data['tilt'] = train_data['tilt'].replace({'15':'Fifteen','-15':'NegativeFifteen','60':'Sixty','-60':'NegativeSixty','30':'Thirty',\n",
        "#                            '-30':'NegativeThirty','0':'Zero','90':'Ninety','-90':'NegativeNinety'})"
      ],
      "execution_count": 23,
      "outputs": []
    },
    {
      "cell_type": "code",
      "metadata": {
        "id": "tOME8GxqUPqM",
        "colab_type": "code",
        "colab": {
          "base_uri": "https://localhost:8080/",
          "height": 255
        },
        "outputId": "4b556e66-a960-4acd-c9fe-f551e0cd6691"
      },
      "source": [
        "train_data['pan'].value_counts()"
      ],
      "execution_count": 24,
      "outputs": [
        {
          "output_type": "execute_result",
          "data": {
            "text/plain": [
              "0      225\n",
              "-75    175\n",
              "-90    175\n",
              "90     175\n",
              "-15    175\n",
              "45     175\n",
              "75     175\n",
              "60     175\n",
              "15     175\n",
              "-45    175\n",
              "30     175\n",
              "-60    175\n",
              "-30    175\n",
              "Name: pan, dtype: int64"
            ]
          },
          "metadata": {
            "tags": []
          },
          "execution_count": 24
        }
      ]
    },
    {
      "cell_type": "code",
      "metadata": {
        "id": "R-YZ2QQ-UPqO",
        "colab_type": "code",
        "colab": {
          "base_uri": "https://localhost:8080/",
          "height": 296
        },
        "outputId": "c5675565-25eb-47be-a0e9-ef32d7031fe1"
      },
      "source": [
        "import seaborn as sns\n",
        "sns.countplot(x='pan', hue='series', data=train_data)"
      ],
      "execution_count": 25,
      "outputs": [
        {
          "output_type": "execute_result",
          "data": {
            "text/plain": [
              "<matplotlib.axes._subplots.AxesSubplot at 0x7fb085be9e48>"
            ]
          },
          "metadata": {
            "tags": []
          },
          "execution_count": 25
        },
        {
          "output_type": "display_data",
          "data": {
            "image/png": "[encoded data removed]",
            "text/plain": [
              "<Figure size 432x288 with 1 Axes>"
            ]
          },
          "metadata": {
            "tags": [],
            "needs_background": "light"
          }
        }
      ]
    },
    {
      "cell_type": "code",
      "metadata": {
        "id": "5KOdp377UPqQ",
        "colab_type": "code",
        "colab": {
          "base_uri": "https://localhost:8080/",
          "height": 296
        },
        "outputId": "ab9f7183-47a9-43d8-b229-b3384c26cf84"
      },
      "source": [
        "sns.countplot(x='tilt', hue='series', data=train_data)"
      ],
      "execution_count": 26,
      "outputs": [
        {
          "output_type": "execute_result",
          "data": {
            "text/plain": [
              "<matplotlib.axes._subplots.AxesSubplot at 0x7fb085ad17f0>"
            ]
          },
          "metadata": {
            "tags": []
          },
          "execution_count": 26
        },
        {
          "output_type": "display_data",
          "data": {
            "image/png": "[encoded data removed]",
            "text/plain": [
              "<Figure size 432x288 with 1 Axes>"
            ]
          },
          "metadata": {
            "tags": [],
            "needs_background": "light"
          }
        }
      ]
    },
    {
      "cell_type": "markdown",
      "metadata": {
        "id": "2k_NUbEPUPqS",
        "colab_type": "text"
      },
      "source": [
        "Creating a subset of the data to classify only the tilt of the head"
      ]
    },
    {
      "cell_type": "code",
      "metadata": {
        "id": "qgTmCZnXUPqT",
        "colab_type": "code",
        "colab": {}
      },
      "source": [
        "tilt_train_data = train_data[['filepath','pan']]"
      ],
      "execution_count": 27,
      "outputs": []
    },
    {
      "cell_type": "code",
      "metadata": {
        "id": "7KhL9NtcUPqU",
        "colab_type": "code",
        "colab": {
          "base_uri": "https://localhost:8080/",
          "height": 225
        },
        "outputId": "7745dc34-dd9f-41f7-edd4-d4bf98c2e9c1"
      },
      "source": [
        "random_index = np.random.choice(100, 4)\n",
        "rand_data = tilt_train_data.loc[random_index,'filepath']\n",
        "\n",
        "plt.figure(figsize=(16,4))\n",
        "for i, filename in enumerate(rand_data):\n",
        "    im = np.asarray(Image.open(filename))\n",
        "    plt.subplot(1,4,i+1)\n",
        "    plt.imshow(im,cmap='gray')\n",
        "    plt.axis('off')\n",
        "    \n",
        "    \n",
        "plt.show()"
      ],
      "execution_count": 28,
      "outputs": [
        {
          "output_type": "display_data",
          "data": {
            "image/png": "[encoded data removed]",
            "text/plain": [
              "<Figure size 1152x288 with 4 Axes>"
            ]
          },
          "metadata": {
            "tags": [],
            "needs_background": "light"
          }
        }
      ]
    },
    {
      "cell_type": "code",
      "metadata": {
        "id": "1IvlsoARUPqW",
        "colab_type": "code",
        "colab": {
          "base_uri": "https://localhost:8080/",
          "height": 204
        },
        "outputId": "d7821bf3-6162-45dc-bb53-897dd18163d5"
      },
      "source": [
        "tilt_train_data.head()"
      ],
      "execution_count": 29,
      "outputs": [
        {
          "output_type": "execute_result",
          "data": {
            "text/html": [
              "<div>\n",
              "<style scoped>\n",
              "    .dataframe tbody tr th:only-of-type {\n",
              "        vertical-align: middle;\n",
              "    }\n",
              "\n",
              "    .dataframe tbody tr th {\n",
              "        vertical-align: top;\n",
              "    }\n",
              "\n",
              "    .dataframe thead th {\n",
              "        text-align: right;\n",
              "    }\n",
              "</style>\n",
              "<table border=\"1\" class=\"dataframe\">\n",
              "  <thead>\n",
              "    <tr style=\"text-align: right;\">\n",
              "      <th></th>\n",
              "      <th>filepath</th>\n",
              "      <th>pan</th>\n",
              "    </tr>\n",
              "  </thead>\n",
              "  <tbody>\n",
              "    <tr>\n",
              "      <th>0</th>\n",
              "      <td>modified_data/face_790.jpg</td>\n",
              "      <td>30</td>\n",
              "    </tr>\n",
              "    <tr>\n",
              "      <th>1</th>\n",
              "      <td>modified_data/face_2445.jpg</td>\n",
              "      <td>-75</td>\n",
              "    </tr>\n",
              "    <tr>\n",
              "      <th>2</th>\n",
              "      <td>modified_data/face_2266.jpg</td>\n",
              "      <td>-60</td>\n",
              "    </tr>\n",
              "    <tr>\n",
              "      <th>3</th>\n",
              "      <td>modified_data/face_2713.jpg</td>\n",
              "      <td>-90</td>\n",
              "    </tr>\n",
              "    <tr>\n",
              "      <th>4</th>\n",
              "      <td>modified_data/face_2016.jpg</td>\n",
              "      <td>-75</td>\n",
              "    </tr>\n",
              "  </tbody>\n",
              "</table>\n",
              "</div>"
            ],
            "text/plain": [
              "                      filepath  pan\n",
              "0   modified_data/face_790.jpg   30\n",
              "1  modified_data/face_2445.jpg  -75\n",
              "2  modified_data/face_2266.jpg  -60\n",
              "3  modified_data/face_2713.jpg  -90\n",
              "4  modified_data/face_2016.jpg  -75"
            ]
          },
          "metadata": {
            "tags": []
          },
          "execution_count": 29
        }
      ]
    },
    {
      "cell_type": "markdown",
      "metadata": {
        "id": "K186bwfPUPqY",
        "colab_type": "text"
      },
      "source": [
        "## Data Augmentation"
      ]
    },
    {
      "cell_type": "code",
      "metadata": {
        "id": "FKn292DmUPqY",
        "colab_type": "code",
        "colab": {}
      },
      "source": [
        "# from tensorflow.keras.preprocessing.image import ImageDataGenerator\n",
        "# from tensorflow.keras.preprocessing.image import ImageDataGenerator, img_to_array, load_img\n",
        "\n",
        "# dataAugen = ImageDataGenerator(featurewise_center=True,width_shift_range=0.1,height_shift_range=0.1,zoom_range = 0.2,\n",
        "#                                fill_mode = 'nearest',rescale=1./255, data_format='channels_last')\n"
      ],
      "execution_count": 30,
      "outputs": []
    },
    {
      "cell_type": "code",
      "metadata": {
        "id": "L0XL62mxUPqa",
        "colab_type": "code",
        "colab": {}
      },
      "source": [
        "# data_copy = train_data[['filepath','pan']]\n",
        "# data_copy['pan'] = data_copy['pan'].astype(str)\n",
        "# data_copy.head()"
      ],
      "execution_count": 31,
      "outputs": []
    },
    {
      "cell_type": "code",
      "metadata": {
        "id": "5ZEi9C46UPqc",
        "colab_type": "code",
        "colab": {}
      },
      "source": [
        "# data_90 = data_copy[(data_copy['tilt'] == '90')]\n",
        "# data_neg_90 = data_copy[(data_copy['tilt'] == '-90')]"
      ],
      "execution_count": 32,
      "outputs": []
    },
    {
      "cell_type": "code",
      "metadata": {
        "id": "sJn04yjGUPqe",
        "colab_type": "code",
        "colab": {}
      },
      "source": [
        "# imglist = []\n",
        "# imglist = data_copy['filepath']\n",
        "# newlist = []\n",
        "# for filepath in imglist:\n",
        "\n",
        "#     img = load_img(filepath)\n",
        "#     x = img_to_array(img)\n",
        "#     x = x.reshape((1,)+ x.shape)\n",
        "#     i=0\n",
        "#     for batch in dataAugen.flow(x, batch_size=1, save_to_dir='newfacepan', save_prefix='newface_', save_format = 'jpg'):\n",
        "    \n",
        "#         i+=1\n",
        "#         if i>5:\n",
        "#             break"
      ],
      "execution_count": 33,
      "outputs": []
    },
    {
      "cell_type": "code",
      "metadata": {
        "id": "SO7t7dBrUPqg",
        "colab_type": "code",
        "colab": {}
      },
      "source": [
        "# image_list = []\n",
        "# for filepath in glob.glob('newfacepan/*.jpg', recursive=True):\n",
        "   \n",
        "#     filename = filepath.split(\"/\")[-1]\n",
        "#     image_list.append((filepath,'90'))  \n",
        "                      \n",
        "# # Create a data frame\n",
        "# augdata = pd.DataFrame(data=image_list, columns=['filepath','tilt'])"
      ],
      "execution_count": 34,
      "outputs": []
    },
    {
      "cell_type": "code",
      "metadata": {
        "id": "Hc9NO8FAUPqi",
        "colab_type": "code",
        "colab": {}
      },
      "source": [
        "# imglist2 = []\n",
        "# imglist2 = data_neg_90['filepath']\n",
        "# for filepath in imglist2:\n",
        "    \n",
        "#     img = load_img(filepath)\n",
        "#     x = img_to_array(img)\n",
        "#     x = x.reshape((1,)+ x.shape)\n",
        "#     i=0\n",
        "#     for batch in dataAugen.flow(x, batch_size=1, save_to_dir='Aug_faceNeg90', save_prefix='newface_', save_format = 'jpg'):\n",
        "#         i+=1\n",
        "#         if i>10:\n",
        "#             break"
      ],
      "execution_count": 35,
      "outputs": []
    },
    {
      "cell_type": "code",
      "metadata": {
        "id": "eQMG821PUPqk",
        "colab_type": "code",
        "colab": {}
      },
      "source": [
        "# image_list = []\n",
        "# for filepath in glob.glob('Aug_faceNeg90/*.jpg', recursive=True):\n",
        "   \n",
        "#     filename = filepath.split(\"/\")[-1]\n",
        "#     image_list.append((filepath,'-90'))  \n",
        "                      \n",
        "# # Create a data frame\n",
        "# augdata2 = pd.DataFrame(data=image_list, columns=['filepath','tilt'])"
      ],
      "execution_count": 36,
      "outputs": []
    },
    {
      "cell_type": "code",
      "metadata": {
        "id": "aPw2ENJIUPqm",
        "colab_type": "code",
        "colab": {}
      },
      "source": [
        "# frames = [tilt_train_data, augdata, augdata2]\n",
        "\n",
        "# tilt_train_data = pd.concat(frames)"
      ],
      "execution_count": 37,
      "outputs": []
    },
    {
      "cell_type": "code",
      "metadata": {
        "id": "BZ-EUbCMUPqo",
        "colab_type": "code",
        "colab": {}
      },
      "source": [
        "# tilt_train_data.head(10)"
      ],
      "execution_count": 38,
      "outputs": []
    },
    {
      "cell_type": "code",
      "metadata": {
        "id": "Unf0xD-yUPqq",
        "colab_type": "code",
        "colab": {}
      },
      "source": [
        "# tilt_train_data['tilt'].value_counts()"
      ],
      "execution_count": 39,
      "outputs": []
    },
    {
      "cell_type": "code",
      "metadata": {
        "id": "M4sAjguxUPqs",
        "colab_type": "code",
        "colab": {}
      },
      "source": [
        "# import shutil\n",
        "\n",
        "# shutil.rmtree('Aug_faceNeg90')"
      ],
      "execution_count": 40,
      "outputs": []
    },
    {
      "cell_type": "code",
      "metadata": {
        "id": "bllLsCcaUPqu",
        "colab_type": "code",
        "colab": {}
      },
      "source": [
        ""
      ],
      "execution_count": 40,
      "outputs": []
    },
    {
      "cell_type": "markdown",
      "metadata": {
        "id": "XiaJryqVUPq0",
        "colab_type": "text"
      },
      "source": [
        "## Training, Validation and Testing Dataset\n",
        "\n",
        "The following code is using sklearn library to perform hold-out cross validation and split the dataset into 3 subsets"
      ]
    },
    {
      "cell_type": "code",
      "metadata": {
        "id": "atzHCVdeUPq0",
        "colab_type": "code",
        "colab": {}
      },
      "source": [
        "from sklearn.model_selection import train_test_split\n",
        "\n",
        "train_data_sample, testing_data = train_test_split(tilt_train_data,test_size = 0.2, random_state=10)\n",
        "training_data, validation_data = train_test_split(train_data_sample,test_size = 0.2, random_state=10)"
      ],
      "execution_count": 41,
      "outputs": []
    },
    {
      "cell_type": "code",
      "metadata": {
        "id": "9MxTUejxUPq3",
        "colab_type": "code",
        "colab": {
          "base_uri": "https://localhost:8080/",
          "height": 34
        },
        "outputId": "cc52697b-df6c-4f22-a8a4-8ac15fd8c8df"
      },
      "source": [
        "training_data.shape"
      ],
      "execution_count": 42,
      "outputs": [
        {
          "output_type": "execute_result",
          "data": {
            "text/plain": [
              "(1488, 2)"
            ]
          },
          "metadata": {
            "tags": []
          },
          "execution_count": 42
        }
      ]
    },
    {
      "cell_type": "code",
      "metadata": {
        "id": "6gGjzOECUPq5",
        "colab_type": "code",
        "colab": {}
      },
      "source": [
        "labels = training_data.loc[:,'pan']"
      ],
      "execution_count": 43,
      "outputs": []
    },
    {
      "cell_type": "code",
      "metadata": {
        "id": "s9M4dq1MUPq6",
        "colab_type": "code",
        "colab": {
          "base_uri": "https://localhost:8080/",
          "height": 34
        },
        "outputId": "78ed0bde-df79-43a1-cd51-edd62746259a"
      },
      "source": [
        "validation_data.shape"
      ],
      "execution_count": 44,
      "outputs": [
        {
          "output_type": "execute_result",
          "data": {
            "text/plain": [
              "(372, 2)"
            ]
          },
          "metadata": {
            "tags": []
          },
          "execution_count": 44
        }
      ]
    },
    {
      "cell_type": "code",
      "metadata": {
        "id": "aNCTPEIVUPq-",
        "colab_type": "code",
        "colab": {
          "base_uri": "https://localhost:8080/",
          "height": 34
        },
        "outputId": "4641e011-7c42-43fa-d7f3-5a165adae1df"
      },
      "source": [
        "testing_data.shape"
      ],
      "execution_count": 45,
      "outputs": [
        {
          "output_type": "execute_result",
          "data": {
            "text/plain": [
              "(465, 2)"
            ]
          },
          "metadata": {
            "tags": []
          },
          "execution_count": 45
        }
      ]
    },
    {
      "cell_type": "code",
      "metadata": {
        "id": "NP-UeANdUPrA",
        "colab_type": "code",
        "colab": {
          "base_uri": "https://localhost:8080/",
          "height": 289
        },
        "outputId": "e2f2a0f6-8078-4851-e675-ec8ca49fa0ce"
      },
      "source": [
        "training_data.pan.value_counts().plot(kind='bar')"
      ],
      "execution_count": 46,
      "outputs": [
        {
          "output_type": "execute_result",
          "data": {
            "text/plain": [
              "<matplotlib.axes._subplots.AxesSubplot at 0x7fb0841e8c50>"
            ]
          },
          "metadata": {
            "tags": []
          },
          "execution_count": 46
        },
        {
          "output_type": "display_data",
          "data": {
            "image/png": "[encoded data removed]",
            "text/plain": [
              "<Figure size 432x288 with 1 Axes>"
            ]
          },
          "metadata": {
            "tags": [],
            "needs_background": "light"
          }
        }
      ]
    },
    {
      "cell_type": "code",
      "metadata": {
        "id": "o02fiG0YUPrC",
        "colab_type": "code",
        "colab": {
          "base_uri": "https://localhost:8080/",
          "height": 289
        },
        "outputId": "e9666570-ce8d-4eac-8a83-be51ad15a13e"
      },
      "source": [
        "validation_data.pan.value_counts().plot(kind='bar')"
      ],
      "execution_count": 47,
      "outputs": [
        {
          "output_type": "execute_result",
          "data": {
            "text/plain": [
              "<matplotlib.axes._subplots.AxesSubplot at 0x7fb084196e10>"
            ]
          },
          "metadata": {
            "tags": []
          },
          "execution_count": 47
        },
        {
          "output_type": "display_data",
          "data": {
            "image/png": "[encoded data removed]",
            "text/plain": [
              "<Figure size 432x288 with 1 Axes>"
            ]
          },
          "metadata": {
            "tags": [],
            "needs_background": "light"
          }
        }
      ]
    },
    {
      "cell_type": "code",
      "metadata": {
        "id": "6UyhhWsrUPrE",
        "colab_type": "code",
        "colab": {
          "base_uri": "https://localhost:8080/",
          "height": 289
        },
        "outputId": "31664df8-831c-45fe-ef32-876c6e92f230"
      },
      "source": [
        "testing_data.pan.value_counts().plot(kind='bar')"
      ],
      "execution_count": 48,
      "outputs": [
        {
          "output_type": "execute_result",
          "data": {
            "text/plain": [
              "<matplotlib.axes._subplots.AxesSubplot at 0x7fb0840ee828>"
            ]
          },
          "metadata": {
            "tags": []
          },
          "execution_count": 48
        },
        {
          "output_type": "display_data",
          "data": {
            "image/png": "[encoded data removed]",
            "text/plain": [
              "<Figure size 432x288 with 1 Axes>"
            ]
          },
          "metadata": {
            "tags": [],
            "needs_background": "light"
          }
        }
      ]
    },
    {
      "cell_type": "markdown",
      "metadata": {
        "id": "2ZF6_tQoUPrG",
        "colab_type": "text"
      },
      "source": [
        "## Functions For Model Evaluation & Plotting Results\n",
        "\n",
        "The following sections define three functions.\n",
        "\n",
        "1. The First function calculates and returns the average accuracy and the loss for a given image stream.\n",
        "2. The Second function is used to calculate the accuracy and losses of a trained model\n",
        "3. The Third function is used to plot the results gained after modelling."
      ]
    },
    {
      "cell_type": "code",
      "metadata": {
        "id": "NGmF5TIpUPrG",
        "colab_type": "code",
        "colab": {}
      },
      "source": [
        "def calculate_losses(model_, data_generator_, N_images, batch_size_):\n",
        "    loss_hold = []\n",
        "    acc_hold = []\n",
        "    batches = 0\n",
        "    for x,y in data_generator_:\n",
        "        loss,acc = model_.evaluate(x, y, verbose=0)\n",
        "        loss_hold.append(loss)\n",
        "        acc_hold.append(acc)\n",
        "        batches += 1\n",
        "        if batches >= N_images / batch_size_:\n",
        "            # we need to break the loop by hand because\n",
        "            # the generator loops indefinitely\n",
        "            break\n",
        "    return np.mean(loss_hold), np.mean(acc_hold)"
      ],
      "execution_count": 49,
      "outputs": []
    },
    {
      "cell_type": "code",
      "metadata": {
        "id": "F8Rr182hUPrK",
        "colab_type": "code",
        "colab": {}
      },
      "source": [
        "def train_model(model_, num_epoch=100, verbose=1):\n",
        "    res = []\n",
        "    for e in range(num_epoch):\n",
        "        batches = 0\n",
        "\n",
        "        loss_ = []\n",
        "        acc_ = []\n",
        "\n",
        "         # iterate over each batch\n",
        "        for x,y in train_generator:\n",
        "            loss, acc = model_.train_on_batch(x, y) # Update weights and return train loss, acc per batch\n",
        "            loss_.append(loss)\n",
        "            acc_.append(acc)\n",
        "            batches += 1\n",
        "            if batches >= N_train_images / batch_size:\n",
        "                # we need to break the loop by hand because\n",
        "                # the generator loops indefinitely\n",
        "                break\n",
        "        loss_ = np.mean(loss_)\n",
        "        acc_ = np.mean(acc_)\n",
        "\n",
        "        loss, acc = calculate_losses(model_, validation_generator, N_val_images, batch_size)\n",
        "        if verbose:\n",
        "            print(\"Training epoch {}: Loss = {}, Accuracy = {}\".format(e, loss_, acc_))\n",
        "            print(\"Validation epoch {}: Loss = {}, Accuracy = {}\".format(e, loss, acc))\n",
        "\n",
        "        res.append((e, loss_, acc_, loss, acc))\n",
        "    return np.asarray(res)"
      ],
      "execution_count": 50,
      "outputs": []
    },
    {
      "cell_type": "code",
      "metadata": {
        "id": "-b3ka8jcUPrO",
        "colab_type": "code",
        "colab": {}
      },
      "source": [
        "def plot_results(res):\n",
        "    \n",
        "    plt.figure(figsize=(12,4))\n",
        "    plt.subplot(1,2,1)\n",
        "    plt.plot(res[:,0], res[:,1], 'r-')\n",
        "    plt.plot(res[:,0], res[:,3], 'b-')\n",
        "    plt.legend(['Train', 'Validation'])\n",
        "    plt.xlabel('epoch')\n",
        "    plt.ylabel('Loss')\n",
        "    plt.ylim([0, np.max([5., np.max(res[:,1]), np.max(res[:,3])])])\n",
        "\n",
        "    plt.subplot(1,2,2)\n",
        "    plt.plot(res[:,0], res[:,2], 'r-')\n",
        "    plt.plot(res[:,0], res[:,4], 'b-')\n",
        "    plt.legend(['Train', 'Validation'])\n",
        "    plt.xlabel('epoch')\n",
        "    plt.ylabel('Accuracy')\n",
        "    plt.ylim([0, np.max([1., np.max(res[:,2]), np.max(res[:,4])])])"
      ],
      "execution_count": 51,
      "outputs": []
    },
    {
      "cell_type": "markdown",
      "metadata": {
        "id": "fh7WtUFLUPrR",
        "colab_type": "text"
      },
      "source": [
        "## Model Training & Evaluation\n",
        "\n",
        "The next block of code:\n",
        "\n",
        "1. Define the ImageDataGenerator to stream the data into model from dataframes in a specified batch size.\n",
        "2. Rescale the images to normalize them\n",
        "3. Define the batch size"
      ]
    },
    {
      "cell_type": "code",
      "metadata": {
        "id": "nTwpETacUPrS",
        "colab_type": "code",
        "colab": {
          "base_uri": "https://localhost:8080/",
          "height": 68
        },
        "outputId": "aeb7578d-3d72-4171-b35b-5e9c80593cf3"
      },
      "source": [
        "from tensorflow.keras.preprocessing.image import ImageDataGenerator\n",
        "from tensorflow.keras.preprocessing.image import ImageDataGenerator, img_to_array, load_img\n",
        "\n",
        "\n",
        "train_datagen = ImageDataGenerator(rescale=1./255, data_format='channels_last', width_shift_range=0.15,\n",
        "                                height_shift_range=0.15, zoom_range=0.15,fill_mode=\"nearest\",\n",
        "                                  featurewise_center = True)\n",
        "\n",
        "\n",
        "val_datagen = ImageDataGenerator(rescale=1./255, data_format='channels_last')\n",
        "test_datagen = ImageDataGenerator(rescale=1./255, data_format='channels_last')\n",
        "\n",
        "\n",
        "batch_size = 32\n",
        "\n",
        "train_generator = train_datagen.flow_from_dataframe(\n",
        "    dataframe=training_data,\n",
        "    directory='./',\n",
        "    x_col=\"filepath\",\n",
        "    y_col=\"pan\",\n",
        "    target_size=(32,32),\n",
        "    batch_size=batch_size,\n",
        "    class_mode='categorical')\n",
        "\n",
        "validation_generator = val_datagen.flow_from_dataframe(\n",
        "    dataframe=validation_data,\n",
        "    directory='./',\n",
        "    x_col=\"filepath\",\n",
        "    y_col=\"pan\",\n",
        "    target_size=(32,32),\n",
        "    batch_size=batch_size,\n",
        "    class_mode='categorical')\n",
        "\n",
        "test_generator = test_datagen.flow_from_dataframe(\n",
        "    dataframe=testing_data,\n",
        "    directory='./',\n",
        "    x_col=\"filepath\",\n",
        "    y_col=\"pan\",\n",
        "    target_size=(32,32),\n",
        "    batch_size=batch_size,\n",
        "    shuffle = False,\n",
        "    class_mode='categorical')"
      ],
      "execution_count": 52,
      "outputs": [
        {
          "output_type": "stream",
          "text": [
            "Found 1488 validated image filenames belonging to 13 classes.\n",
            "Found 372 validated image filenames belonging to 13 classes.\n",
            "Found 465 validated image filenames belonging to 13 classes.\n"
          ],
          "name": "stdout"
        }
      ]
    },
    {
      "cell_type": "code",
      "metadata": {
        "id": "97hJ8GyEUPrT",
        "colab_type": "code",
        "colab": {}
      },
      "source": [
        "# Defining variables with train and validation sample size for later use\n",
        "N_train_images = 1488\n",
        "N_val_images = 372"
      ],
      "execution_count": 53,
      "outputs": []
    },
    {
      "cell_type": "markdown",
      "metadata": {
        "id": "t4OrlQO8UPrW",
        "colab_type": "text"
      },
      "source": [
        "<h2> Convolution Neural Network </h2>\n",
        "\n",
        "Model 1: Simple LeNet-5"
      ]
    },
    {
      "cell_type": "code",
      "metadata": {
        "id": "e-DjOWaDUPrW",
        "colab_type": "code",
        "colab": {
          "base_uri": "https://localhost:8080/",
          "height": 1000
        },
        "outputId": "3e61c354-bb63-4ca3-ba24-4072e5529f58"
      },
      "source": [
        "from tensorflow.keras.models import Sequential\n",
        "from tensorflow.keras.layers import Conv2D, MaxPooling2D, Lambda, Input, BatchNormalization,LeakyReLU\n",
        "from tensorflow.keras.layers import Activation, Dropout, Flatten, Dense\n",
        "from tensorflow.keras.metrics import categorical_accuracy\n",
        "from tensorflow.keras import regularizers, optimizers\n",
        "\n",
        "model1 = Sequential()\n",
        "\n",
        "# input\n",
        "model1.add(Input(shape=(32, 32, 3)))\n",
        "\n",
        "model1.add(Lambda(lambda x: tf.expand_dims(x[:,:,:,0], -1, name=None))) \n",
        "\n",
        "\n",
        "model1.add(Conv2D(64, (3, 3)))\n",
        "model1.add(Activation('relu'))\n",
        "\n",
        "model1.add(MaxPooling2D(pool_size=(2, 2)))\n",
        "\n",
        "model1.add(Conv2D(128, (3, 3)))\n",
        "model1.add(Activation('relu'))\n",
        "\n",
        "model1.add(MaxPooling2D(pool_size=(2, 2)))\n",
        "\n",
        "# MLP\n",
        "model1.add(Flatten())\n",
        "model1.add(Dense(128))\n",
        "model1.add(Activation('relu'))\n",
        "model1.add(Dense(128))\n",
        "model1.add(Activation('relu'))\n",
        "model1.add(Dense(13))\n",
        "model1.add(Activation('softmax'))\n",
        "\n",
        "model1.compile(loss='categorical_crossentropy',optimizer='adam',metrics=[categorical_accuracy])\n",
        "model1.summary()\n",
        "\n",
        "res = train_model(model1, num_epoch= 50, verbose=1)\n",
        "\n",
        "plot_results(res)"
      ],
      "execution_count": 54,
      "outputs": [
        {
          "output_type": "stream",
          "text": [
            "Model: \"sequential\"\n",
            "_________________________________________________________________\n",
            "Layer (type)                 Output Shape              Param #   \n",
            "=================================================================\n",
            "lambda (Lambda)              (None, 32, 32, 1)         0         \n",
            "_________________________________________________________________\n",
            "conv2d (Conv2D)              (None, 30, 30, 64)        640       \n",
            "_________________________________________________________________\n",
            "activation (Activation)      (None, 30, 30, 64)        0         \n",
            "_________________________________________________________________\n",
            "max_pooling2d (MaxPooling2D) (None, 15, 15, 64)        0         \n",
            "_________________________________________________________________\n",
            "conv2d_1 (Conv2D)            (None, 13, 13, 128)       73856     \n",
            "_________________________________________________________________\n",
            "activation_1 (Activation)    (None, 13, 13, 128)       0         \n",
            "_________________________________________________________________\n",
            "max_pooling2d_1 (MaxPooling2 (None, 6, 6, 128)         0         \n",
            "_________________________________________________________________\n",
            "flatten (Flatten)            (None, 4608)              0         \n",
            "_________________________________________________________________\n",
            "dense (Dense)                (None, 128)               589952    \n",
            "_________________________________________________________________\n",
            "activation_2 (Activation)    (None, 128)               0         \n",
            "_________________________________________________________________\n",
            "dense_1 (Dense)              (None, 128)               16512     \n",
            "_________________________________________________________________\n",
            "activation_3 (Activation)    (None, 128)               0         \n",
            "_________________________________________________________________\n",
            "dense_2 (Dense)              (None, 13)                1677      \n",
            "_________________________________________________________________\n",
            "activation_4 (Activation)    (None, 13)                0         \n",
            "=================================================================\n",
            "Total params: 682,637\n",
            "Trainable params: 682,637\n",
            "Non-trainable params: 0\n",
            "_________________________________________________________________\n",
            "Training epoch 0: Loss = 2.570949843589296, Accuracy = 0.08577127659574468\n",
            "Validation epoch 0: Loss = 2.563075323899587, Accuracy = 0.09010416672875483\n",
            "Training epoch 1: Loss = 2.55429559565605, Accuracy = 0.11783960723179451\n",
            "Validation epoch 1: Loss = 2.5206796129544577, Accuracy = 0.13593750012417635\n",
            "Training epoch 2: Loss = 2.3579221126881054, Accuracy = 0.16867839608420718\n",
            "Validation epoch 2: Loss = 1.9891529281934102, Accuracy = 0.23333333432674408\n",
            "Training epoch 3: Loss = 2.0065779863519873, Accuracy = 0.2166018822091691\n",
            "Validation epoch 3: Loss = 1.771002173423767, Accuracy = 0.26093749950329465\n",
            "Training epoch 4: Loss = 1.8061336786188977, Accuracy = 0.25680237310997983\n",
            "Validation epoch 4: Loss = 1.6023649672667186, Accuracy = 0.3072916666666667\n",
            "Training epoch 5: Loss = 1.7252507970688191, Accuracy = 0.2859042553191489\n",
            "Validation epoch 5: Loss = 1.5899645785490673, Accuracy = 0.30156250049670535\n",
            "Training epoch 6: Loss = 1.6474498028450824, Accuracy = 0.3079991816206181\n",
            "Validation epoch 6: Loss = 1.578794777393341, Accuracy = 0.27031250049670535\n",
            "Training epoch 7: Loss = 1.6266341361593692, Accuracy = 0.31111906690800445\n",
            "Validation epoch 7: Loss = 1.4461856087048848, Accuracy = 0.3630208323399226\n",
            "Training epoch 8: Loss = 1.5844566086505323, Accuracy = 0.30257774160263384\n",
            "Validation epoch 8: Loss = 1.4687360227108002, Accuracy = 0.33124999950329465\n",
            "Training epoch 9: Loss = 1.5464921225892736, Accuracy = 0.3298383799005062\n",
            "Validation epoch 9: Loss = 1.4246604641278584, Accuracy = 0.35104166716337204\n",
            "Training epoch 10: Loss = 1.4849003756299932, Accuracy = 0.3411415713898679\n",
            "Validation epoch 10: Loss = 1.3595172464847565, Accuracy = 0.41562500099341076\n",
            "Training epoch 11: Loss = 1.4987757662509351, Accuracy = 0.3425736497057245\n",
            "Validation epoch 11: Loss = 1.4933769404888153, Accuracy = 0.34322916716337204\n",
            "Training epoch 12: Loss = 1.4708893933194749, Accuracy = 0.341243862471682\n",
            "Validation epoch 12: Loss = 1.3375103374322255, Accuracy = 0.3927083338300387\n",
            "Training epoch 13: Loss = 1.4240616027345048, Accuracy = 0.37269844526940205\n",
            "Validation epoch 13: Loss = 1.3879142602284749, Accuracy = 0.3880208333333333\n",
            "Training epoch 14: Loss = 1.4448574451690024, Accuracy = 0.36840220968774023\n",
            "Validation epoch 14: Loss = 1.2987442711989086, Accuracy = 0.42031249900658924\n",
            "Training epoch 15: Loss = 1.3637773255084424, Accuracy = 0.39729950909918926\n",
            "Validation epoch 15: Loss = 1.3018139898777008, Accuracy = 0.3947916676600774\n",
            "Training epoch 16: Loss = 1.3695564168564818, Accuracy = 0.40727291335450844\n",
            "Validation epoch 16: Loss = 1.3366332749525707, Accuracy = 0.3890625002483527\n",
            "Training epoch 17: Loss = 1.3864255484114303, Accuracy = 0.37367021276595747\n",
            "Validation epoch 17: Loss = 1.2538298467795055, Accuracy = 0.4416666676600774\n",
            "Training epoch 18: Loss = 1.3668999418299248, Accuracy = 0.38609860869164164\n",
            "Validation epoch 18: Loss = 1.2364500065644581, Accuracy = 0.44479166716337204\n",
            "Training epoch 19: Loss = 1.3534394654821842, Accuracy = 0.41259206229067863\n",
            "Validation epoch 19: Loss = 1.315741668144862, Accuracy = 0.4244791666666667\n",
            "Training epoch 20: Loss = 1.3333320059674851, Accuracy = 0.40144230774108397\n",
            "Validation epoch 20: Loss = 1.1847220361232758, Accuracy = 0.47812500099341076\n",
            "Training epoch 21: Loss = 1.316911441214541, Accuracy = 0.38932078569493395\n",
            "Validation epoch 21: Loss = 1.2780773043632507, Accuracy = 0.3927083338300387\n",
            "Training epoch 22: Loss = 1.3172815327948713, Accuracy = 0.4040507363512161\n",
            "Validation epoch 22: Loss = 1.2103805641333263, Accuracy = 0.42812499900658924\n",
            "Training epoch 23: Loss = 1.310869206773474, Accuracy = 0.40711947641474133\n",
            "Validation epoch 23: Loss = 1.208847979704539, Accuracy = 0.4598958343267441\n",
            "Training epoch 24: Loss = 1.2628622359417854, Accuracy = 0.4228723404255319\n",
            "Validation epoch 24: Loss = 1.180812160174052, Accuracy = 0.4489583323399226\n",
            "Training epoch 25: Loss = 1.270849735178846, Accuracy = 0.435045008329635\n",
            "Validation epoch 25: Loss = 1.1679726739724476, Accuracy = 0.4713541666666667\n",
            "Training epoch 26: Loss = 1.2386357479907097, Accuracy = 0.46036211100030455\n",
            "Validation epoch 26: Loss = 1.1802747050921123, Accuracy = 0.46927083283662796\n",
            "Training epoch 27: Loss = 1.2220855646945061, Accuracy = 0.47560351896793285\n",
            "Validation epoch 27: Loss = 1.234771117568016, Accuracy = 0.46041666716337204\n",
            "Training epoch 28: Loss = 1.2636588532873925, Accuracy = 0.4478825698507593\n",
            "Validation epoch 28: Loss = 1.1274954279263814, Accuracy = 0.5177083313465118\n",
            "Training epoch 29: Loss = 1.2368161386631904, Accuracy = 0.4570887887731512\n",
            "Validation epoch 29: Loss = 1.1023377825816472, Accuracy = 0.5015625009934107\n",
            "Training epoch 30: Loss = 1.2370976716914075, Accuracy = 0.4451207036667682\n",
            "Validation epoch 30: Loss = 1.1793722212314606, Accuracy = 0.48645833134651184\n",
            "Training epoch 31: Loss = 1.2289238762348256, Accuracy = 0.4410801961066875\n",
            "Validation epoch 31: Loss = 1.1350932866334915, Accuracy = 0.5020833313465118\n",
            "Training epoch 32: Loss = 1.2028576097589858, Accuracy = 0.459083469624215\n",
            "Validation epoch 32: Loss = 1.1127403378486633, Accuracy = 0.5052083333333334\n",
            "Training epoch 33: Loss = 1.2075515757215785, Accuracy = 0.4744783145316104\n",
            "Validation epoch 33: Loss = 1.143992950518926, Accuracy = 0.4958333323399226\n",
            "Training epoch 34: Loss = 1.173745871858394, Accuracy = 0.4744783145316104\n",
            "Validation epoch 34: Loss = 1.096175308028857, Accuracy = 0.49947916467984516\n",
            "Training epoch 35: Loss = 1.1601606556709776, Accuracy = 0.47550122788611876\n",
            "Validation epoch 35: Loss = 1.2253560523192089, Accuracy = 0.4427083333333333\n",
            "Training epoch 36: Loss = 1.1964991955046957, Accuracy = 0.4742737317338903\n",
            "Validation epoch 36: Loss = 1.0961879342794418, Accuracy = 0.4807291676600774\n",
            "Training epoch 37: Loss = 1.1721017018277595, Accuracy = 0.4556055652334335\n",
            "Validation epoch 37: Loss = 1.0696458369493484, Accuracy = 0.4921875\n",
            "Training epoch 38: Loss = 1.1496461477685482, Accuracy = 0.4881853524674761\n",
            "Validation epoch 38: Loss = 1.0836733380953472, Accuracy = 0.5182291666666666\n",
            "Training epoch 39: Loss = 1.1982181363917412, Accuracy = 0.48971972186514673\n",
            "Validation epoch 39: Loss = 1.2475458284219105, Accuracy = 0.4453125\n",
            "Training epoch 40: Loss = 1.1499297136956073, Accuracy = 0.49186783965597763\n",
            "Validation epoch 40: Loss = 1.115424171090126, Accuracy = 0.49947916467984516\n",
            "Training epoch 41: Loss = 1.106391413414732, Accuracy = 0.49565261856038517\n",
            "Validation epoch 41: Loss = 1.1230770150820415, Accuracy = 0.4666666661699613\n",
            "Training epoch 42: Loss = 1.1401421262862834, Accuracy = 0.5075695578088152\n",
            "Validation epoch 42: Loss = 1.093140517671903, Accuracy = 0.5177083338300387\n",
            "Training epoch 43: Loss = 1.1487476356486057, Accuracy = 0.49519230774108397\n",
            "Validation epoch 43: Loss = 1.0601490040620167, Accuracy = 0.5427083323399226\n",
            "Training epoch 44: Loss = 1.1054474419735847, Accuracy = 0.5231178396559776\n",
            "Validation epoch 44: Loss = 1.1337422082821529, Accuracy = 0.47708333283662796\n",
            "Training epoch 45: Loss = 1.125095562731966, Accuracy = 0.48613952512436726\n",
            "Validation epoch 45: Loss = 1.087837929526965, Accuracy = 0.48125000049670535\n",
            "Training epoch 46: Loss = 1.1151765432763607, Accuracy = 0.5186170212765957\n",
            "Validation epoch 46: Loss = 1.3193764338890712, Accuracy = 0.4552083338300387\n",
            "Training epoch 47: Loss = 1.1282402758902692, Accuracy = 0.5147299506562821\n",
            "Validation epoch 47: Loss = 1.052393063902855, Accuracy = 0.5250000009934107\n",
            "Training epoch 48: Loss = 1.0670259734417529, Accuracy = 0.5318126019011152\n",
            "Validation epoch 48: Loss = 1.0463498930136363, Accuracy = 0.5515625004967054\n",
            "Training epoch 49: Loss = 1.0606966399131936, Accuracy = 0.5212765957446809\n",
            "Validation epoch 49: Loss = 1.072835663954417, Accuracy = 0.5515624980131785\n"
          ],
          "name": "stdout"
        },
        {
          "output_type": "display_data",
          "data": {
            "image/png": "[encoded data removed]",
            "text/plain": [
              "<Figure size 864x288 with 2 Axes>"
            ]
          },
          "metadata": {
            "tags": [],
            "needs_background": "light"
          }
        }
      ]
    },
    {
      "cell_type": "markdown",
      "metadata": {
        "id": "MnVnSzbMUPrX",
        "colab_type": "text"
      },
      "source": [
        "Model 2: Increased Capacity with Regularization"
      ]
    },
    {
      "cell_type": "code",
      "metadata": {
        "id": "nrdKB7NuUPrZ",
        "colab_type": "code",
        "colab": {
          "base_uri": "https://localhost:8080/",
          "height": 1000
        },
        "outputId": "4f7b4672-d765-4f65-b509-dd5e213c83a0"
      },
      "source": [
        "from tensorflow.keras.models import Sequential\n",
        "from tensorflow.keras.layers import Conv2D, MaxPooling2D, Lambda, Input, BatchNormalization,LeakyReLU\n",
        "from tensorflow.keras.layers import Activation, Dropout, Flatten, Dense\n",
        "from tensorflow.keras.metrics import categorical_accuracy\n",
        "from tensorflow.keras import regularizers, optimizers\n",
        "\n",
        "model2 = Sequential()\n",
        "\n",
        "# input\n",
        "model2.add(Input(shape=(32, 32, 3)))\n",
        "\n",
        "model2.add(Lambda(lambda x: tf.expand_dims(x[:,:,:,0], -1, name=None))) \n",
        "\n",
        "\n",
        "model2.add(Conv2D(64, (3, 3)))\n",
        "model2.add(Activation('relu'))\n",
        "model2.add(Dropout(0.5))\n",
        "\n",
        "\n",
        "model2.add(Conv2D(64, (3, 3)))\n",
        "model2.add(Activation('relu'))\n",
        "model2.add(MaxPooling2D(pool_size=(2, 2)))\n",
        "\n",
        "\n",
        "model2.add(Conv2D(128, (3, 3)))\n",
        "model2.add(Activation('relu'))\n",
        "model2.add(Dropout(0.2))\n",
        "\n",
        "\n",
        "model2.add(Conv2D(128, (3, 3)))\n",
        "model2.add(Activation('relu'))\n",
        "model2.add(MaxPooling2D(pool_size=(2, 2)))\n",
        "\n",
        "\n",
        "# MLP\n",
        "model2.add(Flatten())\n",
        "model2.add(Dense(128))\n",
        "model2.add(Activation('relu'))\n",
        "model2.add(Dropout(0.5))\n",
        "model2.add(Dense(128))\n",
        "model2.add(Activation('relu'))\n",
        "model2.add(Dropout(0.5))\n",
        "model2.add(Dense(13))\n",
        "model2.add(Activation('softmax'))\n",
        "\n",
        "\n",
        "model2.compile(loss='categorical_crossentropy',optimizer='RMSProp',metrics=[categorical_accuracy])\n",
        "model2.summary()\n",
        "\n",
        "res = train_model(model2, num_epoch= 100, verbose=1)\n",
        "\n",
        "plot_results(res)"
      ],
      "execution_count": 67,
      "outputs": [
        {
          "output_type": "stream",
          "text": [
            "Model: \"sequential_6\"\n",
            "_________________________________________________________________\n",
            "Layer (type)                 Output Shape              Param #   \n",
            "=================================================================\n",
            "lambda_6 (Lambda)            (None, 32, 32, 1)         0         \n",
            "_________________________________________________________________\n",
            "conv2d_28 (Conv2D)           (None, 30, 30, 64)        640       \n",
            "_________________________________________________________________\n",
            "activation_40 (Activation)   (None, 30, 30, 64)        0         \n",
            "_________________________________________________________________\n",
            "dropout_18 (Dropout)         (None, 30, 30, 64)        0         \n",
            "_________________________________________________________________\n",
            "conv2d_29 (Conv2D)           (None, 28, 28, 64)        36928     \n",
            "_________________________________________________________________\n",
            "activation_41 (Activation)   (None, 28, 28, 64)        0         \n",
            "_________________________________________________________________\n",
            "max_pooling2d_15 (MaxPooling (None, 14, 14, 64)        0         \n",
            "_________________________________________________________________\n",
            "conv2d_30 (Conv2D)           (None, 12, 12, 128)       73856     \n",
            "_________________________________________________________________\n",
            "activation_42 (Activation)   (None, 12, 12, 128)       0         \n",
            "_________________________________________________________________\n",
            "dropout_19 (Dropout)         (None, 12, 12, 128)       0         \n",
            "_________________________________________________________________\n",
            "conv2d_31 (Conv2D)           (None, 10, 10, 128)       147584    \n",
            "_________________________________________________________________\n",
            "activation_43 (Activation)   (None, 10, 10, 128)       0         \n",
            "_________________________________________________________________\n",
            "max_pooling2d_16 (MaxPooling (None, 5, 5, 128)         0         \n",
            "_________________________________________________________________\n",
            "flatten_4 (Flatten)          (None, 3200)              0         \n",
            "_________________________________________________________________\n",
            "dense_12 (Dense)             (None, 128)               409728    \n",
            "_________________________________________________________________\n",
            "activation_44 (Activation)   (None, 128)               0         \n",
            "_________________________________________________________________\n",
            "dropout_20 (Dropout)         (None, 128)               0         \n",
            "_________________________________________________________________\n",
            "dense_13 (Dense)             (None, 128)               16512     \n",
            "_________________________________________________________________\n",
            "activation_45 (Activation)   (None, 128)               0         \n",
            "_________________________________________________________________\n",
            "dropout_21 (Dropout)         (None, 128)               0         \n",
            "_________________________________________________________________\n",
            "dense_14 (Dense)             (None, 13)                1677      \n",
            "_________________________________________________________________\n",
            "activation_46 (Activation)   (None, 13)                0         \n",
            "=================================================================\n",
            "Total params: 686,925\n",
            "Trainable params: 686,925\n",
            "Non-trainable params: 0\n",
            "_________________________________________________________________\n",
            "Training epoch 0: Loss = 2.595818448573985, Accuracy = 0.08178191489361702\n",
            "Validation epoch 0: Loss = 2.563640912373861, Accuracy = 0.09322916716337204\n",
            "Training epoch 1: Loss = 2.5657258946844874, Accuracy = 0.09221563012676036\n",
            "Validation epoch 1: Loss = 2.5649978518486023, Accuracy = 0.09635416666666667\n",
            "Training epoch 2: Loss = 2.5677046927999942, Accuracy = 0.08771481190590148\n",
            "Validation epoch 2: Loss = 2.5653103987375894, Accuracy = 0.09166666679084301\n",
            "Training epoch 3: Loss = 2.5639715854157794, Accuracy = 0.09845540101857896\n",
            "Validation epoch 3: Loss = 2.5651619036992392, Accuracy = 0.09010416672875483\n",
            "Training epoch 4: Loss = 2.5641644051734436, Accuracy = 0.09835310977824191\n",
            "Validation epoch 4: Loss = 2.5649763345718384, Accuracy = 0.09479166691501935\n",
            "Training epoch 5: Loss = 2.563552475990133, Accuracy = 0.09794394449984774\n",
            "Validation epoch 5: Loss = 2.5658090114593506, Accuracy = 0.09166666679084301\n",
            "Training epoch 6: Loss = 2.56506739271448, Accuracy = 0.09630728314848656\n",
            "Validation epoch 6: Loss = 2.5651274720827737, Accuracy = 0.09010416672875483\n",
            "Training epoch 7: Loss = 2.5623732678433684, Accuracy = 0.09630728314848656\n",
            "Validation epoch 7: Loss = 2.55585507551829, Accuracy = 0.09479166691501935\n",
            "Training epoch 8: Loss = 2.4896343616729086, Accuracy = 0.12055032747857114\n",
            "Validation epoch 8: Loss = 2.3413211504618325, Accuracy = 0.09218750024835269\n",
            "Training epoch 9: Loss = 2.397446667894404, Accuracy = 0.1382467267995185\n",
            "Validation epoch 9: Loss = 2.1750130454699197, Accuracy = 0.19010416666666666\n",
            "Training epoch 10: Loss = 2.235426344770066, Accuracy = 0.18576104748756328\n",
            "Validation epoch 10: Loss = 1.9753382603327434, Accuracy = 0.22031250099341074\n",
            "Training epoch 11: Loss = 2.125556512081877, Accuracy = 0.19645049090081074\n",
            "Validation epoch 11: Loss = 1.9945044616858165, Accuracy = 0.1895833338300387\n",
            "Training epoch 13: Loss = 2.0147763160949057, Accuracy = 0.20586129325501462\n",
            "Validation epoch 13: Loss = 1.830977886915207, Accuracy = 0.23125000049670538\n",
            "Training epoch 14: Loss = 1.9202201341060883, Accuracy = 0.23613952544141323\n",
            "Validation epoch 14: Loss = 1.6988512178262074, Accuracy = 0.3322916676600774\n",
            "Training epoch 15: Loss = 1.8849916813221383, Accuracy = 0.2607917348121075\n",
            "Validation epoch 15: Loss = 1.6532951295375824, Accuracy = 0.300520833581686\n",
            "Training epoch 16: Loss = 1.8281643466746553, Accuracy = 0.2634001637392856\n",
            "Validation epoch 16: Loss = 1.5678198834260304, Accuracy = 0.3010416676600774\n",
            "Training epoch 17: Loss = 1.750707230669387, Accuracy = 0.2817614566772542\n",
            "Validation epoch 17: Loss = 1.6179238359133403, Accuracy = 0.29635416716337204\n",
            "Training epoch 18: Loss = 1.7192256120925253, Accuracy = 0.2791018822091691\n",
            "Validation epoch 18: Loss = 1.5946379005908966, Accuracy = 0.32968750099341076\n",
            "Training epoch 19: Loss = 1.6860844809958275, Accuracy = 0.2920417348121075\n",
            "Validation epoch 19: Loss = 1.3897670606772106, Accuracy = 0.4005208338300387\n",
            "Training epoch 20: Loss = 1.6423721440294956, Accuracy = 0.29337152204615\n",
            "Validation epoch 20: Loss = 1.4330863157908122, Accuracy = 0.3515625\n",
            "Training epoch 21: Loss = 1.590218407042483, Accuracy = 0.3213993453599037\n",
            "Validation epoch 21: Loss = 1.301003098487854, Accuracy = 0.44687500099341076\n",
            "Training epoch 22: Loss = 1.592675155781685, Accuracy = 0.3297360881846002\n",
            "Validation epoch 22: Loss = 1.2659373978773754, Accuracy = 0.4833333343267441\n",
            "Training epoch 23: Loss = 1.5533275959339548, Accuracy = 0.33730564662750734\n",
            "Validation epoch 23: Loss = 1.3048067291577656, Accuracy = 0.4125000002483527\n",
            "Training epoch 24: Loss = 1.507521941306743, Accuracy = 0.35423486093257334\n",
            "Validation epoch 24: Loss = 1.2499050398667653, Accuracy = 0.4484375019868215\n",
            "Training epoch 25: Loss = 1.494202251129962, Accuracy = 0.33520867406053745\n",
            "Validation epoch 25: Loss = 1.3493472735087078, Accuracy = 0.3812500002483527\n",
            "Training epoch 26: Loss = 1.43879397371982, Accuracy = 0.3782221770032923\n",
            "Validation epoch 26: Loss = 1.1530060569445293, Accuracy = 0.4921875\n",
            "Training epoch 27: Loss = 1.463132454993877, Accuracy = 0.36978314214564384\n",
            "Validation epoch 27: Loss = 1.1733342508474986, Accuracy = 0.4989583343267441\n",
            "Training epoch 28: Loss = 1.4416826735151576, Accuracy = 0.37776186554989916\n",
            "Validation epoch 28: Loss = 1.1224226355552673, Accuracy = 0.484375\n",
            "Training epoch 29: Loss = 1.4035110194632348, Accuracy = 0.38185351896793285\n",
            "Validation epoch 29: Loss = 1.1405817617972691, Accuracy = 0.5401041656732559\n",
            "Training epoch 30: Loss = 1.3907323264061136, Accuracy = 0.37679009805334374\n",
            "Validation epoch 30: Loss = 1.1129855414231618, Accuracy = 0.5588541676600774\n",
            "Training epoch 31: Loss = 1.366749938498152, Accuracy = 0.38190466419179386\n",
            "Validation epoch 31: Loss = 1.125165765484174, Accuracy = 0.4765625\n",
            "Training epoch 32: Loss = 1.3281785173619047, Accuracy = 0.3962765957446808\n",
            "Validation epoch 32: Loss = 1.081579903761546, Accuracy = 0.5078125\n",
            "Training epoch 33: Loss = 1.33429206685817, Accuracy = 0.42727086772309975\n",
            "Validation epoch 33: Loss = 1.0805025100708008, Accuracy = 0.5203124980131785\n",
            "Training epoch 34: Loss = 1.3083117261846016, Accuracy = 0.40809124391129675\n",
            "Validation epoch 34: Loss = 1.0722827464342117, Accuracy = 0.5364583333333334\n",
            "Training epoch 35: Loss = 1.2878644111308646, Accuracy = 0.4345335516523808\n",
            "Validation epoch 35: Loss = 0.9983665347099304, Accuracy = 0.5817708323399226\n",
            "Training epoch 36: Loss = 1.3093679001990786, Accuracy = 0.43059533580820614\n",
            "Validation epoch 36: Loss = 0.9558718552192053, Accuracy = 0.6114583313465118\n",
            "Training epoch 37: Loss = 1.239146667592069, Accuracy = 0.45550327351752745\n",
            "Validation epoch 37: Loss = 0.9837196469306946, Accuracy = 0.5656250019868215\n",
            "Training epoch 38: Loss = 1.2565266794346748, Accuracy = 0.4304930440923001\n",
            "Validation epoch 38: Loss = 1.0265289843082428, Accuracy = 0.5406250009934107\n",
            "Training epoch 39: Loss = 1.2305140558709489, Accuracy = 0.4554521276595745\n",
            "Validation epoch 39: Loss = 1.157795747121175, Accuracy = 0.4463541656732559\n",
            "Training epoch 40: Loss = 1.2343930576709992, Accuracy = 0.4721767591669204\n",
            "Validation epoch 40: Loss = 0.9617507606744766, Accuracy = 0.6031250009934107\n",
            "Training epoch 41: Loss = 1.2019564877165125, Accuracy = 0.4724836336805465\n",
            "Validation epoch 41: Loss = 0.9205744117498398, Accuracy = 0.5963541666666666\n",
            "Training epoch 42: Loss = 1.2173040750178885, Accuracy = 0.46476063829787234\n",
            "Validation epoch 42: Loss = 1.0069179385900497, Accuracy = 0.5640625009934107\n",
            "Training epoch 43: Loss = 1.1700010502592046, Accuracy = 0.490333469624215\n",
            "Validation epoch 43: Loss = 0.8614845325549444, Accuracy = 0.6682291676600774\n",
            "Training epoch 44: Loss = 1.1517693273564602, Accuracy = 0.4898731588049138\n",
            "Validation epoch 44: Loss = 0.9302109479904175, Accuracy = 0.5859375\n",
            "Training epoch 45: Loss = 1.1452731401362317, Accuracy = 0.4958572013581053\n",
            "Validation epoch 45: Loss = 0.9860467662413915, Accuracy = 0.6213541676600774\n",
            "Training epoch 46: Loss = 1.1228662779990664, Accuracy = 0.49074263521965517\n",
            "Validation epoch 46: Loss = 1.0448693086703618, Accuracy = 0.4921875\n",
            "Training epoch 47: Loss = 1.1649773032107251, Accuracy = 0.4898731588049138\n",
            "Validation epoch 47: Loss = 0.8619558761517206, Accuracy = 0.6234374990065893\n",
            "Training epoch 48: Loss = 1.1118543477768594, Accuracy = 0.509461948212157\n",
            "Validation epoch 48: Loss = 1.1813164452711742, Accuracy = 0.4635416666666667\n",
            "Training epoch 49: Loss = 1.0892111177140094, Accuracy = 0.5319148936170213\n",
            "Validation epoch 49: Loss = 0.8846924801667532, Accuracy = 0.6125000019868215\n",
            "Training epoch 50: Loss = 1.1150979729408914, Accuracy = 0.5010740592124614\n",
            "Validation epoch 50: Loss = 0.9080777963002523, Accuracy = 0.6265625009934107\n",
            "Training epoch 51: Loss = 1.0682061618946967, Accuracy = 0.509564238659879\n",
            "Validation epoch 51: Loss = 0.8518193264802297, Accuracy = 0.6296875004967054\n",
            "Training epoch 52: Loss = 1.0885000660064372, Accuracy = 0.5181055652334335\n",
            "Validation epoch 52: Loss = 0.8146402488152186, Accuracy = 0.6624999990065893\n",
            "Training epoch 53: Loss = 1.08568019816216, Accuracy = 0.5321194757806494\n",
            "Validation epoch 53: Loss = 0.9050705134868622, Accuracy = 0.6171875\n",
            "Training epoch 54: Loss = 1.0588114553309502, Accuracy = 0.5441898526029384\n",
            "Validation epoch 54: Loss = 0.8126461853583654, Accuracy = 0.6692708333333334\n",
            "Training epoch 55: Loss = 1.053702788150057, Accuracy = 0.5402004909008107\n",
            "Validation epoch 55: Loss = 0.8937236666679382, Accuracy = 0.6557291646798452\n",
            "Training epoch 56: Loss = 1.0088510538669342, Accuracy = 0.5632160394749743\n",
            "Validation epoch 56: Loss = 0.8848922004302343, Accuracy = 0.6192708313465118\n",
            "Training epoch 57: Loss = 1.0463390198159725, Accuracy = 0.5427577736529898\n",
            "Validation epoch 57: Loss = 0.7645424753427505, Accuracy = 0.6937499990065893\n",
            "Training epoch 58: Loss = 1.0115765802403713, Accuracy = 0.5653641566317132\n",
            "Validation epoch 58: Loss = 0.777953694264094, Accuracy = 0.6546874990065893\n",
            "Training epoch 59: Loss = 1.0492356990246063, Accuracy = 0.533449263014692\n",
            "Validation epoch 59: Loss = 0.8785969267288843, Accuracy = 0.6046875019868215\n",
            "Training epoch 60: Loss = 1.0067819889555587, Accuracy = 0.5554930440923\n",
            "Validation epoch 60: Loss = 0.8450151930252711, Accuracy = 0.6624999990065893\n",
            "Training epoch 61: Loss = 0.9815642884437074, Accuracy = 0.5764116200994938\n",
            "Validation epoch 61: Loss = 0.7480980356534322, Accuracy = 0.6890625009934107\n",
            "Training epoch 62: Loss = 0.9979779238396502, Accuracy = 0.5701207036667681\n",
            "Validation epoch 62: Loss = 0.7237409998973211, Accuracy = 0.6911458323399226\n",
            "Training epoch 63: Loss = 0.9742954842587734, Accuracy = 0.5776902614755833\n",
            "Validation epoch 63: Loss = 0.8173967053492864, Accuracy = 0.6328125\n",
            "Training epoch 64: Loss = 0.9606858111442403, Accuracy = 0.5671031094611959\n",
            "Validation epoch 64: Loss = 0.7239318192005157, Accuracy = 0.71875\n",
            "Training epoch 65: Loss = 0.9687094016278044, Accuracy = 0.5733428800359686\n",
            "Validation epoch 65: Loss = 0.8187365879615148, Accuracy = 0.6385416686534882\n",
            "Training epoch 66: Loss = 0.9366726558259193, Accuracy = 0.596204992304457\n",
            "Validation epoch 66: Loss = 0.6737780869007111, Accuracy = 0.7265625\n",
            "Training epoch 67: Loss = 0.9862961414012503, Accuracy = 0.5627045821636281\n",
            "Validation epoch 67: Loss = 0.8090055882930756, Accuracy = 0.6692708333333334\n",
            "Training epoch 68: Loss = 0.9380088943116208, Accuracy = 0.5979439438657558\n",
            "Validation epoch 68: Loss = 0.6870261083046595, Accuracy = 0.7239583333333334\n",
            "Training epoch 69: Loss = 0.9448785667723798, Accuracy = 0.5815773327299889\n",
            "Validation epoch 69: Loss = 0.9052144587039948, Accuracy = 0.6203125019868215\n",
            "Training epoch 70: Loss = 0.9053868423116967, Accuracy = 0.6054623570848019\n",
            "Validation epoch 70: Loss = 0.8281660228967667, Accuracy = 0.6385416686534882\n",
            "Training epoch 71: Loss = 0.9480515857960315, Accuracy = 0.5981996731555208\n",
            "Validation epoch 71: Loss = 0.8220013032356898, Accuracy = 0.6390624990065893\n",
            "Training epoch 72: Loss = 0.9300422934775657, Accuracy = 0.5838277416026338\n",
            "Validation epoch 72: Loss = 0.6978407477339109, Accuracy = 0.7260416646798452\n",
            "Training epoch 73: Loss = 0.8906514987032464, Accuracy = 0.6237213586239104\n",
            "Validation epoch 73: Loss = 0.7553117672602335, Accuracy = 0.6661458313465118\n",
            "Training epoch 74: Loss = 0.9058219194412231, Accuracy = 0.6132364970572451\n",
            "Validation epoch 74: Loss = 0.6806955387194952, Accuracy = 0.7322916686534882\n",
            "Training epoch 75: Loss = 0.9071416918267595, Accuracy = 0.6174304421911848\n",
            "Validation epoch 75: Loss = 0.8491087059179941, Accuracy = 0.6369791676600774\n",
            "Training epoch 76: Loss = 0.8916344668002839, Accuracy = 0.6161006549571423\n",
            "Validation epoch 76: Loss = 0.7934571256240209, Accuracy = 0.6848958333333334\n",
            "Training epoch 77: Loss = 0.8997591873432728, Accuracy = 0.6217266777728466\n",
            "Validation epoch 77: Loss = 0.6750788986682892, Accuracy = 0.7302083323399226\n",
            "Training epoch 78: Loss = 0.8614334147027198, Accuracy = 0.6329787234042553\n",
            "Validation epoch 78: Loss = 0.6512658720215162, Accuracy = 0.7427083353201548\n",
            "Training epoch 79: Loss = 0.890501893581228, Accuracy = 0.6272504088726449\n",
            "Validation epoch 79: Loss = 0.7853436022996902, Accuracy = 0.6812500009934107\n",
            "Training epoch 80: Loss = 0.8688264514537568, Accuracy = 0.6274038464465039\n",
            "Validation epoch 80: Loss = 0.6650959799687067, Accuracy = 0.7156249980131785\n",
            "Training epoch 81: Loss = 0.8756761969404018, Accuracy = 0.646583469624215\n",
            "Validation epoch 81: Loss = 0.6392391646901766, Accuracy = 0.7515625009934107\n",
            "Training epoch 82: Loss = 0.8589676301530067, Accuracy = 0.6358428800359686\n",
            "Validation epoch 82: Loss = 0.6715017805496851, Accuracy = 0.7171874990065893\n",
            "Training epoch 83: Loss = 0.8663546798077035, Accuracy = 0.642031506020972\n",
            "Validation epoch 83: Loss = 0.7713970765471458, Accuracy = 0.6869791646798452\n",
            "Training epoch 84: Loss = 0.9058566074422065, Accuracy = 0.6313420622906787\n",
            "Validation epoch 84: Loss = 0.7327748388051987, Accuracy = 0.7166666686534882\n",
            "Training epoch 85: Loss = 0.7987689090535995, Accuracy = 0.6593698859214783\n",
            "Validation epoch 85: Loss = 0.74608513712883, Accuracy = 0.6901041666666666\n",
            "Training epoch 86: Loss = 0.8264684296668844, Accuracy = 0.6723097385244167\n",
            "Validation epoch 86: Loss = 0.6686107565959295, Accuracy = 0.7255208343267441\n",
            "Training epoch 87: Loss = 0.8143846988677979, Accuracy = 0.639576513716515\n",
            "Validation epoch 87: Loss = 0.7112258474032084, Accuracy = 0.734375\n",
            "Training epoch 88: Loss = 0.8187057604181006, Accuracy = 0.6368146475325239\n",
            "Validation epoch 88: Loss = 0.6500425661603609, Accuracy = 0.7729166646798452\n",
            "Training epoch 89: Loss = 0.8763850597625084, Accuracy = 0.6390139118153998\n",
            "Validation epoch 89: Loss = 0.704017365972201, Accuracy = 0.7244791686534882\n",
            "Training epoch 90: Loss = 0.844286653589695, Accuracy = 0.637070376822289\n",
            "Validation epoch 90: Loss = 0.7286313027143478, Accuracy = 0.7223958323399226\n",
            "Training epoch 91: Loss = 0.8308717570406325, Accuracy = 0.6530789694887527\n",
            "Validation epoch 91: Loss = 0.8033882180849711, Accuracy = 0.6953125\n",
            "Training epoch 92: Loss = 0.8447855165664185, Accuracy = 0.6466346154821679\n",
            "Validation epoch 92: Loss = 0.7895254890124003, Accuracy = 0.7161458333333334\n",
            "Training epoch 93: Loss = 0.8059662605853791, Accuracy = 0.656198854142047\n",
            "Validation epoch 93: Loss = 0.7032766193151474, Accuracy = 0.7260416646798452\n",
            "Training epoch 94: Loss = 0.8232977231766315, Accuracy = 0.6502148115888555\n",
            "Validation epoch 94: Loss = 0.7564539015293121, Accuracy = 0.6895833313465118\n",
            "Training epoch 95: Loss = 0.7969284044935349, Accuracy = 0.6564545821636281\n",
            "Validation epoch 95: Loss = 0.6458052694797516, Accuracy = 0.7151041676600774\n",
            "Training epoch 96: Loss = 0.8066187082452977, Accuracy = 0.6512888708013169\n",
            "Validation epoch 96: Loss = 0.9446153243382772, Accuracy = 0.6312499990065893\n",
            "Training epoch 97: Loss = 0.8159499307896229, Accuracy = 0.6614157113623111\n",
            "Validation epoch 97: Loss = 0.6928358823060989, Accuracy = 0.7203125009934107\n",
            "Training epoch 98: Loss = 0.8004460347459671, Accuracy = 0.670468493979028\n",
            "Validation epoch 98: Loss = 0.6866790503263474, Accuracy = 0.7083333333333334\n",
            "Training epoch 99: Loss = 0.7984687007488088, Accuracy = 0.6837663663194534\n",
            "Validation epoch 99: Loss = 0.7137981305519739, Accuracy = 0.7104166646798452\n"
          ],
          "name": "stdout"
        },
        {
          "output_type": "display_data",
          "data": {
            "image/png": "[encoded data removed]",
            "text/plain": [
              "<Figure size 864x288 with 2 Axes>"
            ]
          },
          "metadata": {
            "tags": [],
            "needs_background": "light"
          }
        }
      ]
    },
    {
      "cell_type": "markdown",
      "metadata": {
        "id": "Peh9YuJyMv6G",
        "colab_type": "text"
      },
      "source": [
        "model4: Adding one more layer in Model2 to increase the depth"
      ]
    },
    {
      "cell_type": "code",
      "metadata": {
        "id": "GtzPyjprhJ-x",
        "colab_type": "code",
        "colab": {
          "base_uri": "https://localhost:8080/",
          "height": 1000
        },
        "outputId": "98eb270c-39dd-4add-a69a-6ddcbe4fc9de"
      },
      "source": [
        "\n",
        "\n",
        "from tensorflow.keras.models import Sequential\n",
        "from tensorflow.keras.layers import Conv2D, MaxPooling2D, Lambda, Input, BatchNormalization,LeakyReLU\n",
        "from tensorflow.keras.layers import Activation, Dropout, Flatten, Dense\n",
        "from tensorflow.keras.metrics import categorical_accuracy\n",
        "from tensorflow.keras import regularizers, optimizers\n",
        "\n",
        "model4 = Sequential()\n",
        "\n",
        "# input\n",
        "model4.add(Input(shape=(32, 32, 3)))\n",
        "\n",
        "model4.add(Lambda(lambda x: tf.expand_dims(x[:,:,:,0], -1, name=None))) \n",
        "\n",
        "\n",
        "# Conv Layer 1\n",
        "model4.add(Conv2D(64, (3, 3)))\n",
        "model4.add(Activation('relu'))\n",
        "model4.add(Dropout(0.5))\n",
        "\n",
        "\n",
        "# Conv Layer 2\n",
        "model4.add(Conv2D(64, (3, 3)))\n",
        "model4.add(Activation('relu'))\n",
        "model4.add(MaxPooling2D(pool_size=(2, 2)))\n",
        "\n",
        "\n",
        "# Conv Layer 3\n",
        "model4.add(Conv2D(64, (3, 3)))\n",
        "model4.add(Activation('relu'))\n",
        "model4.add(Dropout(0.5))\n",
        "\n",
        "\n",
        "# Conv Layer 4\n",
        "model4.add(Conv2D(128, (3, 3)))\n",
        "model4.add(Activation('relu'))\n",
        "model4.add(MaxPooling2D(pool_size=(2, 2)))\n",
        "\n",
        "\n",
        "# Conv Layer 5\n",
        "model4.add(Conv2D(128, (3, 3)))\n",
        "model4.add(Activation('relu'))\n",
        "model4.add(Dropout(0.3))\n",
        "\n",
        "\n",
        "\n",
        "# MLP\n",
        "model4.add(Flatten())\n",
        "model4.add(Dense(256))\n",
        "model4.add(Activation('relu'))\n",
        "model4.add(Dropout(0.3))\n",
        "model4.add(Dense(256))\n",
        "model4.add(Activation('relu'))\n",
        "model4.add(Dropout(0.5))\n",
        "model4.add(Dense(13))\n",
        "model4.add(Activation('softmax'))\n",
        "\n",
        "model4.compile(loss='categorical_crossentropy',optimizer='RMSProp',metrics=[categorical_accuracy])\n",
        "model4.summary()\n",
        "\n",
        "res = train_model(model4, num_epoch= 100, verbose=1)\n",
        "\n",
        "plot_results(res)"
      ],
      "execution_count": 69,
      "outputs": [
        {
          "output_type": "stream",
          "text": [
            "Model: \"sequential_7\"\n",
            "_________________________________________________________________\n",
            "Layer (type)                 Output Shape              Param #   \n",
            "=================================================================\n",
            "lambda_7 (Lambda)            (None, 32, 32, 1)         0         \n",
            "_________________________________________________________________\n",
            "conv2d_32 (Conv2D)           (None, 30, 30, 64)        640       \n",
            "_________________________________________________________________\n",
            "activation_47 (Activation)   (None, 30, 30, 64)        0         \n",
            "_________________________________________________________________\n",
            "dropout_22 (Dropout)         (None, 30, 30, 64)        0         \n",
            "_________________________________________________________________\n",
            "conv2d_33 (Conv2D)           (None, 28, 28, 64)        36928     \n",
            "_________________________________________________________________\n",
            "activation_48 (Activation)   (None, 28, 28, 64)        0         \n",
            "_________________________________________________________________\n",
            "max_pooling2d_17 (MaxPooling (None, 14, 14, 64)        0         \n",
            "_________________________________________________________________\n",
            "conv2d_34 (Conv2D)           (None, 12, 12, 64)        36928     \n",
            "_________________________________________________________________\n",
            "activation_49 (Activation)   (None, 12, 12, 64)        0         \n",
            "_________________________________________________________________\n",
            "dropout_23 (Dropout)         (None, 12, 12, 64)        0         \n",
            "_________________________________________________________________\n",
            "conv2d_35 (Conv2D)           (None, 10, 10, 128)       73856     \n",
            "_________________________________________________________________\n",
            "activation_50 (Activation)   (None, 10, 10, 128)       0         \n",
            "_________________________________________________________________\n",
            "max_pooling2d_18 (MaxPooling (None, 5, 5, 128)         0         \n",
            "_________________________________________________________________\n",
            "conv2d_36 (Conv2D)           (None, 3, 3, 128)         147584    \n",
            "_________________________________________________________________\n",
            "activation_51 (Activation)   (None, 3, 3, 128)         0         \n",
            "_________________________________________________________________\n",
            "dropout_24 (Dropout)         (None, 3, 3, 128)         0         \n",
            "_________________________________________________________________\n",
            "flatten_5 (Flatten)          (None, 1152)              0         \n",
            "_________________________________________________________________\n",
            "dense_15 (Dense)             (None, 256)               295168    \n",
            "_________________________________________________________________\n",
            "activation_52 (Activation)   (None, 256)               0         \n",
            "_________________________________________________________________\n",
            "dropout_25 (Dropout)         (None, 256)               0         \n",
            "_________________________________________________________________\n",
            "dense_16 (Dense)             (None, 256)               65792     \n",
            "_________________________________________________________________\n",
            "activation_53 (Activation)   (None, 256)               0         \n",
            "_________________________________________________________________\n",
            "dropout_26 (Dropout)         (None, 256)               0         \n",
            "_________________________________________________________________\n",
            "dense_17 (Dense)             (None, 13)                3341      \n",
            "_________________________________________________________________\n",
            "activation_54 (Activation)   (None, 13)                0         \n",
            "=================================================================\n",
            "Total params: 660,237\n",
            "Trainable params: 660,237\n",
            "Non-trainable params: 0\n",
            "_________________________________________________________________\n",
            "Training epoch 0: Loss = 2.570205237003083, Accuracy = 0.08909574468085106\n",
            "Validation epoch 0: Loss = 2.5653793811798096, Accuracy = 0.08854166666666667\n",
            "Training epoch 1: Loss = 2.5651458324270044, Accuracy = 0.0974836334031313\n",
            "Validation epoch 1: Loss = 2.565915584564209, Accuracy = 0.09166666679084301\n",
            "Training epoch 2: Loss = 2.564538879597441, Accuracy = 0.0985576923381775\n",
            "Validation epoch 2: Loss = 2.564943313598633, Accuracy = 0.09010416672875483\n",
            "Training epoch 3: Loss = 2.564152129152988, Accuracy = 0.09830196399955039\n",
            "Validation epoch 3: Loss = 2.5675519903500876, Accuracy = 0.08854166666666667\n",
            "Training epoch 4: Loss = 2.5649455151659377, Accuracy = 0.0948240589350462\n",
            "Validation epoch 4: Loss = 2.5659973422686257, Accuracy = 0.09010416672875483\n",
            "Training epoch 5: Loss = 2.5624584390762006, Accuracy = 0.10055237318924133\n",
            "Validation epoch 5: Loss = 2.531613012154897, Accuracy = 0.09583333383003871\n",
            "Training epoch 6: Loss = 2.4467625262889454, Accuracy = 0.13865589207791268\n",
            "Validation epoch 6: Loss = 2.3460999727249146, Accuracy = 0.15989583358168602\n",
            "Training epoch 7: Loss = 2.2078257875239595, Accuracy = 0.16883183318249723\n",
            "Validation epoch 7: Loss = 1.8509948949019115, Accuracy = 0.25624999900658924\n",
            "Training epoch 8: Loss = 2.1232803831709193, Accuracy = 0.19297258587593727\n",
            "Validation epoch 8: Loss = 1.999705692132314, Accuracy = 0.21614583333333334\n",
            "Training epoch 9: Loss = 1.997157893282302, Accuracy = 0.20806055658675254\n",
            "Validation epoch 9: Loss = 2.031412939230601, Accuracy = 0.17604166672875485\n",
            "Training epoch 10: Loss = 1.9378483295440674, Accuracy = 0.2329173487551669\n",
            "Validation epoch 10: Loss = 1.8189818263053894, Accuracy = 0.24895833432674408\n",
            "Training epoch 11: Loss = 1.8675769161670766, Accuracy = 0.2490793783613976\n",
            "Validation epoch 11: Loss = 1.8326193392276764, Accuracy = 0.18229166666666666\n",
            "Training epoch 12: Loss = 1.8410627994131534, Accuracy = 0.24902823250344458\n",
            "Validation epoch 12: Loss = 1.5619597534338634, Accuracy = 0.31562499950329465\n",
            "Training epoch 13: Loss = 1.7397365468613646, Accuracy = 0.2973608837482777\n",
            "Validation epoch 13: Loss = 1.476712743441264, Accuracy = 0.3942708323399226\n",
            "Training epoch 14: Loss = 1.676800897780885, Accuracy = 0.30365180018100335\n",
            "Validation epoch 14: Loss = 1.4225730101267497, Accuracy = 0.3791666676600774\n",
            "Training epoch 15: Loss = 1.6536874948663915, Accuracy = 0.3055441899502531\n",
            "Validation epoch 15: Loss = 1.4102523227532704, Accuracy = 0.3671875\n",
            "Training epoch 16: Loss = 1.6290838033594983, Accuracy = 0.300531914893617\n",
            "Validation epoch 16: Loss = 1.6761496861775715, Accuracy = 0.20937500024835268\n",
            "Training epoch 17: Loss = 1.6037085157759645, Accuracy = 0.3228825698507593\n",
            "Validation epoch 17: Loss = 1.3682101766268413, Accuracy = 0.355208333581686\n",
            "Training epoch 18: Loss = 1.526538166593998, Accuracy = 0.32421235708480184\n",
            "Validation epoch 18: Loss = 1.236704816420873, Accuracy = 0.45937499900658924\n",
            "Training epoch 19: Loss = 1.5327291640829532, Accuracy = 0.3290711945675789\n",
            "Validation epoch 19: Loss = 1.3225407898426056, Accuracy = 0.40677083283662796\n",
            "Training epoch 20: Loss = 1.4732479364313977, Accuracy = 0.3590936990494424\n",
            "Validation epoch 20: Loss = 1.4886130094528198, Accuracy = 0.37812499950329465\n",
            "Training epoch 21: Loss = 1.4313798610200272, Accuracy = 0.38338788899969545\n",
            "Validation epoch 21: Loss = 1.4021620849768321, Accuracy = 0.3723958333333333\n",
            "Training epoch 22: Loss = 1.4199239345307046, Accuracy = 0.35929828153011645\n",
            "Validation epoch 22: Loss = 1.248125861088435, Accuracy = 0.4296875\n",
            "Training epoch 23: Loss = 1.4191125884969185, Accuracy = 0.3689648115888555\n",
            "Validation epoch 23: Loss = 1.3031982481479645, Accuracy = 0.4140625\n",
            "Training epoch 24: Loss = 1.3757113243671173, Accuracy = 0.3909063009505576\n",
            "Validation epoch 24: Loss = 1.1496999561786652, Accuracy = 0.4453125\n",
            "Training epoch 25: Loss = 1.358347404510417, Accuracy = 0.4187295417836372\n",
            "Validation epoch 25: Loss = 1.2541317343711853, Accuracy = 0.4713541666666667\n",
            "Training epoch 26: Loss = 1.323838028501957, Accuracy = 0.4121317508372855\n",
            "Validation epoch 26: Loss = 1.1469829032818477, Accuracy = 0.49010416865348816\n",
            "Training epoch 27: Loss = 1.2892785579600232, Accuracy = 0.43018617021276595\n",
            "Validation epoch 27: Loss = 1.0571146259705226, Accuracy = 0.5260416666666666\n",
            "Training epoch 28: Loss = 1.2832373989389299, Accuracy = 0.449570376188197\n",
            "Validation epoch 28: Loss = 1.0843247125546138, Accuracy = 0.5500000019868215\n",
            "Training epoch 29: Loss = 1.2494143678786906, Accuracy = 0.4579582651878925\n",
            "Validation epoch 29: Loss = 1.094730367263158, Accuracy = 0.5317708353201548\n",
            "Training epoch 30: Loss = 1.2557110684983275, Accuracy = 0.4408244680851064\n",
            "Validation epoch 30: Loss = 0.9671044101317724, Accuracy = 0.5515624980131785\n",
            "Training epoch 31: Loss = 1.2344193217602182, Accuracy = 0.47069353499311084\n",
            "Validation epoch 31: Loss = 1.009644940495491, Accuracy = 0.5416666666666666\n",
            "Training epoch 32: Loss = 1.208346610373639, Accuracy = 0.4696706216386024\n",
            "Validation epoch 32: Loss = 0.9706981182098389, Accuracy = 0.5479166656732559\n",
            "Training epoch 33: Loss = 1.2079250330620623, Accuracy = 0.478365384517832\n",
            "Validation epoch 33: Loss = 1.0444048295418422, Accuracy = 0.5078125\n",
            "Training epoch 34: Loss = 1.2085285212131256, Accuracy = 0.4728416527839417\n",
            "Validation epoch 34: Loss = 1.067265863219897, Accuracy = 0.5026041666666666\n",
            "Training epoch 35: Loss = 1.1779824609452105, Accuracy = 0.478314238659879\n",
            "Validation epoch 35: Loss = 0.9642406900723776, Accuracy = 0.5703125\n",
            "Training epoch 36: Loss = 1.1591202363054802, Accuracy = 0.521532323766262\n",
            "Validation epoch 36: Loss = 0.8798651546239853, Accuracy = 0.6302083333333334\n",
            "Training epoch 37: Loss = 1.1359393469830776, Accuracy = 0.5116100653688959\n",
            "Validation epoch 37: Loss = 0.9519556413094202, Accuracy = 0.5833333333333334\n",
            "Training epoch 38: Loss = 1.132296289535279, Accuracy = 0.5110986093257336\n",
            "Validation epoch 38: Loss = 0.8195402721563975, Accuracy = 0.6348958313465118\n",
            "Training epoch 39: Loss = 1.1359825907869543, Accuracy = 0.49621522046150046\n",
            "Validation epoch 39: Loss = 0.8510962575674057, Accuracy = 0.6192708313465118\n",
            "Training epoch 40: Loss = 1.098292519437506, Accuracy = 0.5442921443188444\n",
            "Validation epoch 40: Loss = 0.8694767504930496, Accuracy = 0.6078124990065893\n",
            "Training epoch 41: Loss = 1.105815774582802, Accuracy = 0.5273117841558254\n",
            "Validation epoch 41: Loss = 0.9523188422123591, Accuracy = 0.5427083323399226\n",
            "Training epoch 42: Loss = 1.1115872111726315, Accuracy = 0.5083878889996954\n",
            "Validation epoch 42: Loss = 0.8729522476593653, Accuracy = 0.6036458313465118\n",
            "Training epoch 43: Loss = 1.0880088273515092, Accuracy = 0.5359554011771019\n",
            "Validation epoch 43: Loss = 0.8159995923439661, Accuracy = 0.6468749990065893\n",
            "Training epoch 44: Loss = 1.0341997958244162, Accuracy = 0.5425020456314087\n",
            "Validation epoch 44: Loss = 0.8973661164442698, Accuracy = 0.570833332836628\n",
            "Training epoch 45: Loss = 1.0797531934494669, Accuracy = 0.5252148115888555\n",
            "Validation epoch 45: Loss = 0.9314838747183481, Accuracy = 0.5999999990065893\n",
            "Training epoch 46: Loss = 1.0200803305240387, Accuracy = 0.5774345334540022\n",
            "Validation epoch 46: Loss = 0.8903994758923849, Accuracy = 0.5901041676600774\n",
            "Training epoch 47: Loss = 1.037482701717539, Accuracy = 0.5480257779993909\n",
            "Validation epoch 47: Loss = 0.7501352429389954, Accuracy = 0.6755208323399226\n",
            "Training epoch 48: Loss = 1.0473617327974198, Accuracy = 0.5452639118153998\n",
            "Validation epoch 48: Loss = 0.862672304113706, Accuracy = 0.6468749990065893\n",
            "Training epoch 49: Loss = 1.0518407859700791, Accuracy = 0.540763092801926\n",
            "Validation epoch 49: Loss = 0.9307478964328766, Accuracy = 0.5713541656732559\n",
            "Training epoch 50: Loss = 1.0305530581068485, Accuracy = 0.5667450897237087\n",
            "Validation epoch 50: Loss = 0.8099198887745539, Accuracy = 0.6390624990065893\n",
            "Training epoch 51: Loss = 1.0276278992916674, Accuracy = 0.5635229133545084\n",
            "Validation epoch 51: Loss = 0.982424591978391, Accuracy = 0.5427083323399226\n",
            "Training epoch 52: Loss = 0.989600658416748, Accuracy = 0.5683817508372855\n",
            "Validation epoch 52: Loss = 0.75091020266215, Accuracy = 0.6744791666666666\n",
            "Training epoch 53: Loss = 1.0152746375570907, Accuracy = 0.5739566290632208\n",
            "Validation epoch 53: Loss = 0.9208542505900065, Accuracy = 0.5947916656732559\n",
            "Training epoch 54: Loss = 1.0131545472652355, Accuracy = 0.5449570379358657\n",
            "Validation epoch 54: Loss = 0.9280182222525278, Accuracy = 0.5333333338300387\n",
            "Training epoch 55: Loss = 1.0184768907567288, Accuracy = 0.5704787234042553\n",
            "Validation epoch 55: Loss = 0.8029578725496928, Accuracy = 0.6286458323399226\n",
            "Training epoch 56: Loss = 1.0062056323315234, Accuracy = 0.5704275775463024\n",
            "Validation epoch 56: Loss = 0.8503390649954478, Accuracy = 0.6333333353201548\n",
            "Training epoch 57: Loss = 0.97926472095733, Accuracy = 0.5785085926664636\n",
            "Validation epoch 57: Loss = 0.8020234207312266, Accuracy = 0.6265625009934107\n",
            "Training epoch 58: Loss = 0.9723277142707337, Accuracy = 0.5765139118153998\n",
            "Validation epoch 58: Loss = 0.8877422660589218, Accuracy = 0.5932291646798452\n",
            "Training epoch 59: Loss = 0.9436923772730725, Accuracy = 0.5862315880491379\n",
            "Validation epoch 59: Loss = 0.7836635112762451, Accuracy = 0.6755208323399226\n",
            "Training epoch 60: Loss = 0.997133880219561, Accuracy = 0.5725245501132722\n",
            "Validation epoch 60: Loss = 1.0408860345681508, Accuracy = 0.5744791676600774\n",
            "Training epoch 61: Loss = 0.9669748582738511, Accuracy = 0.6031096564962509\n",
            "Validation epoch 61: Loss = 0.8260825226704279, Accuracy = 0.6703124990065893\n",
            "Training epoch 62: Loss = 0.9562203909488435, Accuracy = 0.5910392796739619\n",
            "Validation epoch 62: Loss = 0.7650381177663803, Accuracy = 0.6760416676600774\n",
            "Training epoch 63: Loss = 0.9827133873675732, Accuracy = 0.5930339605250257\n",
            "Validation epoch 63: Loss = 0.7635112206141154, Accuracy = 0.6536458333333334\n",
            "Training epoch 64: Loss = 0.9688651282736596, Accuracy = 0.5651084286101321\n",
            "Validation epoch 64: Loss = 0.7779540767272314, Accuracy = 0.6760416676600774\n",
            "Training epoch 65: Loss = 0.9344651851248233, Accuracy = 0.6174304421911848\n",
            "Validation epoch 65: Loss = 0.8952736109495163, Accuracy = 0.6104166656732559\n",
            "Training epoch 66: Loss = 0.9707741458365258, Accuracy = 0.5942103114533932\n",
            "Validation epoch 66: Loss = 0.8209804197152456, Accuracy = 0.6552083343267441\n",
            "Training epoch 67: Loss = 0.9560903970231401, Accuracy = 0.5911415713898679\n",
            "Validation epoch 67: Loss = 0.9082441826661428, Accuracy = 0.5885416666666666\n",
            "Training epoch 68: Loss = 0.9138821008357596, Accuracy = 0.6239259407875386\n",
            "Validation epoch 68: Loss = 0.7633704344431559, Accuracy = 0.703125\n",
            "Training epoch 69: Loss = 0.8974992899184532, Accuracy = 0.6125716034402239\n",
            "Validation epoch 69: Loss = 0.8633798807859421, Accuracy = 0.608854167163372\n",
            "Training epoch 70: Loss = 0.9420159991751326, Accuracy = 0.6127761868720359\n",
            "Validation epoch 70: Loss = 0.8621893723805746, Accuracy = 0.6114583313465118\n",
            "Training epoch 71: Loss = 0.9177720242358268, Accuracy = 0.622545007695543\n",
            "Validation epoch 71: Loss = 0.991183782617251, Accuracy = 0.6390624990065893\n",
            "Training epoch 72: Loss = 0.8976381218179743, Accuracy = 0.6109860881846002\n",
            "Validation epoch 72: Loss = 0.877628818154335, Accuracy = 0.6265625009934107\n",
            "Training epoch 73: Loss = 0.9635016182635693, Accuracy = 0.5972790502487345\n",
            "Validation epoch 73: Loss = 0.8155904014905294, Accuracy = 0.6583333313465118\n",
            "Training epoch 74: Loss = 0.9840329834755431, Accuracy = 0.5749283965597761\n",
            "Validation epoch 74: Loss = 0.8362749268611273, Accuracy = 0.6645833353201548\n",
            "Training epoch 75: Loss = 0.9259925471975449, Accuracy = 0.6041837157087123\n",
            "Validation epoch 75: Loss = 0.8232014775276184, Accuracy = 0.6505208313465118\n",
            "Training epoch 76: Loss = 0.908100055887344, Accuracy = 0.6186579377093213\n",
            "Validation epoch 76: Loss = 0.7942355324824651, Accuracy = 0.6947916646798452\n",
            "Training epoch 77: Loss = 0.9145453876637398, Accuracy = 0.6234144847443763\n",
            "Validation epoch 77: Loss = 0.7184879258275032, Accuracy = 0.7005208333333334\n",
            "Training epoch 78: Loss = 0.9162330969851068, Accuracy = 0.6164586746946294\n",
            "Validation epoch 78: Loss = 0.763934443394343, Accuracy = 0.6942708343267441\n",
            "Training epoch 79: Loss = 0.8696616114454067, Accuracy = 0.6257671853329273\n",
            "Validation epoch 79: Loss = 0.859007383386294, Accuracy = 0.6614583333333334\n",
            "Training epoch 80: Loss = 0.9074632259125405, Accuracy = 0.6173792963332319\n",
            "Validation epoch 80: Loss = 0.6885724986592928, Accuracy = 0.7348958353201548\n",
            "Training epoch 81: Loss = 0.9077032056260617, Accuracy = 0.6140548282481254\n",
            "Validation epoch 81: Loss = 0.9155219743649164, Accuracy = 0.6500000009934107\n",
            "Training epoch 82: Loss = 0.884683611545157, Accuracy = 0.6270458267090169\n",
            "Validation epoch 82: Loss = 0.7173367887735367, Accuracy = 0.7270833353201548\n",
            "Training epoch 83: Loss = 0.8892772755724319, Accuracy = 0.6221869879580558\n",
            "Validation epoch 83: Loss = 0.7518118768930435, Accuracy = 0.6890625009934107\n",
            "Training epoch 84: Loss = 0.9267074059932789, Accuracy = 0.6181976262559282\n",
            "Validation epoch 84: Loss = 0.9276081919670105, Accuracy = 0.6114583313465118\n",
            "Training epoch 85: Loss = 0.9025354841922192, Accuracy = 0.6087356793119553\n",
            "Validation epoch 85: Loss = 0.7112713803847631, Accuracy = 0.7255208343267441\n",
            "Training epoch 86: Loss = 0.8764081140781971, Accuracy = 0.6433612932550147\n",
            "Validation epoch 86: Loss = 0.7579789062341055, Accuracy = 0.7260416646798452\n",
            "Training epoch 87: Loss = 0.9102119892201526, Accuracy = 0.622545007695543\n",
            "Validation epoch 87: Loss = 0.7557748407125473, Accuracy = 0.6999999980131785\n",
            "Training epoch 88: Loss = 0.8696336048714658, Accuracy = 0.6415200487096259\n",
            "Validation epoch 88: Loss = 0.7969705164432526, Accuracy = 0.6635416646798452\n",
            "Training epoch 89: Loss = 0.8874061285181248, Accuracy = 0.6303702947941232\n",
            "Validation epoch 89: Loss = 0.8351276814937592, Accuracy = 0.6598958323399226\n",
            "Training epoch 90: Loss = 0.8526331122885359, Accuracy = 0.6426452537800403\n",
            "Validation epoch 90: Loss = 0.7269086440404257, Accuracy = 0.6760416676600774\n",
            "Training epoch 91: Loss = 0.9179849459769878, Accuracy = 0.6364566290632208\n",
            "Validation epoch 91: Loss = 0.939571370681127, Accuracy = 0.59375\n",
            "Training epoch 92: Loss = 0.9385430812835693, Accuracy = 0.6026493450428577\n",
            "Validation epoch 92: Loss = 0.7544106195370356, Accuracy = 0.7098958343267441\n",
            "Training epoch 93: Loss = 0.8653141069919505, Accuracy = 0.634768822091691\n",
            "Validation epoch 93: Loss = 0.7627205898364385, Accuracy = 0.7067708323399226\n",
            "Training epoch 94: Loss = 0.8821387925046555, Accuracy = 0.6258694757806494\n",
            "Validation epoch 94: Loss = 0.7354601075251898, Accuracy = 0.6895833313465118\n",
            "Training epoch 95: Loss = 0.8519474027004648, Accuracy = 0.6424918162061813\n",
            "Validation epoch 95: Loss = 0.8437290887037913, Accuracy = 0.6520833323399226\n",
            "Training epoch 96: Loss = 0.8976065059925648, Accuracy = 0.6420826518789251\n",
            "Validation epoch 96: Loss = 0.6812321742375692, Accuracy = 0.7484374990065893\n",
            "Training epoch 97: Loss = 0.8995311336314424, Accuracy = 0.6547156306023293\n",
            "Validation epoch 97: Loss = 0.9352769156297048, Accuracy = 0.5895833323399226\n",
            "Training epoch 98: Loss = 0.8761441434951539, Accuracy = 0.6593698859214783\n",
            "Validation epoch 98: Loss = 0.8354304929574331, Accuracy = 0.6734375009934107\n",
            "Training epoch 99: Loss = 0.8687097582411258, Accuracy = 0.6385024545040536\n",
            "Validation epoch 99: Loss = 0.8797931869824728, Accuracy = 0.6281249995032946\n"
          ],
          "name": "stdout"
        },
        {
          "output_type": "display_data",
          "data": {
            "image/png": "[encoded data removed]",
            "text/plain": [
              "<Figure size 864x288 with 2 Axes>"
            ]
          },
          "metadata": {
            "tags": [],
            "needs_background": "light"
          }
        }
      ]
    },
    {
      "cell_type": "markdown",
      "metadata": {
        "id": "P70g5ocN2ZsF",
        "colab_type": "text"
      },
      "source": [
        "model3: Inspired from VGG-11"
      ]
    },
    {
      "cell_type": "code",
      "metadata": {
        "id": "faKZRULxUPrf",
        "colab_type": "code",
        "colab": {
          "base_uri": "https://localhost:8080/",
          "height": 1000
        },
        "outputId": "89ee26e5-52f3-4830-9ae0-a7d9e880651b"
      },
      "source": [
        "\n",
        "\n",
        "from tensorflow.keras.models import Sequential\n",
        "from tensorflow.keras.layers import Conv2D, MaxPooling2D, Lambda, Input, BatchNormalization,LeakyReLU\n",
        "from tensorflow.keras.layers import Activation, Dropout, Flatten, Dense\n",
        "from tensorflow.keras.metrics import categorical_accuracy\n",
        "from tensorflow.keras import regularizers, optimizers\n",
        "\n",
        "model3 = Sequential()\n",
        "\n",
        "# input\n",
        "model3.add(Input(shape=(32, 32, 3)))\n",
        "\n",
        "model3.add(Lambda(lambda x: tf.expand_dims(x[:,:,:,0], -1, name=None))) \n",
        "# this is a workaround. Dataloader automatically read one channel image as 3 channel \n",
        "#and we use Lambda layer to revert this back. Lambda layer can be used for operation \n",
        "#that does not involve trainianble weights\n",
        "\n",
        "# Conv Layer 1\n",
        "model3.add(Conv2D(64, (3, 3)))\n",
        "model3.add(Activation('relu'))\n",
        "model3.add(Conv2D(64, (3, 3)))\n",
        "model3.add(Activation('relu'))\n",
        "\n",
        "model3.add(MaxPooling2D(pool_size=(2, 2)))\n",
        "model3.add(Dropout(0.5))\n",
        " \n",
        "model3.add(Conv2D(128, (3, 3)))\n",
        "model3.add(Activation('relu'))\n",
        "model3.add(Conv2D(128, (3, 3)))\n",
        "model3.add(Activation('relu'))\n",
        "\n",
        "model3.add(MaxPooling2D(pool_size=(2, 2)))\n",
        "model3.add(Dropout(0.2))\n",
        "\n",
        "model3.add(Conv2D(256, (3, 3)))\n",
        "model3.add(Activation('relu'))\n",
        "model3.add(Conv2D(256, (3, 3),padding = 'Same'))\n",
        "model3.add(Activation('relu'))\n",
        "model3.add(Conv2D(256, (3, 3),padding = 'Same'))\n",
        "model3.add(Activation('relu'))\n",
        "model3.add(MaxPooling2D(pool_size=(2, 2)))\n",
        "model3.add(Dropout(0.12))\n",
        "\n",
        "# MLP\n",
        "model3.add(Flatten())\n",
        "model3.add(Dense(1024))\n",
        "model3.add(Activation('relu'))\n",
        "model3.add(Dropout(0.3))\n",
        "model3.add(Dense(1024))\n",
        "model3.add(Activation('relu'))\n",
        "model3.add(Dropout(0.5))\n",
        "model3.add(Dense(13))\n",
        "model3.add(Activation('softmax'))\n",
        "\n",
        "model3.compile(loss='categorical_crossentropy',optimizer='RMSProp',metrics=[categorical_accuracy])\n",
        "model3.summary()\n",
        "\n",
        "res = train_model(model3, num_epoch= 150, verbose=1)\n",
        "\n",
        "plot_results(res)"
      ],
      "execution_count": 62,
      "outputs": [
        {
          "output_type": "stream",
          "text": [
            "Model: \"sequential_5\"\n",
            "_________________________________________________________________\n",
            "Layer (type)                 Output Shape              Param #   \n",
            "=================================================================\n",
            "lambda_5 (Lambda)            (None, 32, 32, 1)         0         \n",
            "_________________________________________________________________\n",
            "conv2d_21 (Conv2D)           (None, 30, 30, 64)        640       \n",
            "_________________________________________________________________\n",
            "activation_30 (Activation)   (None, 30, 30, 64)        0         \n",
            "_________________________________________________________________\n",
            "conv2d_22 (Conv2D)           (None, 28, 28, 64)        36928     \n",
            "_________________________________________________________________\n",
            "activation_31 (Activation)   (None, 28, 28, 64)        0         \n",
            "_________________________________________________________________\n",
            "max_pooling2d_12 (MaxPooling (None, 14, 14, 64)        0         \n",
            "_________________________________________________________________\n",
            "dropout_13 (Dropout)         (None, 14, 14, 64)        0         \n",
            "_________________________________________________________________\n",
            "conv2d_23 (Conv2D)           (None, 12, 12, 128)       73856     \n",
            "_________________________________________________________________\n",
            "activation_32 (Activation)   (None, 12, 12, 128)       0         \n",
            "_________________________________________________________________\n",
            "conv2d_24 (Conv2D)           (None, 10, 10, 128)       147584    \n",
            "_________________________________________________________________\n",
            "activation_33 (Activation)   (None, 10, 10, 128)       0         \n",
            "_________________________________________________________________\n",
            "max_pooling2d_13 (MaxPooling (None, 5, 5, 128)         0         \n",
            "_________________________________________________________________\n",
            "dropout_14 (Dropout)         (None, 5, 5, 128)         0         \n",
            "_________________________________________________________________\n",
            "conv2d_25 (Conv2D)           (None, 3, 3, 256)         295168    \n",
            "_________________________________________________________________\n",
            "activation_34 (Activation)   (None, 3, 3, 256)         0         \n",
            "_________________________________________________________________\n",
            "conv2d_26 (Conv2D)           (None, 3, 3, 256)         590080    \n",
            "_________________________________________________________________\n",
            "activation_35 (Activation)   (None, 3, 3, 256)         0         \n",
            "_________________________________________________________________\n",
            "conv2d_27 (Conv2D)           (None, 3, 3, 256)         590080    \n",
            "_________________________________________________________________\n",
            "activation_36 (Activation)   (None, 3, 3, 256)         0         \n",
            "_________________________________________________________________\n",
            "max_pooling2d_14 (MaxPooling (None, 1, 1, 256)         0         \n",
            "_________________________________________________________________\n",
            "dropout_15 (Dropout)         (None, 1, 1, 256)         0         \n",
            "_________________________________________________________________\n",
            "flatten_3 (Flatten)          (None, 256)               0         \n",
            "_________________________________________________________________\n",
            "dense_9 (Dense)              (None, 1024)              263168    \n",
            "_________________________________________________________________\n",
            "activation_37 (Activation)   (None, 1024)              0         \n",
            "_________________________________________________________________\n",
            "dropout_16 (Dropout)         (None, 1024)              0         \n",
            "_________________________________________________________________\n",
            "dense_10 (Dense)             (None, 1024)              1049600   \n",
            "_________________________________________________________________\n",
            "activation_38 (Activation)   (None, 1024)              0         \n",
            "_________________________________________________________________\n",
            "dropout_17 (Dropout)         (None, 1024)              0         \n",
            "_________________________________________________________________\n",
            "dense_11 (Dense)             (None, 13)                13325     \n",
            "_________________________________________________________________\n",
            "activation_39 (Activation)   (None, 13)                0         \n",
            "=================================================================\n",
            "Total params: 3,060,429\n",
            "Trainable params: 3,060,429\n",
            "Non-trainable params: 0\n",
            "_________________________________________________________________\n",
            "Training epoch 0: Loss = 2.5676151285780238, Accuracy = 0.09109042553191489\n",
            "Validation epoch 0: Loss = 2.5672413309415183, Accuracy = 0.09166666679084301\n",
            "Training epoch 1: Loss = 2.564714832508818, Accuracy = 0.09912029463560024\n",
            "Validation epoch 1: Loss = 2.567407468954722, Accuracy = 0.09322916716337204\n",
            "Training epoch 2: Loss = 2.5658550059541745, Accuracy = 0.09927373173389029\n",
            "Validation epoch 2: Loss = 2.567155957221985, Accuracy = 0.08854166666666667\n",
            "Training epoch 3: Loss = 2.580463871042779, Accuracy = 0.09671644850614224\n",
            "Validation epoch 3: Loss = 2.5661494731903076, Accuracy = 0.09166666679084301\n",
            "Training epoch 4: Loss = 2.5875987550045583, Accuracy = 0.10019435353101568\n",
            "Validation epoch 4: Loss = 2.566865026950836, Accuracy = 0.09010416672875483\n",
            "Training epoch 5: Loss = 2.5666457947264325, Accuracy = 0.09804623574018478\n",
            "Validation epoch 5: Loss = 2.5674492915471396, Accuracy = 0.09322916716337204\n",
            "Training epoch 6: Loss = 2.5631622507217084, Accuracy = 0.10085924714803696\n",
            "Validation epoch 6: Loss = 2.5682085752487183, Accuracy = 0.09010416672875483\n",
            "Training epoch 7: Loss = 2.5636203086122555, Accuracy = 0.09942716867365736\n",
            "Validation epoch 7: Loss = 2.5677811106046042, Accuracy = 0.09166666679084301\n",
            "Training epoch 8: Loss = 2.563781017952777, Accuracy = 0.0997851882526215\n",
            "Validation epoch 8: Loss = 2.56583034992218, Accuracy = 0.09322916716337204\n",
            "Training epoch 9: Loss = 2.5637795113502664, Accuracy = 0.09886456629697313\n",
            "Validation epoch 9: Loss = 2.565558969974518, Accuracy = 0.09479166691501935\n",
            "Training epoch 10: Loss = 2.5637799476055387, Accuracy = 0.09952945991399441\n",
            "Validation epoch 10: Loss = 2.5669070879618325, Accuracy = 0.09166666679084301\n",
            "Training epoch 11: Loss = 2.564035567831486, Accuracy = 0.09804623574018478\n",
            "Validation epoch 11: Loss = 2.566278080145518, Accuracy = 0.09479166691501935\n",
            "Training epoch 12: Loss = 2.562883904639711, Accuracy = 0.0980973814396148\n",
            "Validation epoch 12: Loss = 2.5678881406784058, Accuracy = 0.09010416672875483\n",
            "Training epoch 13: Loss = 2.5633009748255953, Accuracy = 0.0985576923381775\n",
            "Validation epoch 13: Loss = 2.5670339862505593, Accuracy = 0.09010416672875483\n",
            "Training epoch 14: Loss = 2.5635416507720947, Accuracy = 0.09819967267995185\n",
            "Validation epoch 14: Loss = 2.566212515036265, Accuracy = 0.09166666679084301\n",
            "Training epoch 15: Loss = 2.604050778328104, Accuracy = 0.0973813421231635\n",
            "Validation epoch 15: Loss = 2.5100557804107666, Accuracy = 0.12291666679084301\n",
            "Training epoch 16: Loss = 2.4754945166567537, Accuracy = 0.12479541736080292\n",
            "Validation epoch 16: Loss = 2.823598245779673, Accuracy = 0.09843750049670537\n",
            "Training epoch 17: Loss = 2.363699978970467, Accuracy = 0.12561374807611425\n",
            "Validation epoch 17: Loss = 2.2381750345230103, Accuracy = 0.15677083345750967\n",
            "Training epoch 18: Loss = 2.2954389440252427, Accuracy = 0.14157119488462488\n",
            "Validation epoch 18: Loss = 2.145384560028712, Accuracy = 0.16354166716337204\n",
            "Training epoch 19: Loss = 2.1419175913993347, Accuracy = 0.18345949275696533\n",
            "Validation epoch 19: Loss = 1.989864279826482, Accuracy = 0.2333333333954215\n",
            "Training epoch 20: Loss = 1.9922004101124215, Accuracy = 0.21721563012676037\n",
            "Validation epoch 20: Loss = 2.1156029204527536, Accuracy = 0.1239583333954215\n",
            "Training epoch 21: Loss = 1.9546493012854393, Accuracy = 0.22437602297422735\n",
            "Validation epoch 21: Loss = 1.7523724635442097, Accuracy = 0.25\n",
            "Training epoch 22: Loss = 1.8915394113418904, Accuracy = 0.2279050736985308\n",
            "Validation epoch 22: Loss = 1.7437974611918132, Accuracy = 0.25885416691501933\n",
            "Training epoch 23: Loss = 1.7707033131984955, Accuracy = 0.257160392847467\n",
            "Validation epoch 23: Loss = 1.6090648273626964, Accuracy = 0.3130208334575097\n",
            "Training epoch 24: Loss = 1.715122362400623, Accuracy = 0.27777209497512656\n",
            "Validation epoch 24: Loss = 2.0343006352583566, Accuracy = 0.20000000049670538\n",
            "Training epoch 25: Loss = 1.704285555697502, Accuracy = 0.2846256137845364\n",
            "Validation epoch 25: Loss = 1.4886975387732189, Accuracy = 0.3348958343267441\n",
            "Training epoch 26: Loss = 1.6062721445205363, Accuracy = 0.31270458279772007\n",
            "Validation epoch 26: Loss = 1.2718113760153453, Accuracy = 0.4729166676600774\n",
            "Training epoch 27: Loss = 1.550002932548523, Accuracy = 0.3242635023086629\n",
            "Validation epoch 27: Loss = 1.329828828573227, Accuracy = 0.4177083323399226\n",
            "Training epoch 28: Loss = 1.5239085314121652, Accuracy = 0.3323956626526853\n",
            "Validation epoch 28: Loss = 1.5145084063212078, Accuracy = 0.3604166656732559\n",
            "Training epoch 29: Loss = 1.4888004698651902, Accuracy = 0.3430339605250257\n",
            "Validation epoch 29: Loss = 1.2420993745326996, Accuracy = 0.4510416661699613\n",
            "Training epoch 30: Loss = 1.4542390209563234, Accuracy = 0.36390139130835836\n",
            "Validation epoch 30: Loss = 1.3678816854953766, Accuracy = 0.37343749900658924\n",
            "Training epoch 31: Loss = 1.4513684029274798, Accuracy = 0.3615998365777604\n",
            "Validation epoch 31: Loss = 1.2299293180306752, Accuracy = 0.4635416666666667\n",
            "Training epoch 32: Loss = 1.3885038989655516, Accuracy = 0.3948956626526853\n",
            "Validation epoch 32: Loss = 1.151666025320689, Accuracy = 0.4807291676600774\n",
            "Training epoch 33: Loss = 1.3864001999510096, Accuracy = 0.4136661208690481\n",
            "Validation epoch 33: Loss = 1.3072848618030548, Accuracy = 0.3848958338300387\n",
            "Training epoch 34: Loss = 1.3546083861208977, Accuracy = 0.40369271661372896\n",
            "Validation epoch 34: Loss = 1.124279593427976, Accuracy = 0.4776041656732559\n",
            "Training epoch 35: Loss = 1.3323889488869525, Accuracy = 0.40783551525562367\n",
            "Validation epoch 35: Loss = 1.202767198284467, Accuracy = 0.4729166676600774\n",
            "Training epoch 36: Loss = 1.3262575484336692, Accuracy = 0.42323036016301907\n",
            "Validation epoch 36: Loss = 1.1451804240544636, Accuracy = 0.47499999900658924\n",
            "Training epoch 37: Loss = 1.33356644498541, Accuracy = 0.4074263502942755\n",
            "Validation epoch 37: Loss = 1.1497373481591542, Accuracy = 0.48281249900658924\n",
            "Training epoch 38: Loss = 1.240385408097125, Accuracy = 0.45765139130835836\n",
            "Validation epoch 38: Loss = 1.0378200660149257, Accuracy = 0.5145833343267441\n",
            "Training epoch 39: Loss = 1.2845235631821004, Accuracy = 0.4328457446808511\n",
            "Validation epoch 39: Loss = 1.0944642970959346, Accuracy = 0.5494791666666666\n",
            "Training epoch 40: Loss = 1.2476702154950892, Accuracy = 0.4636354338615499\n",
            "Validation epoch 40: Loss = 1.0454055964946747, Accuracy = 0.5067708343267441\n",
            "Training epoch 41: Loss = 1.2363850246084498, Accuracy = 0.45806055626970654\n",
            "Validation epoch 41: Loss = 0.9616436709960302, Accuracy = 0.6046875019868215\n",
            "Training epoch 42: Loss = 1.2515426924888124, Accuracy = 0.45887888746058686\n",
            "Validation epoch 42: Loss = 1.0062356839577358, Accuracy = 0.5755208333333334\n",
            "Training epoch 43: Loss = 1.2110037981195654, Accuracy = 0.48327536785856207\n",
            "Validation epoch 43: Loss = 1.3792115847269695, Accuracy = 0.3604166656732559\n",
            "Training epoch 44: Loss = 1.1854746405114518, Accuracy = 0.4740180030782172\n",
            "Validation epoch 44: Loss = 0.9428309698899587, Accuracy = 0.5791666656732559\n",
            "Training epoch 45: Loss = 1.1863413985739364, Accuracy = 0.5062909164327256\n",
            "Validation epoch 45: Loss = 1.411139190196991, Accuracy = 0.4802083323399226\n",
            "Training epoch 46: Loss = 1.2038227877718337, Accuracy = 0.4942205402445286\n",
            "Validation epoch 46: Loss = 0.9117872416973114, Accuracy = 0.5739583323399226\n",
            "Training epoch 47: Loss = 1.1560975820460218, Accuracy = 0.485474631507346\n",
            "Validation epoch 47: Loss = 0.8441371619701385, Accuracy = 0.6333333353201548\n",
            "Training epoch 48: Loss = 1.166349748347668, Accuracy = 0.5002557280215811\n",
            "Validation epoch 48: Loss = 1.3189238905906677, Accuracy = 0.39895833283662796\n",
            "Training epoch 49: Loss = 1.147132843098742, Accuracy = 0.5079275775463024\n",
            "Validation epoch 49: Loss = 0.8386387477318445, Accuracy = 0.6453124980131785\n",
            "Training epoch 50: Loss = 1.115973154281048, Accuracy = 0.5278743860569406\n",
            "Validation epoch 50: Loss = 1.059422994653384, Accuracy = 0.5354166676600774\n",
            "Training epoch 51: Loss = 1.1359982731494498, Accuracy = 0.5118146481666159\n",
            "Validation epoch 51: Loss = 1.0433522462844849, Accuracy = 0.5281249980131785\n",
            "Training epoch 52: Loss = 1.106555184151264, Accuracy = 0.5326309330919956\n",
            "Validation epoch 52: Loss = 0.9178913086652756, Accuracy = 0.6166666646798452\n",
            "Training epoch 53: Loss = 1.0990532991733957, Accuracy = 0.5200490995924524\n",
            "Validation epoch 53: Loss = 0.9951523294051489, Accuracy = 0.5812500019868215\n",
            "Training epoch 54: Loss = 1.0887484043202502, Accuracy = 0.5411211125394131\n",
            "Validation epoch 54: Loss = 0.882935086886088, Accuracy = 0.6177083353201548\n",
            "Training epoch 55: Loss = 1.1049128047963406, Accuracy = 0.5283858433682868\n",
            "Validation epoch 55: Loss = 0.8703706910212835, Accuracy = 0.6500000009934107\n",
            "Training epoch 56: Loss = 1.0524880556350058, Accuracy = 0.5421440258939215\n",
            "Validation epoch 56: Loss = 0.873949776093165, Accuracy = 0.6374999980131785\n",
            "Training epoch 57: Loss = 1.0986672982256462, Accuracy = 0.5160597385244167\n",
            "Validation epoch 57: Loss = 0.8550898681084315, Accuracy = 0.609375\n",
            "Training epoch 58: Loss = 1.0855196866583317, Accuracy = 0.5441898526029384\n",
            "Validation epoch 58: Loss = 0.970092569788297, Accuracy = 0.5703125\n",
            "Training epoch 59: Loss = 1.0423320113344396, Accuracy = 0.5391264316883493\n",
            "Validation epoch 59: Loss = 0.9034169614315033, Accuracy = 0.6078124990065893\n",
            "Training epoch 60: Loss = 1.0678140356185588, Accuracy = 0.5473608843823696\n",
            "Validation epoch 60: Loss = 0.8725932538509369, Accuracy = 0.5989583333333334\n",
            "Training epoch 61: Loss = 1.043726513994501, Accuracy = 0.5612213586239104\n",
            "Validation epoch 61: Loss = 1.0135533213615417, Accuracy = 0.5458333343267441\n",
            "Training epoch 62: Loss = 1.0682722101820277, Accuracy = 0.538717267361093\n",
            "Validation epoch 62: Loss = 0.9631051321824392, Accuracy = 0.6192708313465118\n",
            "Training epoch 63: Loss = 1.02077587234213, Accuracy = 0.5758490181983785\n",
            "Validation epoch 63: Loss = 1.095336526632309, Accuracy = 0.5270833323399226\n",
            "Training epoch 64: Loss = 0.9820156465185449, Accuracy = 0.5813727492981768\n",
            "Validation epoch 64: Loss = 0.7601991593837738, Accuracy = 0.6875\n",
            "Training epoch 65: Loss = 0.9801271481716887, Accuracy = 0.5880216854683896\n",
            "Validation epoch 65: Loss = 1.4351716538270314, Accuracy = 0.4020833323399226\n",
            "Training epoch 66: Loss = 1.0034653354198375, Accuracy = 0.5754909984608914\n",
            "Validation epoch 66: Loss = 0.8574277659257253, Accuracy = 0.6223958333333334\n",
            "Training epoch 67: Loss = 0.9991878892513032, Accuracy = 0.5763604742415408\n",
            "Validation epoch 67: Loss = 0.881877064704895, Accuracy = 0.6098958353201548\n",
            "Training epoch 68: Loss = 0.9556673054999494, Accuracy = 0.5780994270710235\n",
            "Validation epoch 68: Loss = 0.9279671609401703, Accuracy = 0.5864583353201548\n",
            "Training epoch 69: Loss = 0.9642295203310378, Accuracy = 0.5810147295606897\n",
            "Validation epoch 69: Loss = 0.8486174643039703, Accuracy = 0.6333333353201548\n",
            "Training epoch 70: Loss = 0.9816007702908618, Accuracy = 0.6042860061564344\n",
            "Validation epoch 70: Loss = 1.2153420597314835, Accuracy = 0.5010416656732559\n",
            "Training epoch 71: Loss = 1.006862646721779, Accuracy = 0.58162847795385\n",
            "Validation epoch 71: Loss = 0.9293215523163477, Accuracy = 0.5838541686534882\n",
            "Training epoch 72: Loss = 0.9597817634014373, Accuracy = 0.5918064650068892\n",
            "Validation epoch 72: Loss = 0.762052650252978, Accuracy = 0.6770833333333334\n",
            "Training epoch 73: Loss = 0.9924173469239093, Accuracy = 0.584185761340121\n",
            "Validation epoch 73: Loss = 0.9560662060976028, Accuracy = 0.609375\n",
            "Training epoch 74: Loss = 0.9852532769771333, Accuracy = 0.5876125205070415\n",
            "Validation epoch 74: Loss = 0.9455805569887161, Accuracy = 0.5968750019868215\n",
            "Training epoch 75: Loss = 0.9507561313345078, Accuracy = 0.6109860881846002\n",
            "Validation epoch 75: Loss = 0.6976740608612696, Accuracy = 0.6786458343267441\n",
            "Training epoch 76: Loss = 0.9555450462280436, Accuracy = 0.5972790502487345\n",
            "Validation epoch 76: Loss = 0.8975670784711838, Accuracy = 0.6020833353201548\n",
            "Training epoch 77: Loss = 0.9335434005615559, Accuracy = 0.5928805242193506\n",
            "Validation epoch 77: Loss = 0.8689774920543035, Accuracy = 0.6140624980131785\n",
            "Training epoch 78: Loss = 0.9763830671919153, Accuracy = 0.5903743860569406\n",
            "Validation epoch 78: Loss = 0.7418399204810461, Accuracy = 0.7411458343267441\n",
            "Training epoch 79: Loss = 0.9588404792420407, Accuracy = 0.5994271686736573\n",
            "Validation epoch 79: Loss = 0.8594687084356943, Accuracy = 0.6166666646798452\n",
            "Training epoch 80: Loss = 0.9791668494965168, Accuracy = 0.6014218495247212\n",
            "Validation epoch 80: Loss = 0.7920694798231125, Accuracy = 0.6729166656732559\n",
            "Training epoch 81: Loss = 0.9384087222687741, Accuracy = 0.6040302781348533\n",
            "Validation epoch 81: Loss = 0.7409879416227341, Accuracy = 0.7026041646798452\n",
            "Training epoch 82: Loss = 1.0085593423944839, Accuracy = 0.5952843693976707\n",
            "Validation epoch 82: Loss = 0.7117133587598801, Accuracy = 0.71875\n",
            "Training epoch 83: Loss = 0.9234645924669631, Accuracy = 0.6172770046173258\n",
            "Validation epoch 83: Loss = 0.9330375691254934, Accuracy = 0.6416666656732559\n",
            "Training epoch 84: Loss = 0.9669067276285049, Accuracy = 0.581628477319758\n",
            "Validation epoch 84: Loss = 0.8385789642731348, Accuracy = 0.6619791686534882\n",
            "Training epoch 85: Loss = 0.9081769344654489, Accuracy = 0.6141571199640314\n",
            "Validation epoch 85: Loss = 0.8422089914480845, Accuracy = 0.6677083323399226\n",
            "Training epoch 86: Loss = 0.9160695507171306, Accuracy = 0.5946194757806494\n",
            "Validation epoch 86: Loss = 0.8327394674221674, Accuracy = 0.6427083338300387\n",
            "Training epoch 87: Loss = 0.9193179975164697, Accuracy = 0.6026493450428577\n",
            "Validation epoch 87: Loss = 1.1754455715417862, Accuracy = 0.5192708323399226\n",
            "Training epoch 88: Loss = 0.9621096773350493, Accuracy = 0.6074058920779126\n",
            "Validation epoch 88: Loss = 0.8301091293493906, Accuracy = 0.6317708343267441\n",
            "Training epoch 89: Loss = 0.9203519060256633, Accuracy = 0.6243862522409317\n",
            "Validation epoch 89: Loss = 0.8894503861665726, Accuracy = 0.5906249980131785\n",
            "Training epoch 90: Loss = 0.8774786008165237, Accuracy = 0.6286313419646405\n",
            "Validation epoch 90: Loss = 1.0688271125157673, Accuracy = 0.5578125019868215\n",
            "Training epoch 91: Loss = 0.911596121940207, Accuracy = 0.6288870699862217\n",
            "Validation epoch 91: Loss = 0.8587061762809753, Accuracy = 0.6921874980131785\n",
            "Training epoch 92: Loss = 0.9054690637487046, Accuracy = 0.6281198859214783\n",
            "Validation epoch 92: Loss = 1.281880925099055, Accuracy = 0.5770833343267441\n",
            "Training epoch 93: Loss = 0.9914703318413268, Accuracy = 0.5868453358082061\n",
            "Validation epoch 93: Loss = 2.049470360080401, Accuracy = 0.6729166656732559\n",
            "Training epoch 94: Loss = 0.9658111498710957, Accuracy = 0.6119067098232026\n",
            "Validation epoch 94: Loss = 1.0065447340408962, Accuracy = 0.6036458313465118\n",
            "Training epoch 95: Loss = 0.8984228955938461, Accuracy = 0.6195785593479237\n",
            "Validation epoch 95: Loss = 0.7830862899621328, Accuracy = 0.6765624980131785\n",
            "Training epoch 96: Loss = 0.9368098067476395, Accuracy = 0.6184022096877403\n",
            "Validation epoch 96: Loss = 0.9755632628997167, Accuracy = 0.6151041686534882\n",
            "Training epoch 97: Loss = 0.9139086705573062, Accuracy = 0.6261252050704145\n",
            "Validation epoch 97: Loss = 0.7327897151311239, Accuracy = 0.7020833343267441\n",
            "Training epoch 98: Loss = 0.9097970698742156, Accuracy = 0.6168166944321166\n",
            "Validation epoch 98: Loss = 0.8162602583567301, Accuracy = 0.6609374980131785\n",
            "Training epoch 99: Loss = 0.8886917969013782, Accuracy = 0.617788461928672\n",
            "Validation epoch 99: Loss = 0.8629312465588251, Accuracy = 0.6395833343267441\n",
            "Training epoch 100: Loss = 0.9328685415552017, Accuracy = 0.6179930440923\n",
            "Validation epoch 100: Loss = 0.9205480019251505, Accuracy = 0.6187500009934107\n",
            "Training epoch 101: Loss = 0.8827656355309994, Accuracy = 0.6438216034402239\n",
            "Validation epoch 101: Loss = 0.7298043419917425, Accuracy = 0.6895833313465118\n",
            "Training epoch 102: Loss = 1.1086154580116272, Accuracy = 0.6277618661839911\n",
            "Validation epoch 102: Loss = 0.8328292816877365, Accuracy = 0.6302083333333334\n",
            "Training epoch 103: Loss = 0.8602354754792884, Accuracy = 0.6398322417380962\n",
            "Validation epoch 103: Loss = 0.7710601141055425, Accuracy = 0.6916666676600774\n",
            "Training epoch 104: Loss = 0.9013834101088504, Accuracy = 0.6301657113623111\n",
            "Validation epoch 104: Loss = 0.7244580487410227, Accuracy = 0.7078124980131785\n",
            "Training epoch 105: Loss = 0.8553319192947225, Accuracy = 0.6451513906742664\n",
            "Validation epoch 105: Loss = 0.9070407003164291, Accuracy = 0.6369791676600774\n",
            "Training epoch 106: Loss = 0.9585623157785294, Accuracy = 0.6278641566317132\n",
            "Validation epoch 106: Loss = 0.7447324593861898, Accuracy = 0.7041666656732559\n",
            "Training epoch 107: Loss = 0.8882752276481466, Accuracy = 0.6259206216386024\n",
            "Validation epoch 107: Loss = 0.8370062460501989, Accuracy = 0.6317708343267441\n",
            "Training epoch 108: Loss = 0.8835874548617829, Accuracy = 0.6352802781348533\n",
            "Validation epoch 108: Loss = 0.9169482588768005, Accuracy = 0.6234374990065893\n",
            "Training epoch 109: Loss = 0.8855783901316054, Accuracy = 0.615435761340121\n",
            "Validation epoch 109: Loss = 0.908179392417272, Accuracy = 0.6916666676600774\n",
            "Training epoch 110: Loss = 0.8825093476062126, Accuracy = 0.648782732638907\n",
            "Validation epoch 110: Loss = 0.8951750497023264, Accuracy = 0.6447916676600774\n",
            "Training epoch 111: Loss = 0.8826544132638485, Accuracy = 0.6458162842912877\n",
            "Validation epoch 111: Loss = 1.3147998402516048, Accuracy = 0.6427083313465118\n",
            "Training epoch 112: Loss = 0.8965129839613083, Accuracy = 0.6202434529649451\n",
            "Validation epoch 112: Loss = 0.8819517294565836, Accuracy = 0.7109375\n",
            "Training epoch 113: Loss = 0.8899425014536432, Accuracy = 0.6311886247168196\n",
            "Validation epoch 113: Loss = 1.0348714639743168, Accuracy = 0.6442708323399226\n",
            "Training epoch 114: Loss = 0.9054096949861404, Accuracy = 0.6285290502487345\n",
            "Validation epoch 114: Loss = 1.0898879915475845, Accuracy = 0.5500000019868215\n",
            "Training epoch 115: Loss = 0.9121671800917768, Accuracy = 0.6238236503398165\n",
            "Validation epoch 115: Loss = 1.424985612432162, Accuracy = 0.5911458333333334\n",
            "Training epoch 116: Loss = 0.8821644047473339, Accuracy = 0.6455094104117536\n",
            "Validation epoch 116: Loss = 0.8903161386648814, Accuracy = 0.6145833333333334\n",
            "Training epoch 117: Loss = 0.8541083082239679, Accuracy = 0.6484758587593727\n",
            "Validation epoch 117: Loss = 0.9225019266208013, Accuracy = 0.6651041656732559\n",
            "Training epoch 118: Loss = 0.9021656196168129, Accuracy = 0.6259717674965554\n",
            "Validation epoch 118: Loss = 1.254044383764267, Accuracy = 0.4427083333333333\n",
            "Training epoch 119: Loss = 0.9358778697379092, Accuracy = 0.6307794597554714\n",
            "Validation epoch 119: Loss = 0.8390246828397115, Accuracy = 0.6572916656732559\n",
            "Training epoch 120: Loss = 0.8857014604071354, Accuracy = 0.6266878069715297\n",
            "Validation epoch 120: Loss = 0.834751362601916, Accuracy = 0.6661458313465118\n",
            "Training epoch 121: Loss = 0.9019927813651714, Accuracy = 0.6348711125394131\n",
            "Validation epoch 121: Loss = 0.8699686179558436, Accuracy = 0.6364583323399226\n",
            "Training epoch 122: Loss = 0.8667197823524475, Accuracy = 0.6529255319148937\n",
            "Validation epoch 122: Loss = 1.2577912906805675, Accuracy = 0.4723958323399226\n",
            "Training epoch 123: Loss = 0.9857167817176656, Accuracy = 0.6107303601630191\n",
            "Validation epoch 123: Loss = 0.8529924303293228, Accuracy = 0.6666666666666666\n",
            "Training epoch 124: Loss = 0.8516495177086364, Accuracy = 0.6458674301492408\n",
            "Validation epoch 124: Loss = 0.7849836846192678, Accuracy = 0.6723958353201548\n",
            "Training epoch 125: Loss = 0.8847103042805449, Accuracy = 0.6454071199640314\n",
            "Validation epoch 125: Loss = 0.8781473139921824, Accuracy = 0.7015624990065893\n",
            "Training epoch 126: Loss = 0.9277441818663414, Accuracy = 0.6269435349931108\n",
            "Validation epoch 126: Loss = 0.7098992019891739, Accuracy = 0.7333333343267441\n",
            "Training epoch 127: Loss = 0.9191188901028735, Accuracy = 0.6210106382978723\n",
            "Validation epoch 127: Loss = 1.0458844949801762, Accuracy = 0.5442708333333334\n",
            "Training epoch 128: Loss = 0.9015955772805722, Accuracy = 0.6397299506562821\n",
            "Validation epoch 128: Loss = 0.8159822796781858, Accuracy = 0.6572916656732559\n",
            "Training epoch 129: Loss = 0.9627661489425822, Accuracy = 0.6157937810776082\n",
            "Validation epoch 129: Loss = 0.8531826784213384, Accuracy = 0.6989583323399226\n",
            "Training epoch 130: Loss = 0.902022843665265, Accuracy = 0.6257671853329273\n",
            "Validation epoch 130: Loss = 0.7945690304040909, Accuracy = 0.6750000019868215\n",
            "Training epoch 131: Loss = 0.8520718312009852, Accuracy = 0.6173281504752788\n",
            "Validation epoch 131: Loss = 0.7599643468856812, Accuracy = 0.7078124980131785\n",
            "Training epoch 132: Loss = 0.8536294483123942, Accuracy = 0.639576513716515\n",
            "Validation epoch 132: Loss = 0.9694498131672541, Accuracy = 0.7015624990065893\n",
            "Training epoch 133: Loss = 0.8752473415212428, Accuracy = 0.6434124391129676\n",
            "Validation epoch 133: Loss = 1.3689046204090118, Accuracy = 0.6593750019868215\n",
            "Training epoch 134: Loss = 0.8706912601247747, Accuracy = 0.6379398526029384\n",
            "Validation epoch 134: Loss = 0.7851594537496567, Accuracy = 0.6796875\n",
            "Training epoch 135: Loss = 0.8804011611228294, Accuracy = 0.6350245501132722\n",
            "Validation epoch 135: Loss = 0.8255996257066727, Accuracy = 0.7109375\n",
            "Training epoch 136: Loss = 0.9515648687139471, Accuracy = 0.612980769035664\n",
            "Validation epoch 136: Loss = 0.9721622417370478, Accuracy = 0.5526041661699613\n",
            "Training epoch 137: Loss = 0.8909954517445666, Accuracy = 0.6453048282481254\n",
            "Validation epoch 137: Loss = 0.7198695143063863, Accuracy = 0.7036458353201548\n",
            "Training epoch 138: Loss = 0.9207247406878369, Accuracy = 0.6438216034402239\n",
            "Validation epoch 138: Loss = 1.3024118194977443, Accuracy = 0.6312499990065893\n",
            "Training epoch 139: Loss = 0.909413919803944, Accuracy = 0.6267900980533437\n",
            "Validation epoch 139: Loss = 0.8162011206150055, Accuracy = 0.6489583353201548\n",
            "Training epoch 140: Loss = 0.8567081512288844, Accuracy = 0.6428498359436684\n",
            "Validation epoch 140: Loss = 1.649154966076215, Accuracy = 0.6260416656732559\n",
            "Training epoch 141: Loss = 0.8597749103891089, Accuracy = 0.6425941079220874\n",
            "Validation epoch 141: Loss = 1.6642317846417427, Accuracy = 0.7135416666666666\n",
            "Training epoch 142: Loss = 0.8917244958116654, Accuracy = 0.6628989361702128\n",
            "Validation epoch 142: Loss = 0.8787443389495214, Accuracy = 0.6989583323399226\n",
            "Training epoch 143: Loss = 1.2955611760311938, Accuracy = 0.6263809330919956\n",
            "Validation epoch 143: Loss = 0.6759991546471914, Accuracy = 0.7140625019868215\n",
            "Training epoch 144: Loss = 0.8646314347043951, Accuracy = 0.6389116200994938\n",
            "Validation epoch 144: Loss = 0.7062139014403025, Accuracy = 0.7156249980131785\n",
            "Training epoch 145: Loss = 0.8670054040056594, Accuracy = 0.6518003268444792\n",
            "Validation epoch 145: Loss = 0.7683528314034144, Accuracy = 0.6645833353201548\n",
            "Training epoch 146: Loss = 0.8564254210350362, Accuracy = 0.6500613752831804\n",
            "Validation epoch 146: Loss = 1.029251794020335, Accuracy = 0.6656250009934107\n",
            "Training epoch 147: Loss = 0.8511967481450832, Accuracy = 0.6518003268444792\n",
            "Validation epoch 147: Loss = 0.9734585036834081, Accuracy = 0.6270833313465118\n",
            "Training epoch 148: Loss = 0.846513384200157, Accuracy = 0.6543064650068892\n",
            "Validation epoch 148: Loss = 0.9207504838705063, Accuracy = 0.6520833323399226\n",
            "Training epoch 149: Loss = 0.8741153618122669, Accuracy = 0.649140752376394\n",
            "Validation epoch 149: Loss = 0.7185537864764532, Accuracy = 0.6895833313465118\n"
          ],
          "name": "stdout"
        },
        {
          "output_type": "display_data",
          "data": {
            "image/png": "[encoded data removed]",
            "text/plain": [
              "<Figure size 864x288 with 2 Axes>"
            ]
          },
          "metadata": {
            "tags": [],
            "needs_background": "light"
          }
        }
      ]
    },
    {
      "cell_type": "code",
      "metadata": {
        "id": "81sIYtlKUPri",
        "colab_type": "code",
        "colab": {
          "base_uri": "https://localhost:8080/",
          "height": 595
        },
        "outputId": "cdf2527d-e4a7-4b3b-af58-02de99024af7"
      },
      "source": [
        "from sklearn import metrics\n",
        "\n",
        "from sklearn.metrics import confusion_matrix\n",
        "\n",
        "predictions = model2.predict_generator(test_generator,verbose=0)\n",
        "print(\"Prediction shape is\", predictions.shape)\n",
        "\n",
        "predictedLabels =[]\n",
        "for i in range(0,len(predictions[:,0])):\n",
        "    predictedLabels.append(np.argmax(predictions[i]))\n",
        "\n",
        "predictedLabels = np.asarray(predictedLabels)\n",
        "\n",
        "true_classes = test_generator.classes\n",
        "class_labels = list(test_generator.class_indices.keys())\n",
        "\n",
        "report = metrics.classification_report(true_classes, predictedLabels, target_names=class_labels)\n",
        "print(report)\n",
        "cm = confusion_matrix(true_classes, predictedLabels)\n",
        "print(cm)"
      ],
      "execution_count": 73,
      "outputs": [
        {
          "output_type": "stream",
          "text": [
            "Prediction shape is (465, 13)\n",
            "              precision    recall  f1-score   support\n",
            "\n",
            "         -15       0.79      0.89      0.84        37\n",
            "         -30       0.89      0.78      0.83        40\n",
            "         -45       0.75      0.82      0.78        33\n",
            "         -60       0.64      0.91      0.75        33\n",
            "         -75       0.42      0.62      0.50        32\n",
            "         -90       0.80      0.12      0.21        33\n",
            "           0       0.86      0.84      0.85        45\n",
            "          15       0.69      0.60      0.64        30\n",
            "          30       0.66      0.68      0.67        37\n",
            "          45       0.68      0.78      0.73        36\n",
            "          60       0.75      0.73      0.74        41\n",
            "          75       0.61      0.56      0.58        25\n",
            "          90       0.90      0.84      0.87        43\n",
            "\n",
            "    accuracy                           0.72       465\n",
            "   macro avg       0.73      0.71      0.69       465\n",
            "weighted avg       0.74      0.72      0.71       465\n",
            "\n",
            "[[33  3  0  0  0  0  1  0  0  0  0  0  0]\n",
            " [ 3 31  6  0  0  0  0  0  0  0  0  0  0]\n",
            " [ 0  1 27  5  0  0  0  0  0  0  0  0  0]\n",
            " [ 0  0  2 30  1  0  0  0  0  0  0  0  0]\n",
            " [ 0  0  1 10 20  1  0  0  0  0  0  0  0]\n",
            " [ 0  0  0  2 27  4  0  0  0  0  0  0  0]\n",
            " [ 6  0  0  0  0  0 38  1  0  0  0  0  0]\n",
            " [ 0  0  0  0  0  0  5 18  7  0  0  0  0]\n",
            " [ 0  0  0  0  0  0  0  6 25  6  0  0  0]\n",
            " [ 0  0  0  0  0  0  0  1  4 28  3  0  0]\n",
            " [ 0  0  0  0  0  0  0  0  1  6 30  4  0]\n",
            " [ 0  0  0  0  0  0  0  0  0  1  6 14  4]\n",
            " [ 0  0  0  0  0  0  0  0  1  0  1  5 36]]\n"
          ],
          "name": "stdout"
        }
      ]
    },
    {
      "cell_type": "code",
      "metadata": {
        "id": "b7BwiMb_UPrk",
        "colab_type": "code",
        "colab": {
          "resources": {
            "http://localhost:8080/nbextensions/google.colab/files.js": {
              "data": "Ly8gQ29weXJpZ2h0IDIwMTcgR29vZ2xlIExMQwovLwovLyBMaWNlbnNlZCB1bmRlciB0aGUgQXBhY2hlIExpY2Vuc2UsIFZlcnNpb24gMi4wICh0aGUgIkxpY2Vuc2UiKTsKLy8geW91IG1heSBub3QgdXNlIHRoaXMgZmlsZSBleGNlcHQgaW4gY29tcGxpYW5jZSB3aXRoIHRoZSBMaWNlbnNlLgovLyBZb3UgbWF5IG9idGFpbiBhIGNvcHkgb2YgdGhlIExpY2Vuc2UgYXQKLy8KLy8gICAgICBodHRwOi8vd3d3LmFwYWNoZS5vcmcvbGljZW5zZXMvTElDRU5TRS0yLjAKLy8KLy8gVW5sZXNzIHJlcXVpcmVkIGJ5IGFwcGxpY2FibGUgbGF3IG9yIGFncmVlZCB0byBpbiB3cml0aW5nLCBzb2Z0d2FyZQovLyBkaXN0cmlidXRlZCB1bmRlciB0aGUgTGljZW5zZSBpcyBkaXN0cmlidXRlZCBvbiBhbiAiQVMgSVMiIEJBU0lTLAovLyBXSVRIT1VUIFdBUlJBTlRJRVMgT1IgQ09ORElUSU9OUyBPRiBBTlkgS0lORCwgZWl0aGVyIGV4cHJlc3Mgb3IgaW1wbGllZC4KLy8gU2VlIHRoZSBMaWNlbnNlIGZvciB0aGUgc3BlY2lmaWMgbGFuZ3VhZ2UgZ292ZXJuaW5nIHBlcm1pc3Npb25zIGFuZAovLyBsaW1pdGF0aW9ucyB1bmRlciB0aGUgTGljZW5zZS4KCi8qKgogKiBAZmlsZW92ZXJ2aWV3IEhlbHBlcnMgZm9yIGdvb2dsZS5jb2xhYiBQeXRob24gbW9kdWxlLgogKi8KKGZ1bmN0aW9uKHNjb3BlKSB7CmZ1bmN0aW9uIHNwYW4odGV4dCwgc3R5bGVBdHRyaWJ1dGVzID0ge30pIHsKICBjb25zdCBlbGVtZW50ID0gZG9jdW1lbnQuY3JlYXRlRWxlbWVudCgnc3BhbicpOwogIGVsZW1lbnQudGV4dENvbnRlbnQgPSB0ZXh0OwogIGZvciAoY29uc3Qga2V5IG9mIE9iamVjdC5rZXlzKHN0eWxlQXR0cmlidXRlcykpIHsKICAgIGVsZW1lbnQuc3R5bGVba2V5XSA9IHN0eWxlQXR0cmlidXRlc1trZXldOwogIH0KICByZXR1cm4gZWxlbWVudDsKfQoKLy8gTWF4IG51bWJlciBvZiBieXRlcyB3aGljaCB3aWxsIGJlIHVwbG9hZGVkIGF0IGEgdGltZS4KY29uc3QgTUFYX1BBWUxPQURfU0laRSA9IDEwMCAqIDEwMjQ7CgpmdW5jdGlvbiBfdXBsb2FkRmlsZXMoaW5wdXRJZCwgb3V0cHV0SWQpIHsKICBjb25zdCBzdGVwcyA9IHVwbG9hZEZpbGVzU3RlcChpbnB1dElkLCBvdXRwdXRJZCk7CiAgY29uc3Qgb3V0cHV0RWxlbWVudCA9IGRvY3VtZW50LmdldEVsZW1lbnRCeUlkKG91dHB1dElkKTsKICAvLyBDYWNoZSBzdGVwcyBvbiB0aGUgb3V0cHV0RWxlbWVudCB0byBtYWtlIGl0IGF2YWlsYWJsZSBmb3IgdGhlIG5leHQgY2FsbAogIC8vIHRvIHVwbG9hZEZpbGVzQ29udGludWUgZnJvbSBQeXRob24uCiAgb3V0cHV0RWxlbWVudC5zdGVwcyA9IHN0ZXBzOwoKICByZXR1cm4gX3VwbG9hZEZpbGVzQ29udGludWUob3V0cHV0SWQpOwp9CgovLyBUaGlzIGlzIHJvdWdobHkgYW4gYXN5bmMgZ2VuZXJhdG9yIChub3Qgc3VwcG9ydGVkIGluIHRoZSBicm93c2VyIHlldCksCi8vIHdoZXJlIHRoZXJlIGFyZSBtdWx0aXBsZSBhc3luY2hyb25vdXMgc3RlcHMgYW5kIHRoZSBQeXRob24gc2lkZSBpcyBnb2luZwovLyB0byBwb2xsIGZvciBjb21wbGV0aW9uIG9mIGVhY2ggc3RlcC4KLy8gVGhpcyB1c2VzIGEgUHJvbWlzZSB0byBibG9jayB0aGUgcHl0aG9uIHNpZGUgb24gY29tcGxldGlvbiBvZiBlYWNoIHN0ZXAsCi8vIHRoZW4gcGFzc2VzIHRoZSByZXN1bHQgb2YgdGhlIHByZXZpb3VzIHN0ZXAgYXMgdGhlIGlucHV0IHRvIHRoZSBuZXh0IHN0ZXAuCmZ1bmN0aW9uIF91cGxvYWRGaWxlc0NvbnRpbnVlKG91dHB1dElkKSB7CiAgY29uc3Qgb3V0cHV0RWxlbWVudCA9IGRvY3VtZW50LmdldEVsZW1lbnRCeUlkKG91dHB1dElkKTsKICBjb25zdCBzdGVwcyA9IG91dHB1dEVsZW1lbnQuc3RlcHM7CgogIGNvbnN0IG5leHQgPSBzdGVwcy5uZXh0KG91dHB1dEVsZW1lbnQubGFzdFByb21pc2VWYWx1ZSk7CiAgcmV0dXJuIFByb21pc2UucmVzb2x2ZShuZXh0LnZhbHVlLnByb21pc2UpLnRoZW4oKHZhbHVlKSA9PiB7CiAgICAvLyBDYWNoZSB0aGUgbGFzdCBwcm9taXNlIHZhbHVlIHRvIG1ha2UgaXQgYXZhaWxhYmxlIHRvIHRoZSBuZXh0CiAgICAvLyBzdGVwIG9mIHRoZSBnZW5lcmF0b3IuCiAgICBvdXRwdXRFbGVtZW50Lmxhc3RQcm9taXNlVmFsdWUgPSB2YWx1ZTsKICAgIHJldHVybiBuZXh0LnZhbHVlLnJlc3BvbnNlOwogIH0pOwp9CgovKioKICogR2VuZXJhdG9yIGZ1bmN0aW9uIHdoaWNoIGlzIGNhbGxlZCBiZXR3ZWVuIGVhY2ggYXN5bmMgc3RlcCBvZiB0aGUgdXBsb2FkCiAqIHByb2Nlc3MuCiAqIEBwYXJhbSB7c3RyaW5nfSBpbnB1dElkIEVsZW1lbnQgSUQgb2YgdGhlIGlucHV0IGZpbGUgcGlja2VyIGVsZW1lbnQuCiAqIEBwYXJhbSB7c3RyaW5nfSBvdXRwdXRJZCBFbGVtZW50IElEIG9mIHRoZSBvdXRwdXQgZGlzcGxheS4KICogQHJldHVybiB7IUl0ZXJhYmxlPCFPYmplY3Q+fSBJdGVyYWJsZSBvZiBuZXh0IHN0ZXBzLgogKi8KZnVuY3Rpb24qIHVwbG9hZEZpbGVzU3RlcChpbnB1dElkLCBvdXRwdXRJZCkgewogIGNvbnN0IGlucHV0RWxlbWVudCA9IGRvY3VtZW50LmdldEVsZW1lbnRCeUlkKGlucHV0SWQpOwogIGlucHV0RWxlbWVudC5kaXNhYmxlZCA9IGZhbHNlOwoKICBjb25zdCBvdXRwdXRFbGVtZW50ID0gZG9jdW1lbnQuZ2V0RWxlbWVudEJ5SWQob3V0cHV0SWQpOwogIG91dHB1dEVsZW1lbnQuaW5uZXJIVE1MID0gJyc7CgogIGNvbnN0IHBpY2tlZFByb21pc2UgPSBuZXcgUHJvbWlzZSgocmVzb2x2ZSkgPT4gewogICAgaW5wdXRFbGVtZW50LmFkZEV2ZW50TGlzdGVuZXIoJ2NoYW5nZScsIChlKSA9PiB7CiAgICAgIHJlc29sdmUoZS50YXJnZXQuZmlsZXMpOwogICAgfSk7CiAgfSk7CgogIGNvbnN0IGNhbmNlbCA9IGRvY3VtZW50LmNyZWF0ZUVsZW1lbnQoJ2J1dHRvbicpOwogIGlucHV0RWxlbWVudC5wYXJlbnRFbGVtZW50LmFwcGVuZENoaWxkKGNhbmNlbCk7CiAgY2FuY2VsLnRleHRDb250ZW50ID0gJ0NhbmNlbCB1cGxvYWQnOwogIGNvbnN0IGNhbmNlbFByb21pc2UgPSBuZXcgUHJvbWlzZSgocmVzb2x2ZSkgPT4gewogICAgY2FuY2VsLm9uY2xpY2sgPSAoKSA9PiB7CiAgICAgIHJlc29sdmUobnVsbCk7CiAgICB9OwogIH0pOwoKICAvLyBXYWl0IGZvciB0aGUgdXNlciB0byBwaWNrIHRoZSBmaWxlcy4KICBjb25zdCBmaWxlcyA9IHlpZWxkIHsKICAgIHByb21pc2U6IFByb21pc2UucmFjZShbcGlja2VkUHJvbWlzZSwgY2FuY2VsUHJvbWlzZV0pLAogICAgcmVzcG9uc2U6IHsKICAgICAgYWN0aW9uOiAnc3RhcnRpbmcnLAogICAgfQogIH07CgogIGNhbmNlbC5yZW1vdmUoKTsKCiAgLy8gRGlzYWJsZSB0aGUgaW5wdXQgZWxlbWVudCBzaW5jZSBmdXJ0aGVyIHBpY2tzIGFyZSBub3QgYWxsb3dlZC4KICBpbnB1dEVsZW1lbnQuZGlzYWJsZWQgPSB0cnVlOwoKICBpZiAoIWZpbGVzKSB7CiAgICByZXR1cm4gewogICAgICByZXNwb25zZTogewogICAgICAgIGFjdGlvbjogJ2NvbXBsZXRlJywKICAgICAgfQogICAgfTsKICB9CgogIGZvciAoY29uc3QgZmlsZSBvZiBmaWxlcykgewogICAgY29uc3QgbGkgPSBkb2N1bWVudC5jcmVhdGVFbGVtZW50KCdsaScpOwogICAgbGkuYXBwZW5kKHNwYW4oZmlsZS5uYW1lLCB7Zm9udFdlaWdodDogJ2JvbGQnfSkpOwogICAgbGkuYXBwZW5kKHNwYW4oCiAgICAgICAgYCgke2ZpbGUudHlwZSB8fCAnbi9hJ30pIC0gJHtmaWxlLnNpemV9IGJ5dGVzLCBgICsKICAgICAgICBgbGFzdCBtb2RpZmllZDogJHsKICAgICAgICAgICAgZmlsZS5sYXN0TW9kaWZpZWREYXRlID8gZmlsZS5sYXN0TW9kaWZpZWREYXRlLnRvTG9jYWxlRGF0ZVN0cmluZygpIDoKICAgICAgICAgICAgICAgICAgICAgICAgICAgICAgICAgICAgJ24vYSd9IC0gYCkpOwogICAgY29uc3QgcGVyY2VudCA9IHNwYW4oJzAlIGRvbmUnKTsKICAgIGxpLmFwcGVuZENoaWxkKHBlcmNlbnQpOwoKICAgIG91dHB1dEVsZW1lbnQuYXBwZW5kQ2hpbGQobGkpOwoKICAgIGNvbnN0IGZpbGVEYXRhUHJvbWlzZSA9IG5ldyBQcm9taXNlKChyZXNvbHZlKSA9PiB7CiAgICAgIGNvbnN0IHJlYWRlciA9IG5ldyBGaWxlUmVhZGVyKCk7CiAgICAgIHJlYWRlci5vbmxvYWQgPSAoZSkgPT4gewogICAgICAgIHJlc29sdmUoZS50YXJnZXQucmVzdWx0KTsKICAgICAgfTsKICAgICAgcmVhZGVyLnJlYWRBc0FycmF5QnVmZmVyKGZpbGUpOwogICAgfSk7CiAgICAvLyBXYWl0IGZvciB0aGUgZGF0YSB0byBiZSByZWFkeS4KICAgIGxldCBmaWxlRGF0YSA9IHlpZWxkIHsKICAgICAgcHJvbWlzZTogZmlsZURhdGFQcm9taXNlLAogICAgICByZXNwb25zZTogewogICAgICAgIGFjdGlvbjogJ2NvbnRpbnVlJywKICAgICAgfQogICAgfTsKCiAgICAvLyBVc2UgYSBjaHVua2VkIHNlbmRpbmcgdG8gYXZvaWQgbWVzc2FnZSBzaXplIGxpbWl0cy4gU2VlIGIvNjIxMTU2NjAuCiAgICBsZXQgcG9zaXRpb24gPSAwOwogICAgd2hpbGUgKHBvc2l0aW9uIDwgZmlsZURhdGEuYnl0ZUxlbmd0aCkgewogICAgICBjb25zdCBsZW5ndGggPSBNYXRoLm1pbihmaWxlRGF0YS5ieXRlTGVuZ3RoIC0gcG9zaXRpb24sIE1BWF9QQVlMT0FEX1NJWkUpOwogICAgICBjb25zdCBjaHVuayA9IG5ldyBVaW50OEFycmF5KGZpbGVEYXRhLCBwb3NpdGlvbiwgbGVuZ3RoKTsKICAgICAgcG9zaXRpb24gKz0gbGVuZ3RoOwoKICAgICAgY29uc3QgYmFzZTY0ID0gYnRvYShTdHJpbmcuZnJvbUNoYXJDb2RlLmFwcGx5KG51bGwsIGNodW5rKSk7CiAgICAgIHlpZWxkIHsKICAgICAgICByZXNwb25zZTogewogICAgICAgICAgYWN0aW9uOiAnYXBwZW5kJywKICAgICAgICAgIGZpbGU6IGZpbGUubmFtZSwKICAgICAgICAgIGRhdGE6IGJhc2U2NCwKICAgICAgICB9LAogICAgICB9OwogICAgICBwZXJjZW50LnRleHRDb250ZW50ID0KICAgICAgICAgIGAke01hdGgucm91bmQoKHBvc2l0aW9uIC8gZmlsZURhdGEuYnl0ZUxlbmd0aCkgKiAxMDApfSUgZG9uZWA7CiAgICB9CiAgfQoKICAvLyBBbGwgZG9uZS4KICB5aWVsZCB7CiAgICByZXNwb25zZTogewogICAgICBhY3Rpb246ICdjb21wbGV0ZScsCiAgICB9CiAgfTsKfQoKc2NvcGUuZ29vZ2xlID0gc2NvcGUuZ29vZ2xlIHx8IHt9OwpzY29wZS5nb29nbGUuY29sYWIgPSBzY29wZS5nb29nbGUuY29sYWIgfHwge307CnNjb3BlLmdvb2dsZS5jb2xhYi5fZmlsZXMgPSB7CiAgX3VwbG9hZEZpbGVzLAogIF91cGxvYWRGaWxlc0NvbnRpbnVlLAp9Owp9KShzZWxmKTsK",
              "ok": true,
              "headers": [
                [
                  "content-type",
                  "application/javascript"
                ]
              ],
              "status": 200,
              "status_text": ""
            }
          },
          "base_uri": "https://localhost:8080/",
          "height": 72
        },
        "outputId": "5c5f1004-d0da-4071-bc72-55ab0e9aa6ca"
      },
      "source": [
        "from google.colab import files\n",
        "uploaded = files.upload()"
      ],
      "execution_count": 86,
      "outputs": [
        {
          "output_type": "display_data",
          "data": {
            "text/html": [
              "\n",
              "     <input type=\"file\" id=\"files-20ad4a6a-dc23-4484-8df7-4bb6a8231e5f\" name=\"files[]\" multiple disabled\n",
              "        style=\"border:none\" />\n",
              "     <output id=\"result-20ad4a6a-dc23-4484-8df7-4bb6a8231e5f\">\n",
              "      Upload widget is only available when the cell has been executed in the\n",
              "      current browser session. Please rerun this cell to enable.\n",
              "      </output>\n",
              "      <script src=\"/nbextensions/google.colab/files.js\"></script> "
            ],
            "text/plain": [
              "<IPython.core.display.HTML object>"
            ]
          },
          "metadata": {
            "tags": []
          }
        },
        {
          "output_type": "stream",
          "text": [
            "Saving s3759790_predictions.csv to s3759790_predictions.csv\n"
          ],
          "name": "stdout"
        }
      ]
    },
    {
      "cell_type": "markdown",
      "metadata": {
        "id": "jkknlrvmNjAP",
        "colab_type": "text"
      },
      "source": [
        "## Predictions On Test Dataset"
      ]
    },
    {
      "cell_type": "code",
      "metadata": {
        "id": "4OwV0oKeNrQw",
        "colab_type": "code",
        "colab": {
          "base_uri": "https://localhost:8080/",
          "height": 204
        },
        "outputId": "1376c5c7-86dd-4e6c-dc1f-072f748cf79f"
      },
      "source": [
        "testdata = pd.read_csv('test_data.csv')\n",
        "testdata.head()"
      ],
      "execution_count": 75,
      "outputs": [
        {
          "output_type": "execute_result",
          "data": {
            "text/html": [
              "<div>\n",
              "<style scoped>\n",
              "    .dataframe tbody tr th:only-of-type {\n",
              "        vertical-align: middle;\n",
              "    }\n",
              "\n",
              "    .dataframe tbody tr th {\n",
              "        vertical-align: top;\n",
              "    }\n",
              "\n",
              "    .dataframe thead th {\n",
              "        text-align: right;\n",
              "    }\n",
              "</style>\n",
              "<table border=\"1\" class=\"dataframe\">\n",
              "  <thead>\n",
              "    <tr style=\"text-align: right;\">\n",
              "      <th></th>\n",
              "      <th>filename</th>\n",
              "      <th>person_id</th>\n",
              "      <th>series</th>\n",
              "    </tr>\n",
              "  </thead>\n",
              "  <tbody>\n",
              "    <tr>\n",
              "      <th>0</th>\n",
              "      <td>face_33.jpg</td>\n",
              "      <td>2</td>\n",
              "      <td>1</td>\n",
              "    </tr>\n",
              "    <tr>\n",
              "      <th>1</th>\n",
              "      <td>face_2148.jpg</td>\n",
              "      <td>2</td>\n",
              "      <td>2</td>\n",
              "    </tr>\n",
              "    <tr>\n",
              "      <th>2</th>\n",
              "      <td>face_2119.jpg</td>\n",
              "      <td>2</td>\n",
              "      <td>1</td>\n",
              "    </tr>\n",
              "    <tr>\n",
              "      <th>3</th>\n",
              "      <td>face_1262.jpg</td>\n",
              "      <td>2</td>\n",
              "      <td>1</td>\n",
              "    </tr>\n",
              "    <tr>\n",
              "      <th>4</th>\n",
              "      <td>face_516.jpg</td>\n",
              "      <td>2</td>\n",
              "      <td>2</td>\n",
              "    </tr>\n",
              "  </tbody>\n",
              "</table>\n",
              "</div>"
            ],
            "text/plain": [
              "        filename  person_id  series\n",
              "0    face_33.jpg          2       1\n",
              "1  face_2148.jpg          2       2\n",
              "2  face_2119.jpg          2       1\n",
              "3  face_1262.jpg          2       1\n",
              "4   face_516.jpg          2       2"
            ]
          },
          "metadata": {
            "tags": []
          },
          "execution_count": 75
        }
      ]
    },
    {
      "cell_type": "code",
      "metadata": {
        "id": "GS3-KLlwNueP",
        "colab_type": "code",
        "colab": {}
      },
      "source": [
        "predict_data = pd.merge(testdata,data, on='filename')"
      ],
      "execution_count": 76,
      "outputs": []
    },
    {
      "cell_type": "code",
      "metadata": {
        "id": "NqADy4TxNw59",
        "colab_type": "code",
        "colab": {
          "base_uri": "https://localhost:8080/",
          "height": 204
        },
        "outputId": "a47bdaaf-df93-4efd-a773-e29903e41088"
      },
      "source": [
        "predict_data.head()\n"
      ],
      "execution_count": 77,
      "outputs": [
        {
          "output_type": "execute_result",
          "data": {
            "text/html": [
              "<div>\n",
              "<style scoped>\n",
              "    .dataframe tbody tr th:only-of-type {\n",
              "        vertical-align: middle;\n",
              "    }\n",
              "\n",
              "    .dataframe tbody tr th {\n",
              "        vertical-align: top;\n",
              "    }\n",
              "\n",
              "    .dataframe thead th {\n",
              "        text-align: right;\n",
              "    }\n",
              "</style>\n",
              "<table border=\"1\" class=\"dataframe\">\n",
              "  <thead>\n",
              "    <tr style=\"text-align: right;\">\n",
              "      <th></th>\n",
              "      <th>filename</th>\n",
              "      <th>person_id</th>\n",
              "      <th>series</th>\n",
              "      <th>filepath</th>\n",
              "    </tr>\n",
              "  </thead>\n",
              "  <tbody>\n",
              "    <tr>\n",
              "      <th>0</th>\n",
              "      <td>face_33.jpg</td>\n",
              "      <td>2</td>\n",
              "      <td>1</td>\n",
              "      <td>modified_data/face_33.jpg</td>\n",
              "    </tr>\n",
              "    <tr>\n",
              "      <th>1</th>\n",
              "      <td>face_2148.jpg</td>\n",
              "      <td>2</td>\n",
              "      <td>2</td>\n",
              "      <td>modified_data/face_2148.jpg</td>\n",
              "    </tr>\n",
              "    <tr>\n",
              "      <th>2</th>\n",
              "      <td>face_2119.jpg</td>\n",
              "      <td>2</td>\n",
              "      <td>1</td>\n",
              "      <td>modified_data/face_2119.jpg</td>\n",
              "    </tr>\n",
              "    <tr>\n",
              "      <th>3</th>\n",
              "      <td>face_1262.jpg</td>\n",
              "      <td>2</td>\n",
              "      <td>1</td>\n",
              "      <td>modified_data/face_1262.jpg</td>\n",
              "    </tr>\n",
              "    <tr>\n",
              "      <th>4</th>\n",
              "      <td>face_516.jpg</td>\n",
              "      <td>2</td>\n",
              "      <td>2</td>\n",
              "      <td>modified_data/face_516.jpg</td>\n",
              "    </tr>\n",
              "  </tbody>\n",
              "</table>\n",
              "</div>"
            ],
            "text/plain": [
              "        filename  person_id  series                     filepath\n",
              "0    face_33.jpg          2       1    modified_data/face_33.jpg\n",
              "1  face_2148.jpg          2       2  modified_data/face_2148.jpg\n",
              "2  face_2119.jpg          2       1  modified_data/face_2119.jpg\n",
              "3  face_1262.jpg          2       1  modified_data/face_1262.jpg\n",
              "4   face_516.jpg          2       2   modified_data/face_516.jpg"
            ]
          },
          "metadata": {
            "tags": []
          },
          "execution_count": 77
        }
      ]
    },
    {
      "cell_type": "code",
      "metadata": {
        "id": "kTkbQqVKNzPr",
        "colab_type": "code",
        "colab": {}
      },
      "source": [
        "predict_data = predict_data[['filepath','filename']]"
      ],
      "execution_count": 78,
      "outputs": []
    },
    {
      "cell_type": "code",
      "metadata": {
        "id": "SeUmnKMzN1MV",
        "colab_type": "code",
        "colab": {}
      },
      "source": [
        "predict_datagen = ImageDataGenerator(rescale=1./255, data_format='channels_last')\n"
      ],
      "execution_count": 79,
      "outputs": []
    },
    {
      "cell_type": "code",
      "metadata": {
        "id": "rwCdQyo6N3El",
        "colab_type": "code",
        "colab": {
          "base_uri": "https://localhost:8080/",
          "height": 34
        },
        "outputId": "c8796d02-eccf-46fd-da58-a7bf80264685"
      },
      "source": [
        "predict_generator = predict_datagen.flow_from_dataframe(\n",
        "    dataframe=predict_data,\n",
        "    directory='./',\n",
        "    x_col=\"filepath\",\n",
        "    y_col=\"filename\",\n",
        "    target_size=(32, 32),\n",
        "    batch_size=batch_size,\n",
        "    shuffle = False,\n",
        "    class_mode='categorical')"
      ],
      "execution_count": 80,
      "outputs": [
        {
          "output_type": "stream",
          "text": [
            "Found 465 validated image filenames belonging to 465 classes.\n"
          ],
          "name": "stdout"
        }
      ]
    },
    {
      "cell_type": "code",
      "metadata": {
        "id": "5eAkEnovN6ib",
        "colab_type": "code",
        "colab": {
          "base_uri": "https://localhost:8080/",
          "height": 51
        },
        "outputId": "bab713f4-caac-42a8-9c55-2477dc4095c7"
      },
      "source": [
        "predictions = model2.predict_generator(predict_generator,verbose=1)\n",
        "print(\"Prediction shape is\", predictions.shape)\n",
        "\n",
        "predictedLabels =[]\n",
        "for i in range(0,len(predictions[:,0])):\n",
        "    predictedLabels.append(np.argmax(predictions[i]))\n",
        "\n",
        "predictedLabels = np.asarray(predictedLabels)"
      ],
      "execution_count": 81,
      "outputs": [
        {
          "output_type": "stream",
          "text": [
            "15/15 [==============================] - 1s 76ms/step\n",
            "Prediction shape is (465, 13)\n"
          ],
          "name": "stdout"
        }
      ]
    },
    {
      "cell_type": "code",
      "metadata": {
        "id": "iZYEJB-NN8Ww",
        "colab_type": "code",
        "colab": {
          "base_uri": "https://localhost:8080/",
          "height": 493
        },
        "outputId": "9b3a6b4d-341a-40b5-aff4-68b2eb25d62a"
      },
      "source": [
        "predictedLabels"
      ],
      "execution_count": 82,
      "outputs": [
        {
          "output_type": "execute_result",
          "data": {
            "text/plain": [
              "array([ 6, 12,  7,  6,  1,  1, 12,  2, 10,  1, 12,  6, 10,  1,  9,  5,  6,\n",
              "        0,  6, 11,  7, 11,  7,  6,  6, 12,  6, 12,  2, 10,  1, 11, 12, 11,\n",
              "       12, 12,  8,  8,  6,  6, 12,  8,  9,  7,  4,  3,  9,  5,  4, 12,  1,\n",
              "       11, 12,  6,  3,  5,  7,  6,  6, 12,  6,  4,  4,  1, 12,  2,  2,  3,\n",
              "       10,  0,  8, 12, 10, 12,  4,  0,  7, 10, 12, 11,  6,  7,  6,  7, 10,\n",
              "        5, 12,  1,  0,  6,  4,  3,  9,  6,  9,  0,  0,  0, 12,  1,  8,  2,\n",
              "       10,  6,  2, 12,  6,  6,  6,  2,  9,  4,  7, 10, 12,  7, 12,  9,  9,\n",
              "       11, 10,  2,  6,  3,  7,  1, 12,  5,  1,  5,  6, 10,  1,  6,  8,  0,\n",
              "        6,  2,  3,  6,  9,  1, 10, 11, 11,  7,  9,  1, 12, 10,  5, 12, 12,\n",
              "        1,  5, 10,  7,  3, 10,  6,  8,  6, 10, 10,  6,  4,  6,  7,  7, 11,\n",
              "        3,  7, 12,  6,  0,  2,  2,  5, 12,  8,  6,  5,  7, 10,  4,  4,  9,\n",
              "       10,  2,  3,  4, 10,  8,  3,  4,  9,  6, 12,  9, 11, 10,  2,  8, 10,\n",
              "        9,  0,  6,  0,  1, 10,  1, 12,  6,  6,  4,  5,  4,  9,  7,  0,  4,\n",
              "        4, 12,  4,  6,  8,  8,  5,  6,  8, 11,  7,  1,  4,  4,  2, 12,  4,\n",
              "        5,  2,  2,  7,  3, 10, 11,  9,  7,  0,  9,  6, 12,  2,  4,  9,  9,\n",
              "        3,  4,  7,  9,  1,  0,  3,  0,  2, 11,  4,  4,  8,  8,  4,  6,  2,\n",
              "        4, 10,  3,  9,  8,  3,  6,  9,  1,  6,  3,  0,  7, 10,  7,  3,  4,\n",
              "        9, 10, 10,  6,  2,  9,  2,  2,  4,  8,  1,  4,  0, 10,  7,  3,  8,\n",
              "        2,  2,  3,  6,  3,  3,  8, 10,  4,  3,  8, 12,  2,  4,  5,  0,  7,\n",
              "        7,  3,  6,  6,  5,  7,  7,  0,  7,  6,  4,  2,  7,  8,  3,  4,  6,\n",
              "       10, 10,  3,  9,  2,  3,  2,  8,  8,  3,  4,  4,  3,  4,  2,  9,  2,\n",
              "       10, 10,  7,  3, 10,  4,  3,  1,  7,  7,  4,  6,  9,  6, 12,  4,  3,\n",
              "        9,  4, 12,  9,  9,  4,  4,  3,  6,  7,  7,  2,  9,  7,  2, 10,  0,\n",
              "        3, 10,  3,  4,  5, 12,  7,  6, 11,  2,  9,  0,  7,  6,  3,  7, 11,\n",
              "        4,  3,  3,  0, 10,  2,  3, 10,  3,  3,  4,  7,  6,  3,  1,  7,  0,\n",
              "        3, 11,  6,  2, 10,  6,  4,  3,  3,  3,  1,  8,  3,  9, 10,  0,  9,\n",
              "        2,  6,  7,  7,  1,  7,  1,  4,  9,  8,  3,  3,  1,  9, 11,  2,  4,\n",
              "        6,  7,  6,  6,  7, 12])"
            ]
          },
          "metadata": {
            "tags": []
          },
          "execution_count": 82
        }
      ]
    },
    {
      "cell_type": "code",
      "metadata": {
        "id": "klYBADCfN9-W",
        "colab_type": "code",
        "colab": {}
      },
      "source": [
        "for n, i in enumerate(predictedLabels):\n",
        "    if i == 0:\n",
        "        predictedLabels[n] = -15\n",
        "    elif i == 1:\n",
        "        predictedLabels[n] = -30\n",
        "    elif i == 2:\n",
        "        predictedLabels[n] = -45\n",
        "    elif i == 3:\n",
        "        predictedLabels[n] = -60\n",
        "    elif i == 4:\n",
        "        predictedLabels[n] = -75\n",
        "    elif i == 5:\n",
        "        predictedLabels[n] = -90\n",
        "    elif i == 6:\n",
        "        predictedLabels[n] = 0\n",
        "    elif i == 7:\n",
        "        predictedLabels[n] = 15\n",
        "    elif i == 8:\n",
        "        predictedLabels[n] = 30\n",
        "    elif i == 9:\n",
        "        predictedLabels[n] = 45\n",
        "    elif i == 10:\n",
        "        predictedLabels[n] = 60\n",
        "    elif i == 11:\n",
        "        predictedLabels[n] = 75\n",
        "    else:\n",
        "        predictedLabels[n] = 90"
      ],
      "execution_count": 83,
      "outputs": []
    },
    {
      "cell_type": "code",
      "metadata": {
        "id": "SRHCi-nEOAcL",
        "colab_type": "code",
        "colab": {}
      },
      "source": [
        "import pandas as pd\n",
        "df = pd.DataFrame(predictedLabels, columns=[\"pan\"])\n",
        "result = pd.concat([predict_data['filename'],df], axis=1, sort=False)"
      ],
      "execution_count": 84,
      "outputs": []
    },
    {
      "cell_type": "code",
      "metadata": {
        "id": "_Otz512BOKii",
        "colab_type": "code",
        "colab": {
          "base_uri": "https://localhost:8080/",
          "height": 204
        },
        "outputId": "2960af14-7e54-46d2-901d-fd669f30f7d1"
      },
      "source": [
        "result.head()"
      ],
      "execution_count": 85,
      "outputs": [
        {
          "output_type": "execute_result",
          "data": {
            "text/html": [
              "<div>\n",
              "<style scoped>\n",
              "    .dataframe tbody tr th:only-of-type {\n",
              "        vertical-align: middle;\n",
              "    }\n",
              "\n",
              "    .dataframe tbody tr th {\n",
              "        vertical-align: top;\n",
              "    }\n",
              "\n",
              "    .dataframe thead th {\n",
              "        text-align: right;\n",
              "    }\n",
              "</style>\n",
              "<table border=\"1\" class=\"dataframe\">\n",
              "  <thead>\n",
              "    <tr style=\"text-align: right;\">\n",
              "      <th></th>\n",
              "      <th>filename</th>\n",
              "      <th>pan</th>\n",
              "    </tr>\n",
              "  </thead>\n",
              "  <tbody>\n",
              "    <tr>\n",
              "      <th>0</th>\n",
              "      <td>face_33.jpg</td>\n",
              "      <td>0</td>\n",
              "    </tr>\n",
              "    <tr>\n",
              "      <th>1</th>\n",
              "      <td>face_2148.jpg</td>\n",
              "      <td>90</td>\n",
              "    </tr>\n",
              "    <tr>\n",
              "      <th>2</th>\n",
              "      <td>face_2119.jpg</td>\n",
              "      <td>15</td>\n",
              "    </tr>\n",
              "    <tr>\n",
              "      <th>3</th>\n",
              "      <td>face_1262.jpg</td>\n",
              "      <td>0</td>\n",
              "    </tr>\n",
              "    <tr>\n",
              "      <th>4</th>\n",
              "      <td>face_516.jpg</td>\n",
              "      <td>-30</td>\n",
              "    </tr>\n",
              "  </tbody>\n",
              "</table>\n",
              "</div>"
            ],
            "text/plain": [
              "        filename  pan\n",
              "0    face_33.jpg    0\n",
              "1  face_2148.jpg   90\n",
              "2  face_2119.jpg   15\n",
              "3  face_1262.jpg    0\n",
              "4   face_516.jpg  -30"
            ]
          },
          "metadata": {
            "tags": []
          },
          "execution_count": 85
        }
      ]
    },
    {
      "cell_type": "code",
      "metadata": {
        "id": "_ZWkc5a4ONS1",
        "colab_type": "code",
        "colab": {}
      },
      "source": [
        "predict_csv = pd.read_csv('s3759790_predictions.csv') \n",
        "pan_pred_data = pd.merge(predict_csv,result, on='filename')"
      ],
      "execution_count": 87,
      "outputs": []
    },
    {
      "cell_type": "code",
      "metadata": {
        "id": "xuRr47xNSh6y",
        "colab_type": "code",
        "colab": {
          "base_uri": "https://localhost:8080/",
          "height": 204
        },
        "outputId": "8d394a0a-55cf-4c06-8b6d-af69d95673ee"
      },
      "source": [
        "pan_pred_data.head()"
      ],
      "execution_count": 88,
      "outputs": [
        {
          "output_type": "execute_result",
          "data": {
            "text/html": [
              "<div>\n",
              "<style scoped>\n",
              "    .dataframe tbody tr th:only-of-type {\n",
              "        vertical-align: middle;\n",
              "    }\n",
              "\n",
              "    .dataframe tbody tr th {\n",
              "        vertical-align: top;\n",
              "    }\n",
              "\n",
              "    .dataframe thead th {\n",
              "        text-align: right;\n",
              "    }\n",
              "</style>\n",
              "<table border=\"1\" class=\"dataframe\">\n",
              "  <thead>\n",
              "    <tr style=\"text-align: right;\">\n",
              "      <th></th>\n",
              "      <th>filename</th>\n",
              "      <th>tilt</th>\n",
              "      <th>pan</th>\n",
              "    </tr>\n",
              "  </thead>\n",
              "  <tbody>\n",
              "    <tr>\n",
              "      <th>0</th>\n",
              "      <td>face_33.jpg</td>\n",
              "      <td>90</td>\n",
              "      <td>0</td>\n",
              "    </tr>\n",
              "    <tr>\n",
              "      <th>1</th>\n",
              "      <td>face_2148.jpg</td>\n",
              "      <td>60</td>\n",
              "      <td>90</td>\n",
              "    </tr>\n",
              "    <tr>\n",
              "      <th>2</th>\n",
              "      <td>face_2119.jpg</td>\n",
              "      <td>0</td>\n",
              "      <td>15</td>\n",
              "    </tr>\n",
              "    <tr>\n",
              "      <th>3</th>\n",
              "      <td>face_1262.jpg</td>\n",
              "      <td>15</td>\n",
              "      <td>0</td>\n",
              "    </tr>\n",
              "    <tr>\n",
              "      <th>4</th>\n",
              "      <td>face_516.jpg</td>\n",
              "      <td>-15</td>\n",
              "      <td>-30</td>\n",
              "    </tr>\n",
              "  </tbody>\n",
              "</table>\n",
              "</div>"
            ],
            "text/plain": [
              "        filename  tilt  pan\n",
              "0    face_33.jpg    90    0\n",
              "1  face_2148.jpg    60   90\n",
              "2  face_2119.jpg     0   15\n",
              "3  face_1262.jpg    15    0\n",
              "4   face_516.jpg   -15  -30"
            ]
          },
          "metadata": {
            "tags": []
          },
          "execution_count": 88
        }
      ]
    },
    {
      "cell_type": "code",
      "metadata": {
        "id": "uT8oR15CSj4Y",
        "colab_type": "code",
        "colab": {}
      },
      "source": [
        "pan_pred_data.to_csv('s3759790_predictions.csv', index=False)"
      ],
      "execution_count": 89,
      "outputs": []
    },
    {
      "cell_type": "code",
      "metadata": {
        "id": "T4KM8qc3SwAv",
        "colab_type": "code",
        "colab": {}
      },
      "source": [
        ""
      ],
      "execution_count": null,
      "outputs": []
    }
  ]
}